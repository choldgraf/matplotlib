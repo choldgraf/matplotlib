{
  "nbformat": 4,
  "metadata": {
    "language_info": {
      "version": "3.5.2",
      "file_extension": ".py",
      "nbconvert_exporter": "python",
      "codemirror_mode": {
        "version": 3,
        "name": "ipython"
      },
      "pygments_lexer": "ipython3",
      "mimetype": "text/x-python",
      "name": "python"
    },
    "kernelspec": {
      "language": "python",
      "name": "python3",
      "display_name": "Python 3"
    }
  },
  "cells": [
    {
      "cell_type": "code",
      "outputs": [],
      "execution_count": null,
      "metadata": {
        "collapsed": false
      },
      "source": [
        "%matplotlib inline"
      ]
    },
    {
      "cell_type": "markdown",
      "source": [
        "\n# Dark background style sheet\n\n\nThis example demonstrates the \"dark_background\" style, which uses white for\nelements that are typically black (text, borders, etc). Note that not all plot\nelements default to colors defined by an rc parameter.\n\n\n"
      ],
      "metadata": {}
    },
    {
      "cell_type": "code",
      "outputs": [],
      "execution_count": null,
      "metadata": {
        "collapsed": false
      },
      "source": [
        "import numpy as np\nimport matplotlib.pyplot as plt\n\n\nplt.style.use('dark_background')\n\nfig, ax = plt.subplots()\n\nL = 6\nx = np.linspace(0, L)\nncolors = len(plt.rcParams['axes.prop_cycle'])\nshift = np.linspace(0, L, ncolors, endpoint=False)\nfor s in shift:\n    ax.plot(x, np.sin(x + s), 'o-')\nax.set_xlabel('x-axis')\nax.set_ylabel('y-axis')\nax.set_title(\"'dark_background' style sheet\")\n\nplt.show()"
      ]
    }
  ],
  "nbformat_minor": 0
}