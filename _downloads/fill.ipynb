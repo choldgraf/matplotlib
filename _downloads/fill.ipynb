{
  "nbformat": 4,
  "metadata": {
    "language_info": {
      "version": "3.5.2",
      "file_extension": ".py",
      "nbconvert_exporter": "python",
      "codemirror_mode": {
        "version": 3,
        "name": "ipython"
      },
      "pygments_lexer": "ipython3",
      "mimetype": "text/x-python",
      "name": "python"
    },
    "kernelspec": {
      "language": "python",
      "name": "python3",
      "display_name": "Python 3"
    }
  },
  "cells": [
    {
      "cell_type": "code",
      "outputs": [],
      "execution_count": null,
      "metadata": {
        "collapsed": false
      },
      "source": [
        "%matplotlib inline"
      ]
    },
    {
      "cell_type": "markdown",
      "source": [
        "\n# Fill plot demo\n\n\nFirst example showcases the most basic fill plot a user can do with matplotlib.\n\nSecond example shows a few optional features:\n\n    * Multiple curves with a single command.\n    * Setting the fill color.\n    * Setting the opacity (alpha value).\n\n"
      ],
      "metadata": {}
    },
    {
      "cell_type": "code",
      "outputs": [],
      "execution_count": null,
      "metadata": {
        "collapsed": false
      },
      "source": [
        "import numpy as np\nimport matplotlib.pyplot as plt\n\nx = np.linspace(0, 1, 500)\ny = np.sin(4 * np.pi * x) * np.exp(-5 * x)\n\nfig, ax = plt.subplots()\n\nax.fill(x, y, zorder=10)\nax.grid(True, zorder=5)\n\nx = np.linspace(0, 2 * np.pi, 500)\ny1 = np.sin(x)\ny2 = np.sin(3 * x)\n\nfig, ax = plt.subplots()\nax.fill(x, y1, 'b', x, y2, 'r', alpha=0.3)\nplt.show()"
      ]
    }
  ],
  "nbformat_minor": 0
}