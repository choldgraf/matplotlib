{
  "cells": [
    {
      "cell_type": "code",
      "execution_count": null,
      "metadata": {
        "collapsed": false
      },
      "outputs": [],
      "source": [
        "%matplotlib inline"
      ]
    },
    {
      "cell_type": "markdown",
      "metadata": {},
      "source": [
        "\n\n# Annotation Demo\n\n\nSome examples of how to annotate points in figures.  You specify an\nannotation point xy=(x,y) and a text point xytext=(x,y) for the\nannotated points and text location, respectively.  Optionally, you can\nspecify the coordinate system of xy and xytext with one of the\nfollowing strings for xycoords and textcoords (default is 'data')\n\n\n  'figure points'   : points from the lower left corner of the figure\n  'figure pixels'   : pixels from the lower left corner of the figure\n  'figure fraction' : 0,0 is lower left of figure and 1,1 is upper, right\n  'axes points'     : points from lower left corner of axes\n  'axes pixels'     : pixels from lower left corner of axes\n  'axes fraction'   : 0,0 is lower left of axes and 1,1 is upper right\n  'offset points'   : Specify an offset (in points) from the xy value\n  'offset pixels'   : Specify an offset (in pixels) from the xy value\n  'data'            : use the axes data coordinate system\n\nOptionally, you can specify arrow properties which draws and arrow\nfrom the text to the annotated point by giving a dictionary of arrow\nproperties\n\nValid keys are\n\n  width : the width of the arrow in points\n  frac  : the fraction of the arrow length occupied by the head\n  headwidth : the width of the base of the arrow head in points\n  shrink : move the tip/base some % away from the annotated point and text\n  any key for matplotlib.patches.polygon  (e.g., facecolor)\n\nFor physical coordinate systems (points or pixels) the origin is the\n(bottom, left) of the figure or axes.\n\n"
      ]
    },
    {
      "cell_type": "code",
      "execution_count": null,
      "metadata": {
        "collapsed": false
      },
      "outputs": [],
      "source": [
        "import matplotlib.pyplot as plt\nfrom matplotlib.patches import Ellipse\nimport numpy as np\n\n\n# If only one location is given, the text and xypoint being\n# annotated are assumed to be the same\nfig = plt.figure()\nax = fig.add_subplot(111, autoscale_on=False, xlim=(-1, 5), ylim=(-3, 5))\n\nt = np.arange(0.0, 5.0, 0.01)\ns = np.cos(2*np.pi*t)\nline, = ax.plot(t, s)\n\nax.annotate('figure pixels',\n            xy=(10, 10), xycoords='figure pixels')\n\nax.annotate('figure points',\n            xy=(80, 80), xycoords='figure points')\n\nax.annotate('point offset from data',\n            xy=(2, 1), xycoords='data',\n            xytext=(-15, 25), textcoords='offset points',\n            arrowprops=dict(facecolor='black', shrink=0.05),\n            horizontalalignment='right', verticalalignment='bottom')\n\nax.annotate('axes fraction',\n            xy=(3, 1), xycoords='data',\n            xytext=(0.8, 0.95), textcoords='axes fraction',\n            arrowprops=dict(facecolor='black', shrink=0.05),\n            horizontalalignment='right', verticalalignment='top')\n\nax.annotate('figure fraction',\n            xy=(.025, .975), xycoords='figure fraction',\n            horizontalalignment='left', verticalalignment='top',\n            fontsize=20)\n\n# use negative points or pixels to specify from right, top -10, 10\n# is 10 points to the left of the right side of the axes and 10\n# points above the bottom\nax.annotate('pixel offset from axes fraction',\n            xy=(1, 0), xycoords='axes fraction',\n            xytext=(-20, 20), textcoords='offset pixels',\n            horizontalalignment='right',\n            verticalalignment='bottom')\n\n\n# You can specify the xypoint and the xytext in different positions and\n# coordinate systems, and optionally turn on a connecting line and mark\n# the point with a marker.  Annotations work on polar axes too.\n# In the example below, the xy point is in native coordinates (xycoords\n# defaults to 'data').  For a polar axes, this is in (theta, radius) space.\n# The text in the example is placed in the fractional figure coordinate system.\n# Text keyword args like horizontal and vertical alignment are respected.\nfig = plt.figure()\nax = fig.add_subplot(111, projection='polar')\nr = np.arange(0, 1, 0.001)\ntheta = 2*2*np.pi*r\nline, = ax.plot(theta, r)\n\nind = 800\nthisr, thistheta = r[ind], theta[ind]\nax.plot([thistheta], [thisr], 'o')\nax.annotate('a polar annotation',\n            xy=(thistheta, thisr),  # theta, radius\n            xytext=(0.05, 0.05),    # fraction, fraction\n            textcoords='figure fraction',\n            arrowprops=dict(facecolor='black', shrink=0.05),\n            horizontalalignment='left',\n            verticalalignment='bottom')\n\n\n# You can also use polar notation on a cartesian axes.  Here the native\n# coordinate system ('data') is cartesian, so you need to specify the\n# xycoords and textcoords as 'polar' if you want to use (theta, radius).\n\nel = Ellipse((0, 0), 10, 20, facecolor='r', alpha=0.5)\n\nfig = plt.figure()\nax = fig.add_subplot(111, aspect='equal')\nax.add_artist(el)\nel.set_clip_box(ax.bbox)\nax.annotate('the top',\n            xy=(np.pi/2., 10.),      # theta, radius\n            xytext=(np.pi/3, 20.),   # theta, radius\n            xycoords='polar',\n            textcoords='polar',\n            arrowprops=dict(facecolor='black', shrink=0.05),\n            horizontalalignment='left',\n            verticalalignment='bottom',\n            clip_on=True)  # clip to the axes bounding box\n\nax.set_xlim([-20, 20])\nax.set_ylim([-20, 20])\n\nplt.show()"
      ]
    }
  ],
  "metadata": {
    "kernelspec": {
      "display_name": "Python 3",
      "language": "python",
      "name": "python3"
    },
    "language_info": {
      "codemirror_mode": {
        "name": "ipython",
        "version": 3
      },
      "file_extension": ".py",
      "mimetype": "text/x-python",
      "name": "python",
      "nbconvert_exporter": "python",
      "pygments_lexer": "ipython3",
      "version": "3.6.0"
    }
  },
  "nbformat": 4,
  "nbformat_minor": 0
}