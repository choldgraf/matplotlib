{
  "nbformat": 4,
  "metadata": {
    "language_info": {
      "version": "3.5.2",
      "file_extension": ".py",
      "nbconvert_exporter": "python",
      "codemirror_mode": {
        "version": 3,
        "name": "ipython"
      },
      "pygments_lexer": "ipython3",
      "mimetype": "text/x-python",
      "name": "python"
    },
    "kernelspec": {
      "language": "python",
      "name": "python3",
      "display_name": "Python 3"
    }
  },
  "cells": [
    {
      "cell_type": "code",
      "outputs": [],
      "execution_count": null,
      "metadata": {
        "collapsed": false
      },
      "source": [
        "%matplotlib inline"
      ]
    },
    {
      "cell_type": "markdown",
      "source": [
        "\n# Legend Demo6\n\n\nShowcases legend entries with more than one legend key.\n\n"
      ],
      "metadata": {}
    },
    {
      "cell_type": "code",
      "outputs": [],
      "execution_count": null,
      "metadata": {
        "collapsed": false
      },
      "source": [
        "import matplotlib.pyplot as plt\nfrom matplotlib.legend_handler import HandlerTuple\n\nfig, (ax1, ax2) = plt.subplots(2, 1)\n\n# First plot: two legend keys for a single entry\np1 = ax1.scatter([1], [5], c='r', marker='s', s=100)\np2 = ax1.scatter([3], [2], c='b', marker='o', s=100)\n# `plot` returns a list, but we want the handle - thus the comma on the left\np3, = ax1.plot([1, 5], [4, 4], 'm-d')\n\n# Assign two of the handles to the same legend entry by putting them in a tuple\n# and using a generic handler map (which would be used for any additional\n# tuples of handles like (p1, p3)).\nl = ax1.legend([(p1, p3), p2], ['two keys', 'one key'], scatterpoints=1,\n               numpoints=1, handler_map={tuple: HandlerTuple(ndivide=None)})\n\n# Second plot: plot two bar charts on top of each other and change the padding\n# between the legend keys\nx_left = [1, 2, 3]\ny_pos = [1, 3, 2]\ny_neg = [2, 1, 4]\n\nrneg = ax2.bar(x_left, y_neg, width=0.5, color='w', hatch='///', label='-1')\nrpos = ax2.bar(x_left, y_pos, width=0.5, color='k', label='+1')\n\n# Treat each legend entry differently by using specific `HandlerTuple`s\nl = ax2.legend([(rpos, rneg), (rneg, rpos)], ['pad!=0', 'pad=0'],\n               handler_map={(rpos, rneg): HandlerTuple(ndivide=None),\n                            (rneg, rpos): HandlerTuple(ndivide=None, pad=0.)})\n\nplt.show()"
      ]
    }
  ],
  "nbformat_minor": 0
}