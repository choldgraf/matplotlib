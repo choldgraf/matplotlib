{
  "nbformat": 4,
  "metadata": {
    "language_info": {
      "version": "3.5.2",
      "file_extension": ".py",
      "nbconvert_exporter": "python",
      "codemirror_mode": {
        "version": 3,
        "name": "ipython"
      },
      "pygments_lexer": "ipython3",
      "mimetype": "text/x-python",
      "name": "python"
    },
    "kernelspec": {
      "language": "python",
      "name": "python3",
      "display_name": "Python 3"
    }
  },
  "cells": [
    {
      "cell_type": "code",
      "outputs": [],
      "execution_count": null,
      "metadata": {
        "collapsed": false
      },
      "source": [
        "%matplotlib inline"
      ]
    },
    {
      "cell_type": "markdown",
      "source": [
        "\n# Demo Axisline Style\n\n\n\n"
      ],
      "metadata": {}
    },
    {
      "cell_type": "code",
      "outputs": [],
      "execution_count": null,
      "metadata": {
        "collapsed": false
      },
      "source": [
        "from mpl_toolkits.axisartist.axislines import SubplotZero\nimport matplotlib.pyplot as plt\nimport numpy as np\n\nif 1:\n    fig = plt.figure(1)\n    ax = SubplotZero(fig, 111)\n    fig.add_subplot(ax)\n\n    for direction in [\"xzero\", \"yzero\"]:\n        ax.axis[direction].set_axisline_style(\"-|>\")\n        ax.axis[direction].set_visible(True)\n\n    for direction in [\"left\", \"right\", \"bottom\", \"top\"]:\n        ax.axis[direction].set_visible(False)\n\n    x = np.linspace(-0.5, 1., 100)\n    ax.plot(x, np.sin(x*np.pi))\n\n    plt.show()"
      ]
    }
  ],
  "nbformat_minor": 0
}