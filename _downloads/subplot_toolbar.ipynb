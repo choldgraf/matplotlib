{
  "nbformat": 4,
  "metadata": {
    "language_info": {
      "version": "3.5.2",
      "file_extension": ".py",
      "nbconvert_exporter": "python",
      "codemirror_mode": {
        "version": 3,
        "name": "ipython"
      },
      "pygments_lexer": "ipython3",
      "mimetype": "text/x-python",
      "name": "python"
    },
    "kernelspec": {
      "language": "python",
      "name": "python3",
      "display_name": "Python 3"
    }
  },
  "cells": [
    {
      "cell_type": "code",
      "outputs": [],
      "execution_count": null,
      "metadata": {
        "collapsed": false
      },
      "source": [
        "%matplotlib inline"
      ]
    },
    {
      "cell_type": "markdown",
      "source": [
        "\n# Subplot Toolbar\n\n\n\n"
      ],
      "metadata": {}
    },
    {
      "cell_type": "code",
      "outputs": [],
      "execution_count": null,
      "metadata": {
        "collapsed": false
      },
      "source": [
        "import matplotlib.pyplot as plt\nimport numpy.random as rnd\n\nfig = plt.figure()\nplt.subplot(221)\nplt.imshow(rnd.random((100, 100)))\nplt.subplot(222)\nplt.imshow(rnd.random((100, 100)))\nplt.subplot(223)\nplt.imshow(rnd.random((100, 100)))\nplt.subplot(224)\nplt.imshow(rnd.random((100, 100)))\n\nplt.subplot_tool()\nplt.show()"
      ]
    }
  ],
  "nbformat_minor": 0
}