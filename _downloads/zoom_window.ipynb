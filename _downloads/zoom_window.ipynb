{
  "nbformat": 4,
  "metadata": {
    "language_info": {
      "version": "3.5.2",
      "file_extension": ".py",
      "nbconvert_exporter": "python",
      "codemirror_mode": {
        "version": 3,
        "name": "ipython"
      },
      "pygments_lexer": "ipython3",
      "mimetype": "text/x-python",
      "name": "python"
    },
    "kernelspec": {
      "language": "python",
      "name": "python3",
      "display_name": "Python 3"
    }
  },
  "cells": [
    {
      "cell_type": "code",
      "outputs": [],
      "execution_count": null,
      "metadata": {
        "collapsed": false
      },
      "source": [
        "%matplotlib inline"
      ]
    },
    {
      "cell_type": "markdown",
      "source": [
        "\n# Zoom Window\n\n\nThis example shows how to connect events in one window, for example, a mouse\npress, to another figure window.\n\nIf you click on a point in the first window, the z and y limits of the\nsecond will be adjusted so that the center of the zoom in the second\nwindow will be the x,y coordinates of the clicked point.\n\nNote the diameter of the circles in the scatter are defined in\npoints**2, so their size is independent of the zoom\n\n"
      ],
      "metadata": {}
    },
    {
      "cell_type": "code",
      "outputs": [],
      "execution_count": null,
      "metadata": {
        "collapsed": false
      },
      "source": [
        "from matplotlib.pyplot import figure, show\nimport numpy\nfigsrc = figure()\nfigzoom = figure()\n\naxsrc = figsrc.add_subplot(111, xlim=(0, 1), ylim=(0, 1), autoscale_on=False)\naxzoom = figzoom.add_subplot(111, xlim=(0.45, 0.55), ylim=(0.4, .6),\n                             autoscale_on=False)\naxsrc.set_title('Click to zoom')\naxzoom.set_title('zoom window')\nx, y, s, c = numpy.random.rand(4, 200)\ns *= 200\n\n\naxsrc.scatter(x, y, s, c)\naxzoom.scatter(x, y, s, c)\n\n\ndef onpress(event):\n    if event.button != 1:\n        return\n    x, y = event.xdata, event.ydata\n    axzoom.set_xlim(x - 0.1, x + 0.1)\n    axzoom.set_ylim(y - 0.1, y + 0.1)\n    figzoom.canvas.draw()\n\nfigsrc.canvas.mpl_connect('button_press_event', onpress)\nshow()"
      ]
    }
  ],
  "nbformat_minor": 0
}