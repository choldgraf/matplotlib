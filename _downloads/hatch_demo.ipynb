{
  "nbformat": 4,
  "metadata": {
    "language_info": {
      "version": "3.5.2",
      "file_extension": ".py",
      "nbconvert_exporter": "python",
      "codemirror_mode": {
        "version": 3,
        "name": "ipython"
      },
      "pygments_lexer": "ipython3",
      "mimetype": "text/x-python",
      "name": "python"
    },
    "kernelspec": {
      "language": "python",
      "name": "python3",
      "display_name": "Python 3"
    }
  },
  "cells": [
    {
      "cell_type": "code",
      "outputs": [],
      "execution_count": null,
      "metadata": {
        "collapsed": false
      },
      "source": [
        "%matplotlib inline"
      ]
    },
    {
      "cell_type": "markdown",
      "source": [
        "\n# Hatch Demo\n\n\nHatching (pattern filled polygons) is supported currently in the PS,\nPDF, SVG and Agg backends only.\n\n"
      ],
      "metadata": {}
    },
    {
      "cell_type": "code",
      "outputs": [],
      "execution_count": null,
      "metadata": {
        "collapsed": false
      },
      "source": [
        "import matplotlib.pyplot as plt\nfrom matplotlib.patches import Ellipse, Polygon\n\nfig = plt.figure()\nax1 = fig.add_subplot(131)\nax1.bar(range(1, 5), range(1, 5), color='red', edgecolor='black', hatch=\"/\")\nax1.bar(range(1, 5), [6] * 4, bottom=range(1, 5), color='blue', edgecolor='black', hatch='//')\nax1.set_xticks([1.5, 2.5, 3.5, 4.5])\n\nax2 = fig.add_subplot(132)\nbars = ax2.bar(range(1, 5), range(1, 5), color='yellow', ecolor='black') + \\\n    ax2.bar(range(1, 5), [6] * 4, bottom=range(1, 5), color='green', ecolor='black')\nax2.set_xticks([1.5, 2.5, 3.5, 4.5])\n\npatterns = ('-', '+', 'x', '\\\\', '*', 'o', 'O', '.')\nfor bar, pattern in zip(bars, patterns):\n    bar.set_hatch(pattern)\n\nax3 = fig.add_subplot(133)\nax3.fill([1, 3, 3, 1], [1, 1, 2, 2], fill=False, hatch='\\\\')\nax3.add_patch(Ellipse((4, 1.5), 4, 0.5, fill=False, hatch='*'))\nax3.add_patch(Polygon([[0, 0], [4, 1.1], [6, 2.5], [2, 1.4]], closed=True,\n                      fill=False, hatch='/'))\nax3.set_xlim((0, 6))\nax3.set_ylim((0, 2.5))\n\nplt.show()"
      ]
    }
  ],
  "nbformat_minor": 0
}