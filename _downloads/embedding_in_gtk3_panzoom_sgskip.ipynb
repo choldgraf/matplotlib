{
  "nbformat": 4,
  "metadata": {
    "language_info": {
      "version": "3.5.2",
      "file_extension": ".py",
      "nbconvert_exporter": "python",
      "codemirror_mode": {
        "version": 3,
        "name": "ipython"
      },
      "pygments_lexer": "ipython3",
      "mimetype": "text/x-python",
      "name": "python"
    },
    "kernelspec": {
      "language": "python",
      "name": "python3",
      "display_name": "Python 3"
    }
  },
  "cells": [
    {
      "cell_type": "code",
      "outputs": [],
      "execution_count": null,
      "metadata": {
        "collapsed": false
      },
      "source": [
        "%matplotlib inline"
      ]
    },
    {
      "cell_type": "markdown",
      "source": [
        "\n# Embedding In GTK3 Panzoom\n\n\ndemonstrate NavigationToolbar with GTK3 accessed via pygobject\n\n"
      ],
      "metadata": {}
    },
    {
      "cell_type": "code",
      "outputs": [],
      "execution_count": null,
      "metadata": {
        "collapsed": false
      },
      "source": [
        "from gi.repository import Gtk\n\nfrom matplotlib.figure import Figure\nfrom numpy import arange, sin, pi\nfrom matplotlib.backends.backend_gtk3agg import FigureCanvasGTK3Agg as FigureCanvas\nfrom matplotlib.backends.backend_gtk3 import NavigationToolbar2GTK3 as NavigationToolbar\n\nwin = Gtk.Window()\nwin.connect(\"delete-event\", Gtk.main_quit)\nwin.set_default_size(400, 300)\nwin.set_title(\"Embedding in GTK\")\n\nf = Figure(figsize=(5, 4), dpi=100)\na = f.add_subplot(1, 1, 1)\nt = arange(0.0, 3.0, 0.01)\ns = sin(2*pi*t)\na.plot(t, s)\n\nvbox = Gtk.VBox()\nwin.add(vbox)\n\n# Add canvas to vbox\ncanvas = FigureCanvas(f)  # a Gtk.DrawingArea\nvbox.pack_start(canvas, True, True, 0)\n\n# Create toolbar\ntoolbar = NavigationToolbar(canvas, win)\nvbox.pack_start(toolbar, False, False, 0)\n\nwin.show_all()\nGtk.main()"
      ]
    }
  ],
  "nbformat_minor": 0
}