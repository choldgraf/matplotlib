{
  "nbformat": 4,
  "metadata": {
    "language_info": {
      "version": "3.5.2",
      "file_extension": ".py",
      "nbconvert_exporter": "python",
      "codemirror_mode": {
        "version": 3,
        "name": "ipython"
      },
      "pygments_lexer": "ipython3",
      "mimetype": "text/x-python",
      "name": "python"
    },
    "kernelspec": {
      "language": "python",
      "name": "python3",
      "display_name": "Python 3"
    }
  },
  "cells": [
    {
      "cell_type": "code",
      "outputs": [],
      "execution_count": null,
      "metadata": {
        "collapsed": false
      },
      "source": [
        "%matplotlib inline"
      ]
    },
    {
      "cell_type": "markdown",
      "source": [
        "\n# Nan Test\n\n\nExample: simple line plots with NaNs inserted.\n\n"
      ],
      "metadata": {}
    },
    {
      "cell_type": "code",
      "outputs": [],
      "execution_count": null,
      "metadata": {
        "collapsed": false
      },
      "source": [
        "import numpy as np\nimport matplotlib.pyplot as plt\n\nt = np.arange(0.0, 1.0 + 0.01, 0.01)\ns = np.cos(2 * 2 * np.pi * t)\nt[41:60] = np.nan\n\nplt.subplot(2, 1, 1)\nplt.plot(t, s, '-', lw=2)\n\nplt.xlabel('time (s)')\nplt.ylabel('voltage (mV)')\nplt.title('A sine wave with a gap of NaNs between 0.4 and 0.6')\nplt.grid(True)\n\nplt.subplot(2, 1, 2)\nt[0] = np.nan\nt[-1] = np.nan\nplt.plot(t, s, '-', lw=2)\nplt.title('Also with NaN in first and last point')\n\nplt.xlabel('time (s)')\nplt.ylabel('more nans')\nplt.grid(True)\n\nplt.show()"
      ]
    }
  ],
  "nbformat_minor": 0
}