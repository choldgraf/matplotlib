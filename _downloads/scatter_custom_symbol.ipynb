{
  "nbformat": 4,
  "metadata": {
    "language_info": {
      "version": "3.5.2",
      "file_extension": ".py",
      "nbconvert_exporter": "python",
      "codemirror_mode": {
        "version": 3,
        "name": "ipython"
      },
      "pygments_lexer": "ipython3",
      "mimetype": "text/x-python",
      "name": "python"
    },
    "kernelspec": {
      "language": "python",
      "name": "python3",
      "display_name": "Python 3"
    }
  },
  "cells": [
    {
      "cell_type": "code",
      "outputs": [],
      "execution_count": null,
      "metadata": {
        "collapsed": false
      },
      "source": [
        "%matplotlib inline"
      ]
    },
    {
      "cell_type": "markdown",
      "source": [
        "\n# Scatter Custom Symbol\n\n\n\n"
      ],
      "metadata": {}
    },
    {
      "cell_type": "code",
      "outputs": [],
      "execution_count": null,
      "metadata": {
        "collapsed": false
      },
      "source": [
        "import matplotlib.pyplot as plt\nfrom numpy import arange, pi, cos, sin\nfrom numpy.random import rand\n\n# unit area ellipse\nrx, ry = 3., 1.\narea = rx * ry * pi\ntheta = arange(0, 2*pi + 0.01, 0.1)\nverts = list(zip(rx/area*cos(theta), ry/area*sin(theta)))\n\nx, y, s, c = rand(4, 30)\ns *= 10**2.\n\nfig, ax = plt.subplots()\nax.scatter(x, y, s, c, marker=None, verts=verts)\n\nplt.show()"
      ]
    }
  ],
  "nbformat_minor": 0
}