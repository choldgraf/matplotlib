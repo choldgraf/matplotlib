{
  "nbformat": 4,
  "metadata": {
    "language_info": {
      "version": "3.5.2",
      "file_extension": ".py",
      "nbconvert_exporter": "python",
      "codemirror_mode": {
        "version": 3,
        "name": "ipython"
      },
      "pygments_lexer": "ipython3",
      "mimetype": "text/x-python",
      "name": "python"
    },
    "kernelspec": {
      "language": "python",
      "name": "python3",
      "display_name": "Python 3"
    }
  },
  "cells": [
    {
      "cell_type": "code",
      "outputs": [],
      "execution_count": null,
      "metadata": {
        "collapsed": false
      },
      "source": [
        "%matplotlib inline"
      ]
    },
    {
      "cell_type": "markdown",
      "source": [
        "\n# Frontpage plot example\n\n\nThis example reproduces the frontpage simple plot example.\n\n"
      ],
      "metadata": {}
    },
    {
      "cell_type": "code",
      "outputs": [],
      "execution_count": null,
      "metadata": {
        "collapsed": false
      },
      "source": [
        "import matplotlib.pyplot as plt\nimport matplotlib.cbook as cbook\nimport numpy as np\n\n\ndatafile = cbook.get_sample_data('membrane.dat', asfileobj=False)\nx = np.fromfile(datafile, np.float32)\n# 0.0005 is the sample interval\n\nfig, ax = plt.subplots()\nax.plot(x, linewidth=4)\nax.set_xlim(5000, 6000)\nax.set_ylim(-0.6, 0.1)\nax.set_xticks([])\nax.set_yticks([])\nfig.savefig(\"membrane_frontpage.png\", dpi=25)  # results in 160x120 px image"
      ]
    }
  ],
  "nbformat_minor": 0
}