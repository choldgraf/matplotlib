{
  "nbformat": 4,
  "metadata": {
    "language_info": {
      "version": "3.5.2",
      "file_extension": ".py",
      "nbconvert_exporter": "python",
      "codemirror_mode": {
        "version": 3,
        "name": "ipython"
      },
      "pygments_lexer": "ipython3",
      "mimetype": "text/x-python",
      "name": "python"
    },
    "kernelspec": {
      "language": "python",
      "name": "python3",
      "display_name": "Python 3"
    }
  },
  "cells": [
    {
      "cell_type": "code",
      "outputs": [],
      "execution_count": null,
      "metadata": {
        "collapsed": false
      },
      "source": [
        "%matplotlib inline"
      ]
    },
    {
      "cell_type": "markdown",
      "source": [
        "\n# Stackplot Demo\n\n\n\n"
      ],
      "metadata": {}
    },
    {
      "cell_type": "code",
      "outputs": [],
      "execution_count": null,
      "metadata": {
        "collapsed": false
      },
      "source": [
        "import numpy as np\nimport matplotlib.pyplot as plt\n\n# Fixing random state for reproducibility\nnp.random.seed(19680801)\n\n\ndef fnx():\n    return np.random.randint(5, 50, 10)\n\ny = np.row_stack((fnx(), fnx(), fnx()))\nx = np.arange(10)\n\ny1, y2, y3 = fnx(), fnx(), fnx()\n\nfig, ax = plt.subplots()\nax.stackplot(x, y)\nplt.show()\n\nfig, ax = plt.subplots()\nax.stackplot(x, y1, y2, y3)\nplt.show()"
      ]
    }
  ],
  "nbformat_minor": 0
}