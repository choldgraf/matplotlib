{
  "cells": [
    {
      "cell_type": "code",
      "execution_count": null,
      "metadata": {
        "collapsed": false
      },
      "outputs": [],
      "source": [
        "%matplotlib inline"
      ]
    },
    {
      "cell_type": "markdown",
      "metadata": {},
      "source": [
        "\n# Scatter Profile\n\n\nGenerate a scatterplot.\n\n\n=====   =======   =============   =============\nN       Classic   Base renderer   Ext renderer\n=====   =======   =============   =============\n20      0.22      0.14            0.14\n100     0.16      0.14            0.13\n1000    0.45      0.26            0.17\n10000   3.30      1.31            0.53\n50000   19.30     6.53            1.98\n=====   =======   =============   =============\n\n\n"
      ]
    },
    {
      "cell_type": "code",
      "execution_count": null,
      "metadata": {
        "collapsed": false
      },
      "outputs": [],
      "source": [
        "from __future__ import print_function  # only needed for python 2.x\nimport matplotlib.pyplot as plt\nimport numpy as np\n\nimport time\n\n# Fixing random state for reproducibility\nnp.random.seed(19680801)\n\n\nfor N in (20, 100, 1000, 10000, 50000):\n    tstart = time.time()\n    x = 0.9 * np.random.rand(N)\n    y = 0.9 * np.random.rand(N)\n    s = 20 * np.random.rand(N)\n    plt.scatter(x, y, s)\n    print('%d symbols in %1.2f s' % (N, time.time() - tstart))"
      ]
    }
  ],
  "metadata": {
    "kernelspec": {
      "display_name": "Python 3",
      "language": "python",
      "name": "python3"
    },
    "language_info": {
      "codemirror_mode": {
        "name": "ipython",
        "version": 3
      },
      "file_extension": ".py",
      "mimetype": "text/x-python",
      "name": "python",
      "nbconvert_exporter": "python",
      "pygments_lexer": "ipython3",
      "version": "3.6.2"
    }
  },
  "nbformat": 4,
  "nbformat_minor": 0
}