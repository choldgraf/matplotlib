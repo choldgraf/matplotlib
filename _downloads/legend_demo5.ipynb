{
  "cells": [
    {
      "cell_type": "code",
      "execution_count": null,
      "metadata": {
        "collapsed": false
      },
      "outputs": [],
      "source": [
        "%matplotlib inline"
      ]
    },
    {
      "cell_type": "markdown",
      "metadata": {},
      "source": [
        "\n# Legend Demo5\n\n\n\n"
      ]
    },
    {
      "cell_type": "code",
      "execution_count": null,
      "metadata": {
        "collapsed": false
      },
      "outputs": [],
      "source": [
        "from __future__ import (absolute_import, division,\n                        print_function, unicode_literals)\nimport six\nfrom matplotlib import pyplot as plt\nimport numpy as np\nfrom matplotlib.legend_handler import HandlerLineCollection\nimport matplotlib.collections as mcol\nfrom matplotlib.lines import Line2D\n\n\nclass HandlerDashedLines(HandlerLineCollection):\n    \"\"\"\n    Custom Handler for LineCollection instances.\n    \"\"\"\n    def create_artists(self, legend, orig_handle,\n                       xdescent, ydescent, width, height, fontsize, trans):\n        # figure out how many lines there are\n        numlines = len(orig_handle.get_segments())\n        xdata, xdata_marker = self.get_xdata(legend, xdescent, ydescent,\n                                             width, height, fontsize)\n        leglines = []\n        # divide the vertical space where the lines will go\n        # into equal parts based on the number of lines\n        ydata = ((height) / (numlines + 1)) * np.ones(xdata.shape, float)\n        # for each line, create the line at the proper location\n        # and set the dash pattern\n        for i in range(numlines):\n            legline = Line2D(xdata, ydata * (numlines - i) - ydescent)\n            self.update_prop(legline, orig_handle, legend)\n            # set color, dash pattern, and linewidth to that\n            # of the lines in linecollection\n            try:\n                color = orig_handle.get_colors()[i]\n            except IndexError:\n                color = orig_handle.get_colors()[0]\n            try:\n                dashes = orig_handle.get_dashes()[i]\n            except IndexError:\n                dashes = orig_handle.get_dashes()[0]\n            try:\n                lw = orig_handle.get_linewidths()[i]\n            except IndexError:\n                lw = orig_handle.get_linewidths()[0]\n            if dashes[0] is not None:\n                legline.set_dashes(dashes[1])\n            legline.set_color(color)\n            legline.set_transform(trans)\n            legline.set_linewidth(lw)\n            leglines.append(legline)\n        return leglines\n\nx = np.linspace(0, 5, 100)\n\nplt.figure()\ncolors = plt.rcParams['axes.prop_cycle'].by_key()['color'][:5]\nstyles = ['solid', 'dashed', 'dashed', 'dashed', 'solid']\nlines = []\nfor i, color, style in zip(range(5), colors, styles):\n    plt.plot(x, np.sin(x) - .1 * i, c=color, ls=style)\n\n\n# make proxy artists\n# make list of one line -- doesn't matter what the coordinates are\nline = [[(0, 0)]]\n# set up the proxy artist\nlc = mcol.LineCollection(5 * line, linestyles=styles, colors=colors)\n# create the legend\nplt.legend([lc], ['multi-line'], handler_map={type(lc): HandlerDashedLines()},\n           handlelength=2.5, handleheight=3)\n\nplt.show()"
      ]
    }
  ],
  "metadata": {
    "kernelspec": {
      "display_name": "Python 3",
      "language": "python",
      "name": "python3"
    },
    "language_info": {
      "codemirror_mode": {
        "name": "ipython",
        "version": 3
      },
      "file_extension": ".py",
      "mimetype": "text/x-python",
      "name": "python",
      "nbconvert_exporter": "python",
      "pygments_lexer": "ipython3",
      "version": "3.6.0"
    }
  },
  "nbformat": 4,
  "nbformat_minor": 0
}