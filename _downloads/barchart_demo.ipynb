{
  "nbformat": 4,
  "metadata": {
    "language_info": {
      "version": "3.5.2",
      "file_extension": ".py",
      "nbconvert_exporter": "python",
      "codemirror_mode": {
        "version": 3,
        "name": "ipython"
      },
      "pygments_lexer": "ipython3",
      "mimetype": "text/x-python",
      "name": "python"
    },
    "kernelspec": {
      "language": "python",
      "name": "python3",
      "display_name": "Python 3"
    }
  },
  "cells": [
    {
      "cell_type": "code",
      "outputs": [],
      "execution_count": null,
      "metadata": {
        "collapsed": false
      },
      "source": [
        "%matplotlib inline"
      ]
    },
    {
      "cell_type": "markdown",
      "source": [
        "\n# Barchart Demo\n\n\nBar chart demo with pairs of bars grouped for easy comparison.\n\n"
      ],
      "metadata": {}
    },
    {
      "cell_type": "code",
      "outputs": [],
      "execution_count": null,
      "metadata": {
        "collapsed": false
      },
      "source": [
        "import numpy as np\nimport matplotlib.pyplot as plt\n\n\nn_groups = 5\n\nmeans_men = (20, 35, 30, 35, 27)\nstd_men = (2, 3, 4, 1, 2)\n\nmeans_women = (25, 32, 34, 20, 25)\nstd_women = (3, 5, 2, 3, 3)\n\nfig, ax = plt.subplots()\n\nindex = np.arange(n_groups)\nbar_width = 0.35\n\nopacity = 0.4\nerror_config = {'ecolor': '0.3'}\n\nrects1 = plt.bar(index, means_men, bar_width,\n                 alpha=opacity,\n                 color='b',\n                 yerr=std_men,\n                 error_kw=error_config,\n                 label='Men')\n\nrects2 = plt.bar(index + bar_width, means_women, bar_width,\n                 alpha=opacity,\n                 color='r',\n                 yerr=std_women,\n                 error_kw=error_config,\n                 label='Women')\n\nplt.xlabel('Group')\nplt.ylabel('Scores')\nplt.title('Scores by group and gender')\nplt.xticks(index + bar_width / 2, ('A', 'B', 'C', 'D', 'E'))\nplt.legend()\n\nplt.tight_layout()\nplt.show()"
      ]
    }
  ],
  "nbformat_minor": 0
}