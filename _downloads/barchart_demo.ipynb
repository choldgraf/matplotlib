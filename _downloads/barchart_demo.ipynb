{
  "cells": [
    {
      "cell_type": "code",
      "execution_count": null,
      "metadata": {
        "collapsed": false
      },
      "outputs": [],
      "source": [
        "%matplotlib inline"
      ]
    },
    {
      "cell_type": "markdown",
      "metadata": {},
      "source": [
        "\n# Barchart Demo\n\n\nBar chart demo with pairs of bars grouped for easy comparison.\n\n"
      ]
    },
    {
      "cell_type": "code",
      "execution_count": null,
      "metadata": {
        "collapsed": false
      },
      "outputs": [],
      "source": [
        "import numpy as np\nimport matplotlib.pyplot as plt\n\n\nn_groups = 5\n\nmeans_men = (20, 35, 30, 35, 27)\nstd_men = (2, 3, 4, 1, 2)\n\nmeans_women = (25, 32, 34, 20, 25)\nstd_women = (3, 5, 2, 3, 3)\n\nfig, ax = plt.subplots()\n\nindex = np.arange(n_groups)\nbar_width = 0.35\n\nopacity = 0.4\nerror_config = {'ecolor': '0.3'}\n\nrects1 = plt.bar(index, means_men, bar_width,\n                 alpha=opacity,\n                 color='b',\n                 yerr=std_men,\n                 error_kw=error_config,\n                 label='Men')\n\nrects2 = plt.bar(index + bar_width, means_women, bar_width,\n                 alpha=opacity,\n                 color='r',\n                 yerr=std_women,\n                 error_kw=error_config,\n                 label='Women')\n\nplt.xlabel('Group')\nplt.ylabel('Scores')\nplt.title('Scores by group and gender')\nplt.xticks(index + bar_width / 2, ('A', 'B', 'C', 'D', 'E'))\nplt.legend()\n\nplt.tight_layout()\nplt.show()"
      ]
    }
  ],
  "metadata": {
    "kernelspec": {
      "display_name": "Python 3",
      "language": "python",
      "name": "python3"
    },
    "language_info": {
      "codemirror_mode": {
        "name": "ipython",
        "version": 3
      },
      "file_extension": ".py",
      "mimetype": "text/x-python",
      "name": "python",
      "nbconvert_exporter": "python",
      "pygments_lexer": "ipython3",
      "version": "3.6.0"
    }
  },
  "nbformat": 4,
  "nbformat_minor": 0
}