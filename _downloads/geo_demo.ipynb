{
  "cells": [
    {
      "cell_type": "code",
      "execution_count": null,
      "metadata": {
        "collapsed": false
      },
      "outputs": [],
      "source": [
        "%matplotlib inline"
      ]
    },
    {
      "cell_type": "markdown",
      "metadata": {},
      "source": [
        "\n# Geo Demo\n\n\n\n"
      ]
    },
    {
      "cell_type": "code",
      "execution_count": null,
      "metadata": {
        "collapsed": false
      },
      "outputs": [],
      "source": [
        "import matplotlib.pyplot as plt\n\nplt.figure()\nplt.subplot(111, projection=\"aitoff\")\nplt.title(\"Aitoff\")\nplt.grid(True)\n\nplt.figure()\nplt.subplot(111, projection=\"hammer\")\nplt.title(\"Hammer\")\nplt.grid(True)\n\nplt.figure()\nplt.subplot(111, projection=\"lambert\")\nplt.title(\"Lambert\")\nplt.grid(True)\n\nplt.figure()\nplt.subplot(111, projection=\"mollweide\")\nplt.title(\"Mollweide\")\nplt.grid(True)\n\nplt.show()"
      ]
    }
  ],
  "metadata": {
    "kernelspec": {
      "display_name": "Python 3",
      "language": "python",
      "name": "python3"
    },
    "language_info": {
      "codemirror_mode": {
        "name": "ipython",
        "version": 3
      },
      "file_extension": ".py",
      "mimetype": "text/x-python",
      "name": "python",
      "nbconvert_exporter": "python",
      "pygments_lexer": "ipython3",
      "version": "3.6.0"
    }
  },
  "nbformat": 4,
  "nbformat_minor": 0
}