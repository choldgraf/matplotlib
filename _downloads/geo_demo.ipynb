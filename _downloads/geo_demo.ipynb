{
  "nbformat": 4,
  "metadata": {
    "language_info": {
      "version": "3.5.2",
      "file_extension": ".py",
      "nbconvert_exporter": "python",
      "codemirror_mode": {
        "version": 3,
        "name": "ipython"
      },
      "pygments_lexer": "ipython3",
      "mimetype": "text/x-python",
      "name": "python"
    },
    "kernelspec": {
      "language": "python",
      "name": "python3",
      "display_name": "Python 3"
    }
  },
  "cells": [
    {
      "cell_type": "code",
      "outputs": [],
      "execution_count": null,
      "metadata": {
        "collapsed": false
      },
      "source": [
        "%matplotlib inline"
      ]
    },
    {
      "cell_type": "markdown",
      "source": [
        "\n# Geo Demo\n\n\n\n"
      ],
      "metadata": {}
    },
    {
      "cell_type": "code",
      "outputs": [],
      "execution_count": null,
      "metadata": {
        "collapsed": false
      },
      "source": [
        "import matplotlib.pyplot as plt\n\nplt.figure()\nplt.subplot(111, projection=\"aitoff\")\nplt.title(\"Aitoff\")\nplt.grid(True)\n\nplt.figure()\nplt.subplot(111, projection=\"hammer\")\nplt.title(\"Hammer\")\nplt.grid(True)\n\nplt.figure()\nplt.subplot(111, projection=\"lambert\")\nplt.title(\"Lambert\")\nplt.grid(True)\n\nplt.figure()\nplt.subplot(111, projection=\"mollweide\")\nplt.title(\"Mollweide\")\nplt.grid(True)\n\nplt.show()"
      ]
    }
  ],
  "nbformat_minor": 0
}