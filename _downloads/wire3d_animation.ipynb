{
  "nbformat": 4,
  "metadata": {
    "language_info": {
      "version": "3.5.2",
      "file_extension": ".py",
      "nbconvert_exporter": "python",
      "codemirror_mode": {
        "version": 3,
        "name": "ipython"
      },
      "pygments_lexer": "ipython3",
      "mimetype": "text/x-python",
      "name": "python"
    },
    "kernelspec": {
      "language": "python",
      "name": "python3",
      "display_name": "Python 3"
    }
  },
  "cells": [
    {
      "cell_type": "code",
      "outputs": [],
      "execution_count": null,
      "metadata": {
        "collapsed": false
      },
      "source": [
        "%matplotlib inline"
      ]
    },
    {
      "cell_type": "markdown",
      "source": [
        "\n# Rotating 3D wireframe plot\n\n\nA very simple 'animation' of a 3D plot.  See also rotate_axes3d_demo.\n\n"
      ],
      "metadata": {}
    },
    {
      "cell_type": "code",
      "outputs": [],
      "execution_count": null,
      "metadata": {
        "collapsed": false
      },
      "source": [
        "from __future__ import print_function\n\nfrom mpl_toolkits.mplot3d import axes3d\nimport matplotlib.pyplot as plt\nimport numpy as np\nimport time\n\n\ndef generate(X, Y, phi):\n    '''\n    Generates Z data for the points in the X, Y meshgrid and parameter phi.\n    '''\n    R = 1 - np.sqrt(X**2 + Y**2)\n    return np.cos(2 * np.pi * X + phi) * R\n\n\nfig = plt.figure()\nax = fig.add_subplot(111, projection='3d')\n\n# Make the X, Y meshgrid.\nxs = np.linspace(-1, 1, 50)\nys = np.linspace(-1, 1, 50)\nX, Y = np.meshgrid(xs, ys)\n\n# Set the z axis limits so they aren't recalculated each frame.\nax.set_zlim(-1, 1)\n\n# Begin plotting.\nwframe = None\ntstart = time.time()\nfor phi in np.linspace(0, 180. / np.pi, 100):\n    # If a line collection is already remove it before drawing.\n    if wframe:\n        ax.collections.remove(wframe)\n\n    # Plot the new wireframe and pause briefly before continuing.\n    Z = generate(X, Y, phi)\n    wframe = ax.plot_wireframe(X, Y, Z, rstride=2, cstride=2)\n    plt.pause(.001)\n\nprint('Average FPS: %f' % (100 / (time.time() - tstart)))"
      ]
    }
  ],
  "nbformat_minor": 0
}