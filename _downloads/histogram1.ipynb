{
  "nbformat": 4,
  "metadata": {
    "language_info": {
      "version": "3.5.2",
      "file_extension": ".py",
      "nbconvert_exporter": "python",
      "codemirror_mode": {
        "version": 3,
        "name": "ipython"
      },
      "pygments_lexer": "ipython3",
      "mimetype": "text/x-python",
      "name": "python"
    },
    "kernelspec": {
      "language": "python",
      "name": "python3",
      "display_name": "Python 3"
    }
  },
  "cells": [
    {
      "cell_type": "code",
      "outputs": [],
      "execution_count": null,
      "metadata": {
        "collapsed": false
      },
      "source": [
        "%matplotlib inline"
      ]
    },
    {
      "cell_type": "markdown",
      "source": [
        "\n# Frontpage histogram example\n\n\nThis example reproduces the frontpage histogram example.\n\n"
      ],
      "metadata": {}
    },
    {
      "cell_type": "code",
      "outputs": [],
      "execution_count": null,
      "metadata": {
        "collapsed": false
      },
      "source": [
        "import matplotlib.pyplot as plt\nimport numpy as np\n\n\nrandom_state = np.random.RandomState(19680801)\nX = random_state.randn(10000)\n\nfig, ax = plt.subplots()\nax.hist(X, bins=25, normed=True)\nx = np.linspace(-5, 5, 1000)\nax.plot(x, 1 / np.sqrt(2*np.pi) * np.exp(-(x**2)/2), linewidth=4)\nax.set_xticks([])\nax.set_yticks([])\nfig.savefig(\"histogram_frontpage.png\", dpi=25)  # results in 160x120 px image"
      ]
    }
  ],
  "nbformat_minor": 0
}