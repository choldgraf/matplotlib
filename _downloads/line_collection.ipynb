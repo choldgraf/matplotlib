{
  "cells": [
    {
      "cell_type": "code",
      "execution_count": null,
      "metadata": {
        "collapsed": false
      },
      "outputs": [],
      "source": [
        "%matplotlib inline"
      ]
    },
    {
      "cell_type": "markdown",
      "metadata": {},
      "source": [
        "\n# Line Collection\n\n\n\n"
      ]
    },
    {
      "cell_type": "code",
      "execution_count": null,
      "metadata": {
        "collapsed": false
      },
      "outputs": [],
      "source": [
        "import matplotlib.pyplot as plt\nfrom matplotlib.collections import LineCollection\nfrom matplotlib import colors as mcolors\n\nimport numpy as np\n\n# In order to efficiently plot many lines in a single set of axes,\n# Matplotlib has the ability to add the lines all at once. Here is a\n# simple example showing how it is done.\n\nx = np.arange(100)\n# Here are many sets of y to plot vs x\nys = x[:50, np.newaxis] + x[np.newaxis, :]\n\nsegs = np.zeros((50, 100, 2), float)\nsegs[:, :, 1] = ys\nsegs[:, :, 0] = x\n\n# Mask some values to test masked array support:\nsegs = np.ma.masked_where((segs > 50) & (segs < 60), segs)\n\n# We need to set the plot limits.\nax = plt.axes()\nax.set_xlim(x.min(), x.max())\nax.set_ylim(ys.min(), ys.max())\n\n# colors is sequence of rgba tuples\n# linestyle is a string or dash tuple. Legal string values are\n#          solid|dashed|dashdot|dotted.  The dash tuple is (offset, onoffseq)\n#          where onoffseq is an even length tuple of on and off ink in points.\n#          If linestyle is omitted, 'solid' is used\n# See matplotlib.collections.LineCollection for more information\ncolors = [mcolors.to_rgba(c)\n          for c in plt.rcParams['axes.prop_cycle'].by_key()['color']]\n\nline_segments = LineCollection(segs, linewidths=(0.5, 1, 1.5, 2),\n                               colors=colors, linestyle='solid')\nax.add_collection(line_segments)\nax.set_title('Line collection with masked arrays')\nplt.show()"
      ]
    }
  ],
  "metadata": {
    "kernelspec": {
      "display_name": "Python 3",
      "language": "python",
      "name": "python3"
    },
    "language_info": {
      "codemirror_mode": {
        "name": "ipython",
        "version": 3
      },
      "file_extension": ".py",
      "mimetype": "text/x-python",
      "name": "python",
      "nbconvert_exporter": "python",
      "pygments_lexer": "ipython3",
      "version": "3.6.0"
    }
  },
  "nbformat": 4,
  "nbformat_minor": 0
}