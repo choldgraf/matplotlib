{
  "nbformat": 4,
  "metadata": {
    "language_info": {
      "version": "3.5.2",
      "file_extension": ".py",
      "nbconvert_exporter": "python",
      "codemirror_mode": {
        "version": 3,
        "name": "ipython"
      },
      "pygments_lexer": "ipython3",
      "mimetype": "text/x-python",
      "name": "python"
    },
    "kernelspec": {
      "language": "python",
      "name": "python3",
      "display_name": "Python 3"
    }
  },
  "cells": [
    {
      "cell_type": "code",
      "outputs": [],
      "execution_count": null,
      "metadata": {
        "collapsed": false
      },
      "source": [
        "%matplotlib inline"
      ]
    },
    {
      "cell_type": "markdown",
      "source": [
        "\n# Stackplot Demo2\n\n\n\n"
      ],
      "metadata": {}
    },
    {
      "cell_type": "code",
      "outputs": [],
      "execution_count": null,
      "metadata": {
        "collapsed": false
      },
      "source": [
        "import numpy as np\nimport matplotlib.pyplot as plt\n\n# Fixing random state for reproducibility\nnp.random.seed(19680801)\n\n\ndef layers(n, m):\n    \"\"\"\n    Return *n* random Gaussian mixtures, each of length *m*.\n    \"\"\"\n    def bump(a):\n        x = 1 / (.1 + np.random.random())\n        y = 2 * np.random.random() - .5\n        z = 10 / (.1 + np.random.random())\n        for i in range(m):\n            w = (i / float(m) - y) * z\n            a[i] += x * np.exp(-w * w)\n    a = np.zeros((m, n))\n    for i in range(n):\n        for j in range(5):\n            bump(a[:, i])\n    return a\n\nd = layers(3, 100)\n\nplt.subplots()\nplt.stackplot(range(100), d.T, baseline='wiggle')\nplt.show()"
      ]
    }
  ],
  "nbformat_minor": 0
}