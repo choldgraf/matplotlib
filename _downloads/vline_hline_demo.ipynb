{
  "cells": [
    {
      "cell_type": "code",
      "execution_count": null,
      "metadata": {
        "collapsed": false
      },
      "outputs": [],
      "source": [
        "%matplotlib inline"
      ]
    },
    {
      "cell_type": "markdown",
      "metadata": {},
      "source": [
        "\n# hlines and vlines\n\n\nThis example showcases the functions hlines and vlines.\n\n"
      ]
    },
    {
      "cell_type": "code",
      "execution_count": null,
      "metadata": {
        "collapsed": false
      },
      "outputs": [],
      "source": [
        "import matplotlib.pyplot as plt\nfrom matplotlib.transforms import blended_transform_factory as btf\nimport numpy as np\nimport numpy.random as rnd\n\n\ndef f(t):\n    s1 = np.sin(2 * np.pi * t)\n    e1 = np.exp(-t)\n    return np.abs(s1 * e1) + .05\n\nt = np.arange(0.0, 5.0, 0.1)\ns = f(t)\nnse = rnd.normal(0.0, 0.3, t.shape) * s\n\nfig = plt.figure(figsize=(12, 6))\nvax = fig.add_subplot(121)\nhax = fig.add_subplot(122)\n\nvax.plot(t, s + nse, '^')\nvax.vlines(t, [0], s)\nvax.vlines([1, 2], 0, 1, transform=btf(vax.transData, vax.transAxes), colors='r')\nvax.set_xlabel('time (s)')\nvax.set_title('Vertical lines demo')\n\nhax.plot(s + nse, t, '^')\nhax.hlines(t, [0], s, lw=2)\nhax.set_xlabel('time (s)')\nhax.set_title('Horizontal lines demo')\n\nplt.show()"
      ]
    }
  ],
  "metadata": {
    "kernelspec": {
      "display_name": "Python 3",
      "language": "python",
      "name": "python3"
    },
    "language_info": {
      "codemirror_mode": {
        "name": "ipython",
        "version": 3
      },
      "file_extension": ".py",
      "mimetype": "text/x-python",
      "name": "python",
      "nbconvert_exporter": "python",
      "pygments_lexer": "ipython3",
      "version": "3.6.0"
    }
  },
  "nbformat": 4,
  "nbformat_minor": 0
}