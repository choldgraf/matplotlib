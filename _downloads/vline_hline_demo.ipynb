{
  "nbformat": 4,
  "metadata": {
    "language_info": {
      "version": "3.5.2",
      "file_extension": ".py",
      "nbconvert_exporter": "python",
      "codemirror_mode": {
        "version": 3,
        "name": "ipython"
      },
      "pygments_lexer": "ipython3",
      "mimetype": "text/x-python",
      "name": "python"
    },
    "kernelspec": {
      "language": "python",
      "name": "python3",
      "display_name": "Python 3"
    }
  },
  "cells": [
    {
      "cell_type": "code",
      "outputs": [],
      "execution_count": null,
      "metadata": {
        "collapsed": false
      },
      "source": [
        "%matplotlib inline"
      ]
    },
    {
      "cell_type": "markdown",
      "source": [
        "\n# hlines and vlines\n\n\nThis example showcases the functions hlines and vlines.\n\n"
      ],
      "metadata": {}
    },
    {
      "cell_type": "code",
      "outputs": [],
      "execution_count": null,
      "metadata": {
        "collapsed": false
      },
      "source": [
        "import matplotlib.pyplot as plt\nfrom matplotlib.transforms import blended_transform_factory as btf\nimport numpy as np\nimport numpy.random as rnd\n\n\ndef f(t):\n    s1 = np.sin(2 * np.pi * t)\n    e1 = np.exp(-t)\n    return np.abs(s1 * e1) + .05\n\nt = np.arange(0.0, 5.0, 0.1)\ns = f(t)\nnse = rnd.normal(0.0, 0.3, t.shape) * s\n\nfig = plt.figure(figsize=(12, 6))\nvax = fig.add_subplot(121)\nhax = fig.add_subplot(122)\n\nvax.plot(t, s + nse, '^')\nvax.vlines(t, [0], s)\nvax.vlines([1, 2], 0, 1, transform=btf(vax.transData, vax.transAxes), colors='r')\nvax.set_xlabel('time (s)')\nvax.set_title('Vertical lines demo')\n\nhax.plot(s + nse, t, '^')\nhax.hlines(t, [0], s, lw=2)\nhax.set_xlabel('time (s)')\nhax.set_title('Horizontal lines demo')\n\nplt.show()"
      ]
    }
  ],
  "nbformat_minor": 0
}