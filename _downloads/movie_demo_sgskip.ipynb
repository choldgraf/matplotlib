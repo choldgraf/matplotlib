{
  "nbformat": 4,
  "metadata": {
    "language_info": {
      "version": "3.5.2",
      "file_extension": ".py",
      "nbconvert_exporter": "python",
      "codemirror_mode": {
        "version": 3,
        "name": "ipython"
      },
      "pygments_lexer": "ipython3",
      "mimetype": "text/x-python",
      "name": "python"
    },
    "kernelspec": {
      "language": "python",
      "name": "python3",
      "display_name": "Python 3"
    }
  },
  "cells": [
    {
      "cell_type": "code",
      "outputs": [],
      "execution_count": null,
      "metadata": {
        "collapsed": false
      },
      "source": [
        "%matplotlib inline"
      ]
    },
    {
      "cell_type": "markdown",
      "source": [
        "\n# Movie Demo\n\n\n\n"
      ],
      "metadata": {}
    },
    {
      "cell_type": "code",
      "outputs": [],
      "execution_count": null,
      "metadata": {
        "collapsed": false
      },
      "source": [
        "from __future__ import print_function\n\nimport subprocess\nimport matplotlib.pyplot as plt\nimport numpy as np\n\n# Fixing random state for reproducibility\nnp.random.seed(19680801)\n\n\nfiles = []\n\nfig, ax = plt.subplots(figsize=(5, 5))\nfor i in range(50):  # 50 frames\n    plt.cla()\n    plt.imshow(np.random.rand(5, 5), interpolation='nearest')\n    fname = '_tmp%03d.png' % i\n    print('Saving frame', fname)\n    plt.savefig(fname)\n    files.append(fname)\n\nprint('Making movie animation.mpg - this may take a while')\nsubprocess.call(\"mencoder 'mf://_tmp*.png' -mf type=png:fps=10 -ovc lavc \"\n                \"-lavcopts vcodec=wmv2 -oac copy -o animation.mpg\", shell=True)\n\n# cleanup\nfor fname in files:\n    os.remove(fname)"
      ]
    }
  ],
  "nbformat_minor": 0
}