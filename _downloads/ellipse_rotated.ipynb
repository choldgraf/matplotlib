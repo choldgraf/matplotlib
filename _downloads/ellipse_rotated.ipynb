{
  "nbformat": 4,
  "metadata": {
    "language_info": {
      "version": "3.5.2",
      "file_extension": ".py",
      "nbconvert_exporter": "python",
      "codemirror_mode": {
        "version": 3,
        "name": "ipython"
      },
      "pygments_lexer": "ipython3",
      "mimetype": "text/x-python",
      "name": "python"
    },
    "kernelspec": {
      "language": "python",
      "name": "python3",
      "display_name": "Python 3"
    }
  },
  "cells": [
    {
      "cell_type": "code",
      "outputs": [],
      "execution_count": null,
      "metadata": {
        "collapsed": false
      },
      "source": [
        "%matplotlib inline"
      ]
    },
    {
      "cell_type": "markdown",
      "source": [
        "\n# Ellipse Rotated\n\n\n\n"
      ],
      "metadata": {}
    },
    {
      "cell_type": "code",
      "outputs": [],
      "execution_count": null,
      "metadata": {
        "collapsed": false
      },
      "source": [
        "import matplotlib.pyplot as plt\nimport numpy as np\nfrom matplotlib.patches import Ellipse\n\ndelta = 45.0  # degrees\n\nangles = np.arange(0, 360 + delta, delta)\nells = [Ellipse((1, 1), 4, 2, a) for a in angles]\n\na = plt.subplot(111, aspect='equal')\n\nfor e in ells:\n    e.set_clip_box(a.bbox)\n    e.set_alpha(0.1)\n    a.add_artist(e)\n\nplt.xlim(-2, 4)\nplt.ylim(-1, 3)\n\nplt.show()"
      ]
    }
  ],
  "nbformat_minor": 0
}