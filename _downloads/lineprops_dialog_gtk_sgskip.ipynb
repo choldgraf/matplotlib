{
  "cells": [
    {
      "execution_count": null,
      "outputs": [],
      "source": [
        "%matplotlib inline"
      ],
      "metadata": {
        "collapsed": false
      },
      "cell_type": "code"
    },
    {
      "source": [
        "\n# Lineprops Dialog GTK\n\n\n\n"
      ],
      "metadata": {},
      "cell_type": "markdown"
    },
    {
      "execution_count": null,
      "outputs": [],
      "source": [
        "import matplotlib\nmatplotlib.use('GTKAgg')\nfrom matplotlib.backends.backend_gtk import DialogLineprops\n\nimport numpy as np\nimport matplotlib.pyplot as plt\n\n\ndef f(t):\n    s1 = np.cos(2*np.pi*t)\n    e1 = np.exp(-t)\n    return np.multiply(s1, e1)\n\nt1 = np.arange(0.0, 5.0, 0.1)\nt2 = np.arange(0.0, 5.0, 0.02)\nt3 = np.arange(0.0, 2.0, 0.01)\n\nfig, ax = plt.subplots()\nl1, = ax.plot(t1, f(t1), 'bo', label='line 1')\nl2, = ax.plot(t2, f(t2), 'k--', label='line 2')\n\ndlg = DialogLineprops([l1, l2])\ndlg.show()\nplt.show()"
      ],
      "metadata": {
        "collapsed": false
      },
      "cell_type": "code"
    }
  ],
  "nbformat": 4,
  "metadata": {
    "language_info": {
      "codemirror_mode": {
        "version": 3,
        "name": "ipython"
      },
      "file_extension": ".py",
      "version": "3.5.2",
      "nbconvert_exporter": "python",
      "name": "python",
      "mimetype": "text/x-python",
      "pygments_lexer": "ipython3"
    },
    "kernelspec": {
      "language": "python",
      "display_name": "Python 3",
      "name": "python3"
    }
  },
  "nbformat_minor": 0
}