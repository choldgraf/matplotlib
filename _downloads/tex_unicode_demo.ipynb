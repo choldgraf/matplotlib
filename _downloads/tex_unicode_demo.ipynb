{
  "cells": [
    {
      "cell_type": "code",
      "execution_count": null,
      "metadata": {
        "collapsed": false
      },
      "outputs": [],
      "source": [
        "%matplotlib inline"
      ]
    },
    {
      "cell_type": "markdown",
      "metadata": {},
      "source": [
        "\n# Tex Unicode Demo\n\n\nThis demo is tex_demo.py modified to have unicode. See that file for\nmore information.\n\n-*- coding: utf-8 -*-\n\n"
      ]
    },
    {
      "cell_type": "code",
      "execution_count": null,
      "metadata": {
        "collapsed": false
      },
      "outputs": [],
      "source": [
        "from __future__ import unicode_literals\nimport numpy as np\nimport matplotlib\nmatplotlib.rcParams['text.usetex'] = True\nmatplotlib.rcParams['text.latex.unicode'] = True\nimport matplotlib.pyplot as plt\n\nplt.figure(1, figsize=(6, 4))\nax = plt.axes([0.1, 0.1, 0.8, 0.7])\nt = np.arange(0.0, 1.0 + 0.01, 0.01)\ns = np.cos(2*2*np.pi*t) + 2\nplt.plot(t, s)\n\nplt.xlabel(r'\\textbf{time (s)}')\nplt.ylabel('\\\\textit{Velocity (\\N{DEGREE SIGN}/sec)}', fontsize=16)\nplt.title(r'\\TeX\\ is Number $\\displaystyle\\sum_{n=1}^\\infty'\n          r'\\frac{-e^{i\\pi}}{2^n}$!', fontsize=16, color='r')\nplt.grid(True)\nplt.show()"
      ]
    }
  ],
  "metadata": {
    "kernelspec": {
      "display_name": "Python 3",
      "language": "python",
      "name": "python3"
    },
    "language_info": {
      "codemirror_mode": {
        "name": "ipython",
        "version": 3
      },
      "file_extension": ".py",
      "mimetype": "text/x-python",
      "name": "python",
      "nbconvert_exporter": "python",
      "pygments_lexer": "ipython3",
      "version": "3.6.0"
    }
  },
  "nbformat": 4,
  "nbformat_minor": 0
}