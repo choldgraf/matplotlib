{
  "nbformat": 4,
  "metadata": {
    "language_info": {
      "version": "3.5.2",
      "file_extension": ".py",
      "nbconvert_exporter": "python",
      "codemirror_mode": {
        "version": 3,
        "name": "ipython"
      },
      "pygments_lexer": "ipython3",
      "mimetype": "text/x-python",
      "name": "python"
    },
    "kernelspec": {
      "language": "python",
      "name": "python3",
      "display_name": "Python 3"
    }
  },
  "cells": [
    {
      "cell_type": "code",
      "outputs": [],
      "execution_count": null,
      "metadata": {
        "collapsed": false
      },
      "source": [
        "%matplotlib inline"
      ]
    },
    {
      "cell_type": "markdown",
      "source": [
        "\n=========================================================\nDemo of the histogram (hist) function with a few features\n=========================================================\n\nIn addition to the basic histogram, this demo shows a few optional\nfeatures:\n\n    * Setting the number of data bins\n    * The ``normed`` flag, which normalizes bin heights so that the\n      integral of the histogram is 1. The resulting histogram is an\n      approximation of the probability density function.\n    * Setting the face color of the bars\n    * Setting the opacity (alpha value).\n\nSelecting different bin counts and sizes can significantly affect the\nshape of a histogram. The Astropy docs have a great section on how to\nselect these parameters:\nhttp://docs.astropy.org/en/stable/visualization/histogram.html\n\n"
      ],
      "metadata": {}
    },
    {
      "cell_type": "code",
      "outputs": [],
      "execution_count": null,
      "metadata": {
        "collapsed": false
      },
      "source": [
        "import numpy as np\nimport matplotlib.mlab as mlab\nimport matplotlib.pyplot as plt\n\nnp.random.seed(19680801)\n\n# example data\nmu = 100  # mean of distribution\nsigma = 15  # standard deviation of distribution\nx = mu + sigma * np.random.randn(437)\n\nnum_bins = 50\n\nfig, ax = plt.subplots()\n\n# the histogram of the data\nn, bins, patches = ax.hist(x, num_bins, normed=1)\n\n# add a 'best fit' line\ny = mlab.normpdf(bins, mu, sigma)\nax.plot(bins, y, '--')\nax.set_xlabel('Smarts')\nax.set_ylabel('Probability density')\nax.set_title(r'Histogram of IQ: $\\mu=100$, $\\sigma=15$')\n\n# Tweak spacing to prevent clipping of ylabel\nfig.tight_layout()\nplt.show()"
      ]
    }
  ],
  "nbformat_minor": 0
}