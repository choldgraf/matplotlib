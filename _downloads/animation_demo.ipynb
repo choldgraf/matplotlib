{
  "nbformat": 4,
  "metadata": {
    "language_info": {
      "version": "3.5.2",
      "file_extension": ".py",
      "nbconvert_exporter": "python",
      "codemirror_mode": {
        "version": 3,
        "name": "ipython"
      },
      "pygments_lexer": "ipython3",
      "mimetype": "text/x-python",
      "name": "python"
    },
    "kernelspec": {
      "language": "python",
      "name": "python3",
      "display_name": "Python 3"
    }
  },
  "cells": [
    {
      "cell_type": "code",
      "outputs": [],
      "execution_count": null,
      "metadata": {
        "collapsed": false
      },
      "source": [
        "%matplotlib inline"
      ]
    },
    {
      "cell_type": "markdown",
      "source": [
        "\n# Animation Demo\n\n\nPyplot animation example.\n\nThe method shown here is only for very simple, low-performance\nuse.  For more demanding applications, look at the animation\nmodule and the examples that use it.\n\n"
      ],
      "metadata": {}
    },
    {
      "cell_type": "code",
      "outputs": [],
      "execution_count": null,
      "metadata": {
        "collapsed": false
      },
      "source": [
        "import matplotlib.pyplot as plt\nimport numpy as np\n\nx = np.arange(6)\ny = np.arange(5)\nz = x * y[:, np.newaxis]\n\nfor i in range(5):\n    if i == 0:\n        p = plt.imshow(z)\n        fig = plt.gcf()\n        plt.clim()   # clamp the color limits\n        plt.title(\"Boring slide show\")\n    else:\n        z = z + 2\n        p.set_data(z)\n\n    print(\"step\", i)\n    plt.pause(0.5)"
      ]
    }
  ],
  "nbformat_minor": 0
}