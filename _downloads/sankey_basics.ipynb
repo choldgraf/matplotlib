{
  "cells": [
    {
      "cell_type": "code",
      "execution_count": null,
      "metadata": {
        "collapsed": false
      },
      "outputs": [],
      "source": [
        "%matplotlib inline"
      ]
    },
    {
      "cell_type": "markdown",
      "metadata": {},
      "source": [
        "\n# The Sankey class\n\n\nDemonstrate the Sankey class by producing three basic diagrams.\n\n"
      ]
    },
    {
      "cell_type": "code",
      "execution_count": null,
      "metadata": {
        "collapsed": false
      },
      "outputs": [],
      "source": [
        "import numpy as np\nimport matplotlib.pyplot as plt\n\nfrom matplotlib.sankey import Sankey\n\n\n# Example 1 -- Mostly defaults\n# This demonstrates how to create a simple diagram by implicitly calling the\n# Sankey.add() method and by appending finish() to the call to the class.\nSankey(flows=[0.25, 0.15, 0.60, -0.20, -0.15, -0.05, -0.50, -0.10],\n       labels=['', '', '', 'First', 'Second', 'Third', 'Fourth', 'Fifth'],\n       orientations=[-1, 1, 0, 1, 1, 1, 0, -1]).finish()\nplt.title(\"The default settings produce a diagram like this.\")\n# Notice:\n#   1. Axes weren't provided when Sankey() was instantiated, so they were\n#      created automatically.\n#   2. The scale argument wasn't necessary since the data was already\n#      normalized.\n#   3. By default, the lengths of the paths are justified.\n\n# Example 2\n# This demonstrates:\n#   1. Setting one path longer than the others\n#   2. Placing a label in the middle of the diagram\n#   3. Using the scale argument to normalize the flows\n#   4. Implicitly passing keyword arguments to PathPatch()\n#   5. Changing the angle of the arrow heads\n#   6. Changing the offset between the tips of the paths and their labels\n#   7. Formatting the numbers in the path labels and the associated unit\n#   8. Changing the appearance of the patch and the labels after the figure is\n#      created\nfig = plt.figure()\nax = fig.add_subplot(1, 1, 1, xticks=[], yticks=[],\n                     title=\"Flow Diagram of a Widget\")\nsankey = Sankey(ax=ax, scale=0.01, offset=0.2, head_angle=180,\n                format='%.0f', unit='%')\nsankey.add(flows=[25, 0, 60, -10, -20, -5, -15, -10, -40],\n           labels=['', '', '', 'First', 'Second', 'Third', 'Fourth',\n                   'Fifth', 'Hurray!'],\n           orientations=[-1, 1, 0, 1, 1, 1, -1, -1, 0],\n           pathlengths=[0.25, 0.25, 0.25, 0.25, 0.25, 0.6, 0.25, 0.25,\n                        0.25],\n           patchlabel=\"Widget\\nA\")  # Arguments to matplotlib.patches.PathPatch()\ndiagrams = sankey.finish()\ndiagrams[0].texts[-1].set_color('r')\ndiagrams[0].text.set_fontweight('bold')\n# Notice:\n#   1. Since the sum of the flows is nonzero, the width of the trunk isn't\n#      uniform.  If verbose.level is helpful (in matplotlibrc), a message is\n#      given in the terminal window.\n#   2. The second flow doesn't appear because its value is zero.  Again, if\n#      verbose.level is helpful, a message is given in the terminal window.\n\n# Example 3\n# This demonstrates:\n#   1. Connecting two systems\n#   2. Turning off the labels of the quantities\n#   3. Adding a legend\nfig = plt.figure()\nax = fig.add_subplot(1, 1, 1, xticks=[], yticks=[], title=\"Two Systems\")\nflows = [0.25, 0.15, 0.60, -0.10, -0.05, -0.25, -0.15, -0.10, -0.35]\nsankey = Sankey(ax=ax, unit=None)\nsankey.add(flows=flows, label='one',\n           orientations=[-1, 1, 0, 1, 1, 1, -1, -1, 0])\nsankey.add(flows=[-0.25, 0.15, 0.1], label='two',\n           orientations=[-1, -1, -1], prior=0, connect=(0, 0))\ndiagrams = sankey.finish()\ndiagrams[-1].patch.set_hatch('/')\nplt.legend(loc='best')\n# Notice that only one connection is specified, but the systems form a\n# circuit since: (1) the lengths of the paths are justified and (2) the\n# orientation and ordering of the flows is mirrored.\n\nplt.show()"
      ]
    }
  ],
  "metadata": {
    "kernelspec": {
      "display_name": "Python 3",
      "language": "python",
      "name": "python3"
    },
    "language_info": {
      "codemirror_mode": {
        "name": "ipython",
        "version": 3
      },
      "file_extension": ".py",
      "mimetype": "text/x-python",
      "name": "python",
      "nbconvert_exporter": "python",
      "pygments_lexer": "ipython3",
      "version": "3.6.0"
    }
  },
  "nbformat": 4,
  "nbformat_minor": 0
}