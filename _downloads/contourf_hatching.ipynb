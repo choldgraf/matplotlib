{
  "nbformat": 4,
  "metadata": {
    "language_info": {
      "version": "3.5.2",
      "file_extension": ".py",
      "nbconvert_exporter": "python",
      "codemirror_mode": {
        "version": 3,
        "name": "ipython"
      },
      "pygments_lexer": "ipython3",
      "mimetype": "text/x-python",
      "name": "python"
    },
    "kernelspec": {
      "language": "python",
      "name": "python3",
      "display_name": "Python 3"
    }
  },
  "cells": [
    {
      "cell_type": "code",
      "outputs": [],
      "execution_count": null,
      "metadata": {
        "collapsed": false
      },
      "source": [
        "%matplotlib inline"
      ]
    },
    {
      "cell_type": "markdown",
      "source": [
        "\n# Contourf Hatching\n\n\n\n"
      ],
      "metadata": {}
    },
    {
      "cell_type": "code",
      "outputs": [],
      "execution_count": null,
      "metadata": {
        "collapsed": false
      },
      "source": [
        "import matplotlib.pyplot as plt\nimport numpy as np\n\n\n# invent some numbers, turning the x and y arrays into simple\n# 2d arrays, which make combining them together easier.\nx = np.linspace(-3, 5, 150).reshape(1, -1)\ny = np.linspace(-3, 5, 120).reshape(-1, 1)\nz = np.cos(x) + np.sin(y)\n\n# we no longer need x and y to be 2 dimensional, so flatten them.\nx, y = x.flatten(), y.flatten()\n\n\n# ---------------------------------------------\n# |                 Plot #1                   |\n# ---------------------------------------------\n# the simplest hatched plot with a colorbar\nfig = plt.figure()\ncs = plt.contourf(x, y, z, hatches=['-', '/', '\\\\', '//'],\n                  cmap=plt.get_cmap('gray'),\n                  extend='both', alpha=0.5\n                  )\nplt.colorbar()\n\n\n# ---------------------------------------------\n# |                 Plot #2                   |\n# ---------------------------------------------\n# a plot of hatches without color with a legend\nplt.figure()\nn_levels = 6\nplt.contour(x, y, z, n_levels, colors='black', linestyles='-')\ncs = plt.contourf(x, y, z, n_levels, colors='none',\n                  hatches=['.', '/', '\\\\', None, '\\\\\\\\', '*'],\n                  extend='lower'\n                  )\n\n# create a legend for the contour set\nartists, labels = cs.legend_elements()\nplt.legend(artists, labels, handleheight=2)\n\n\nplt.show()"
      ]
    }
  ],
  "nbformat_minor": 0
}