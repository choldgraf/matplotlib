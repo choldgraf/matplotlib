{
  "metadata": {
    "language_info": {
      "pygments_lexer": "ipython3",
      "codemirror_mode": {
        "name": "ipython",
        "version": 3
      },
      "version": "3.5.2",
      "name": "python",
      "nbconvert_exporter": "python",
      "mimetype": "text/x-python",
      "file_extension": ".py"
    },
    "kernelspec": {
      "language": "python",
      "name": "python3",
      "display_name": "Python 3"
    }
  },
  "nbformat_minor": 0,
  "nbformat": 4,
  "cells": [
    {
      "outputs": [],
      "execution_count": null,
      "metadata": {
        "collapsed": false
      },
      "cell_type": "code",
      "source": [
        "%matplotlib inline"
      ]
    },
    {
      "metadata": {},
      "cell_type": "markdown",
      "source": [
        "\n# Lightness of the colormaps\n\n\nFor each colormap, plot the lightness parameter L* from CIELAB colorspace\nalong the y axis vs index through the colormap. Colormaps are examined in\ncategories as in the original matplotlib gallery of colormaps.\n\n"
      ]
    },
    {
      "outputs": [],
      "execution_count": null,
      "metadata": {
        "collapsed": false
      },
      "cell_type": "code",
      "source": [
        "import numpy as np\nimport matplotlib as mpl\nimport matplotlib.pyplot as plt\nfrom matplotlib import cm\nfrom colorspacious import cspace_converter\nfrom colormaps import cmaps  # the colormaps, grouped by category\n\nmpl.rcParams.update({'font.size': 12})\n\n# Number of colormap per subplot for particular cmap categories\n_DSUBS = {'Perceptually Uniform Sequential': 4, 'Sequential': 6,\n          'Sequential (2)': 6, 'Diverging': 6, 'Qualitative': 4,\n          'Miscellaneous': 6}\n\n# Spacing between the colormaps of a subplot\n_DC = {'Perceptually Uniform Sequential': 1.4, 'Sequential': 0.7,\n       'Sequential (2)': 1.4, 'Diverging': 1.4, 'Qualitative': 1.4,\n       'Miscellaneous': 1.4}\n\n# Indices to step through colormap\nx = np.linspace(0.0, 1.0, 100)\n\n# Do plot\nfor cmap_category, cmap_list in cmaps:\n\n    # Do subplots so that colormaps have enough space.\n    # Default is 6 colormaps per subplot.\n    dsub = _DSUBS.get(cmap_category, 6)\n    nsubplots = int(np.ceil(len(cmap_list) / float(dsub)))\n\n    # squeeze=False to handle similarly the case of a single subplot\n    fig, axes = plt.subplots(nrows=nsubplots, squeeze=False,\n                             figsize=(7, 2.6*nsubplots))\n\n    for i, ax in enumerate(axes.flat):\n\n        locs = []  # locations for text labels\n\n        for j, cmap in enumerate(cmap_list[i*dsub:(i+1)*dsub]):\n\n            # Get RGB values for colormap and convert the colormap in\n            # CAM02-UCS colorspace.  lab[0, :, 0] is the lightness.\n            rgb = cm.get_cmap(cmap)(x)[np.newaxis, :, :3]\n            lab = cspace_converter(\"sRGB1\", \"CAM02-UCS\")(rgb)\n\n            # Plot colormap L values.  Do separately for each category\n            # so each plot can be pretty.  To make scatter markers change\n            # color along plot:\n            # http://stackoverflow.com/questions/8202605/matplotlib-scatterplot-colour-as-a-function-of-a-third-variable\n\n            if cmap_category == 'Sequential':\n                # These colormaps all start at high lightness but we want them\n                # reversed to look nice in the plot, so reverse the order.\n                y_ = lab[0, ::-1, 0]\n                c_ = x[::-1]\n            else:\n                y_ = lab[0, :, 0]\n                c_ = x\n\n            dc = _DC.get(cmap_category, 1.4)  # cmaps horizontal spacing\n            ax.scatter(x + j*dc, y_, c=c_, cmap=cmap, s=300, linewidths=0.0)\n\n            # Store locations for colormap labels\n            if cmap_category in ('Perceptually Uniform Sequential',\n                                 'Sequential'):\n                locs.append(x[-1] + j*dc)\n            elif cmap_category in ('Diverging', 'Qualitative',\n                                   'Miscellaneous', 'Sequential (2)'):\n                locs.append(x[int(x.size/2.)] + j*dc)\n\n        # Set up the axis limits:\n        #   * the 1st subplot is used as a reference for the x-axis limits\n        #   * lightness values goes from 0 to 100 (y-axis limits)\n        ax.set_xlim(axes[0, 0].get_xlim())\n        ax.set_ylim(0.0, 100.0)\n\n        # Set up labels for colormaps\n        ax.xaxis.set_ticks_position('top')\n        ticker = mpl.ticker.FixedLocator(locs)\n        ax.xaxis.set_major_locator(ticker)\n        formatter = mpl.ticker.FixedFormatter(cmap_list[i*dsub:(i+1)*dsub])\n        ax.xaxis.set_major_formatter(formatter)\n        ax.xaxis.set_tick_params(rotation=50)\n\n    ax.set_xlabel(cmap_category + ' colormaps', fontsize=14)\n    fig.text(0.0, 0.55, 'Lightness $L^*$', fontsize=12,\n             transform=fig.transFigure, rotation=90)\n\n    fig.tight_layout(h_pad=0.0, pad=1.5)\n    plt.show()"
      ]
    }
  ]
}