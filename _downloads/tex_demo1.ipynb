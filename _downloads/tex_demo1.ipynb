{
  "cells": [
    {
      "cell_type": "code",
      "execution_count": null,
      "metadata": {
        "collapsed": false
      },
      "outputs": [],
      "source": [
        "%matplotlib inline"
      ]
    },
    {
      "cell_type": "markdown",
      "metadata": {},
      "source": [
        "\n# Tex Demo\n\n\nDemo of TeX rendering.\n\nYou can use TeX to render all of your matplotlib text if the rc\nparameter text.usetex is set.  This works currently on the agg and ps\nbackends, and requires that you have tex and the other dependencies\ndescribed at http://matplotlib.org/users/usetex.html\nproperly installed on your system.  The first time you run a script\nyou will see a lot of output from tex and associated tools.  The next\ntime, the run may be silent, as a lot of the information is cached in\n~/.tex.cache\n\n\n"
      ]
    },
    {
      "cell_type": "code",
      "execution_count": null,
      "metadata": {
        "collapsed": false
      },
      "outputs": [],
      "source": [
        "import numpy as np\nimport matplotlib.pyplot as plt\n\n\n# Example data\nt = np.arange(0.0, 1.0 + 0.01, 0.01)\ns = np.cos(4 * np.pi * t) + 2\n\nplt.rc('text', usetex=True)\nplt.rc('font', family='serif')\nplt.plot(t, s)\n\nplt.xlabel(r'\\textbf{time} (s)')\nplt.ylabel(r'\\textit{voltage} (mV)',fontsize=16)\nplt.title(r\"\\TeX\\ is Number \"\n          r\"$\\displaystyle\\sum_{n=1}^\\infty\\frac{-e^{i\\pi}}{2^n}$!\",\n          fontsize=16, color='gray')\n# Make room for the ridiculously large title.\nplt.subplots_adjust(top=0.8)\n\nplt.savefig('tex_demo')\nplt.show()"
      ]
    }
  ],
  "metadata": {
    "kernelspec": {
      "display_name": "Python 3",
      "language": "python",
      "name": "python3"
    },
    "language_info": {
      "codemirror_mode": {
        "name": "ipython",
        "version": 3
      },
      "file_extension": ".py",
      "mimetype": "text/x-python",
      "name": "python",
      "nbconvert_exporter": "python",
      "pygments_lexer": "ipython3",
      "version": "3.6.0"
    }
  },
  "nbformat": 4,
  "nbformat_minor": 0
}