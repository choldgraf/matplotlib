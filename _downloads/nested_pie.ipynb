{
  "cells": [
    {
      "cell_type": "code",
      "execution_count": null,
      "metadata": {
        "collapsed": false
      },
      "outputs": [],
      "source": [
        "%matplotlib inline"
      ]
    },
    {
      "cell_type": "markdown",
      "metadata": {},
      "source": [
        "\n# Nested pie charts\n\n\nThe following examples show two ways to build a nested pie chart\nin Matplotlib.\n\nThe most straightforward way to build a pie chart is to use the\n:func:`pie method <matplotlib.pyplot.pie>`:\n\n"
      ]
    },
    {
      "cell_type": "code",
      "execution_count": null,
      "metadata": {
        "collapsed": false
      },
      "outputs": [],
      "source": [
        "from matplotlib import pyplot as plt\nimport numpy as np\n\nvals = np.array([[1, 2, 3, 4], [2, 3, 4, 5], [3, 4, 5, 6]])\nfig, ax = plt.subplots()\nax.pie(vals.flatten(), radius=1.2,\n       colors=plt.rcParams[\"axes.prop_cycle\"].by_key()[\"color\"][:vals.shape[1]])\nax.pie(vals.sum(axis=1), radius=1)\nax.set(aspect=\"equal\", title='Pie plot with `ax.pie`')\n\nplt.show()"
      ]
    },
    {
      "cell_type": "markdown",
      "metadata": {},
      "source": [
        "However, you can accomplish the same output by using a bar plot on\naxes with a polar coordinate system. This may give more flexibility on\nthe exact design of the plot.\n\n"
      ]
    },
    {
      "cell_type": "code",
      "execution_count": null,
      "metadata": {
        "collapsed": false
      },
      "outputs": [],
      "source": [
        "fig, ax = plt.subplots(subplot_kw=dict(polar=True))\n\ncommon_opts = {'linewidth': 2, 'edgecolor': 'w'}\n\ninner = {\n    'left': np.arange(0.0, 2 * np.pi, 2 * np.pi / 6),\n    'width': 2 * np.pi / 6,\n    'bottom': 0,\n    'color': 'C0'\n}\ninner['height'] = np.zeros_like(inner['left']) + 5\n\nmiddle = {\n    'left': np.arange(0.0, 2 * np.pi, 2 * np.pi / 12),\n    'width': 2 * np.pi / 12,\n    'bottom': 5,\n    'color': 'C1'\n}\nmiddle['height'] = np.zeros_like(middle['left']) + 2\n\nouter = {\n    'left': np.arange(0.0, 2 * np.pi, 2 * np.pi / 9),\n    'width': 2 * np.pi / 9,\n    'bottom': 7,\n    'color': 'C2'\n}\nouter['height'] = np.zeros_like(outer['left']) + 3\n\nax.bar(**inner, **common_opts)\nax.bar(**middle, **common_opts)\nax.bar(**outer, **common_opts)\n\nax.set(title=\"Pie plot with `ax.bar` and polar coordinates\")\nax.set_axis_off()\nplt.show()"
      ]
    }
  ],
  "metadata": {
    "kernelspec": {
      "display_name": "Python 3",
      "language": "python",
      "name": "python3"
    },
    "language_info": {
      "codemirror_mode": {
        "name": "ipython",
        "version": 3
      },
      "file_extension": ".py",
      "mimetype": "text/x-python",
      "name": "python",
      "nbconvert_exporter": "python",
      "pygments_lexer": "ipython3",
      "version": "3.6.0"
    }
  },
  "nbformat": 4,
  "nbformat_minor": 0
}