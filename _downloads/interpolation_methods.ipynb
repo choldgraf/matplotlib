{
  "nbformat": 4,
  "metadata": {
    "language_info": {
      "version": "3.5.2",
      "file_extension": ".py",
      "nbconvert_exporter": "python",
      "codemirror_mode": {
        "version": 3,
        "name": "ipython"
      },
      "pygments_lexer": "ipython3",
      "mimetype": "text/x-python",
      "name": "python"
    },
    "kernelspec": {
      "language": "python",
      "name": "python3",
      "display_name": "Python 3"
    }
  },
  "cells": [
    {
      "cell_type": "code",
      "outputs": [],
      "execution_count": null,
      "metadata": {
        "collapsed": false
      },
      "source": [
        "%matplotlib inline"
      ]
    },
    {
      "cell_type": "markdown",
      "source": [
        "\n=================================\nInterpolations for imshow/matshow\n=================================\n\nThis example displays the difference between interpolation methods for imshow\nand matshow.\n\nIf `interpolation` is None, it defaults to the rc image.interpolation\nparameter. If the interpolation is `none`, then no interpolation is performed\nfor the Agg, ps and pdf backends. Other backends will default to 'nearest'.\n\nFor the Agg, ps and pdf backends, interpolation = 'none' works well when a big\nimage is scaled down, while interpolation = 'nearest' works well when a small\nimage is scaled up.\n\n"
      ],
      "metadata": {}
    },
    {
      "cell_type": "code",
      "outputs": [],
      "execution_count": null,
      "metadata": {
        "collapsed": false
      },
      "source": [
        "import matplotlib.pyplot as plt\nimport numpy as np\n\nmethods = [None, 'none', 'nearest', 'bilinear', 'bicubic', 'spline16',\n           'spline36', 'hanning', 'hamming', 'hermite', 'kaiser', 'quadric',\n           'catrom', 'gaussian', 'bessel', 'mitchell', 'sinc', 'lanczos']\n\n# Fixing random state for reproducibility\nnp.random.seed(19680801)\n\ngrid = np.random.rand(4, 4)\n\nfig, axes = plt.subplots(3, 6, figsize=(12, 6),\n                         subplot_kw={'xticks': [], 'yticks': []})\n\nfig.subplots_adjust(hspace=0.3, wspace=0.05)\n\nfor ax, interp_method in zip(axes.flat, methods):\n    ax.imshow(grid, interpolation=interp_method, cmap='viridis')\n    ax.set_title(interp_method)\n\nplt.show()"
      ]
    }
  ],
  "nbformat_minor": 0
}