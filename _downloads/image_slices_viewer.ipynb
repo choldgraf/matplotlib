{
  "nbformat": 4,
  "metadata": {
    "language_info": {
      "version": "3.5.2",
      "file_extension": ".py",
      "nbconvert_exporter": "python",
      "codemirror_mode": {
        "version": 3,
        "name": "ipython"
      },
      "pygments_lexer": "ipython3",
      "mimetype": "text/x-python",
      "name": "python"
    },
    "kernelspec": {
      "language": "python",
      "name": "python3",
      "display_name": "Python 3"
    }
  },
  "cells": [
    {
      "cell_type": "code",
      "outputs": [],
      "execution_count": null,
      "metadata": {
        "collapsed": false
      },
      "source": [
        "%matplotlib inline"
      ]
    },
    {
      "cell_type": "markdown",
      "source": [
        "\n# Image Slices Viewer\n\n\n\n"
      ],
      "metadata": {}
    },
    {
      "cell_type": "code",
      "outputs": [],
      "execution_count": null,
      "metadata": {
        "collapsed": false
      },
      "source": [
        "from __future__ import print_function\nimport numpy\nimport matplotlib.pyplot as plt\n\n\nclass IndexTracker(object):\n    def __init__(self, ax, X):\n        self.ax = ax\n        ax.set_title('use scroll wheel to navigate images')\n\n        self.X = X\n        rows, cols, self.slices = X.shape\n        self.ind = self.slices//2\n\n        self.im = ax.imshow(self.X[:, :, self.ind])\n        self.update()\n\n    def onscroll(self, event):\n        print(\"%s %s\" % (event.button, event.step))\n        if event.button == 'up':\n            self.ind = numpy.clip(self.ind + 1, 0, self.slices - 1)\n        else:\n            self.ind = numpy.clip(self.ind - 1, 0, self.slices - 1)\n        self.update()\n\n    def update(self):\n        self.im.set_data(self.X[:, :, self.ind])\n        ax.set_ylabel('slice %s' % self.ind)\n        self.im.axes.figure.canvas.draw()\n\n\nfig, ax = plt.subplots(1, 1)\n\nX = numpy.random.rand(20, 20, 40)\n\ntracker = IndexTracker(ax, X)\n\n\nfig.canvas.mpl_connect('scroll_event', tracker.onscroll)\nplt.show()"
      ]
    }
  ],
  "nbformat_minor": 0
}