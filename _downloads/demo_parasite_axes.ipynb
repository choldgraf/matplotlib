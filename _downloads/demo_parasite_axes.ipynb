{
  "cells": [
    {
      "cell_type": "code",
      "execution_count": null,
      "metadata": {
        "collapsed": false
      },
      "outputs": [],
      "source": [
        "%matplotlib inline"
      ]
    },
    {
      "cell_type": "markdown",
      "metadata": {},
      "source": [
        "\n# Demo Parasite Axes\n\n\n\n"
      ]
    },
    {
      "cell_type": "code",
      "execution_count": null,
      "metadata": {
        "collapsed": false
      },
      "outputs": [],
      "source": [
        "from mpl_toolkits.axisartist.parasite_axes import HostAxes, ParasiteAxes\nimport matplotlib.pyplot as plt\n\n\nfig = plt.figure(1)\n\nhost = HostAxes(fig, [0.15, 0.1, 0.65, 0.8])\npar1 = ParasiteAxes(host, sharex=host)\npar2 = ParasiteAxes(host, sharex=host)\nhost.parasites.append(par1)\nhost.parasites.append(par2)\n\nhost.set_ylabel(\"Density\")\nhost.set_xlabel(\"Distance\")\n\nhost.axis[\"right\"].set_visible(False)\npar1.axis[\"right\"].set_visible(True)\npar1.set_ylabel(\"Temperature\")\n\npar1.axis[\"right\"].major_ticklabels.set_visible(True)\npar1.axis[\"right\"].label.set_visible(True)\n\npar2.set_ylabel(\"Velocity\")\noffset = (60, 0)\nnew_axisline = par2._grid_helper.new_fixed_axis\npar2.axis[\"right2\"] = new_axisline(loc=\"right\", axes=par2, offset=offset)\n\nfig.add_axes(host)\n\nhost.set_xlim(0, 2)\nhost.set_ylim(0, 2)\n\nhost.set_xlabel(\"Distance\")\nhost.set_ylabel(\"Density\")\npar1.set_ylabel(\"Temperature\")\n\np1, = host.plot([0, 1, 2], [0, 1, 2], label=\"Density\")\np2, = par1.plot([0, 1, 2], [0, 3, 2], label=\"Temperature\")\np3, = par2.plot([0, 1, 2], [50, 30, 15], label=\"Velocity\")\n\npar1.set_ylim(0, 4)\npar2.set_ylim(1, 65)\n\nhost.legend()\n\nhost.axis[\"left\"].label.set_color(p1.get_color())\npar1.axis[\"right\"].label.set_color(p2.get_color())\npar2.axis[\"right2\"].label.set_color(p3.get_color())\n\nplt.show()"
      ]
    }
  ],
  "metadata": {
    "kernelspec": {
      "display_name": "Python 3",
      "language": "python",
      "name": "python3"
    },
    "language_info": {
      "codemirror_mode": {
        "name": "ipython",
        "version": 3
      },
      "file_extension": ".py",
      "mimetype": "text/x-python",
      "name": "python",
      "nbconvert_exporter": "python",
      "pygments_lexer": "ipython3",
      "version": "3.6.4"
    }
  },
  "nbformat": 4,
  "nbformat_minor": 0
}