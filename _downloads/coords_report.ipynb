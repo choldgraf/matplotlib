{
  "nbformat": 4,
  "metadata": {
    "language_info": {
      "version": "3.5.2",
      "file_extension": ".py",
      "nbconvert_exporter": "python",
      "codemirror_mode": {
        "version": 3,
        "name": "ipython"
      },
      "pygments_lexer": "ipython3",
      "mimetype": "text/x-python",
      "name": "python"
    },
    "kernelspec": {
      "language": "python",
      "name": "python3",
      "display_name": "Python 3"
    }
  },
  "cells": [
    {
      "cell_type": "code",
      "outputs": [],
      "execution_count": null,
      "metadata": {
        "collapsed": false
      },
      "source": [
        "%matplotlib inline"
      ]
    },
    {
      "cell_type": "markdown",
      "source": [
        "\n# Coords Report\n\n\nOverride the default reporting of coords.\n\n"
      ],
      "metadata": {}
    },
    {
      "cell_type": "code",
      "outputs": [],
      "execution_count": null,
      "metadata": {
        "collapsed": false
      },
      "source": [
        "import matplotlib.pyplot as plt\nimport numpy as np\n\n\ndef millions(x):\n    return '$%1.1fM' % (x*1e-6)\n\n# Fixing random state for reproducibility\nnp.random.seed(19680801)\n\nx = np.random.rand(20)\ny = 1e7*np.random.rand(20)\n\nfig, ax = plt.subplots()\nax.fmt_ydata = millions\nplt.plot(x, y, 'o')\n\nplt.show()"
      ]
    }
  ],
  "nbformat_minor": 0
}