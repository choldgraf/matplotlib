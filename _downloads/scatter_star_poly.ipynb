{
  "nbformat": 4,
  "metadata": {
    "language_info": {
      "version": "3.5.2",
      "file_extension": ".py",
      "nbconvert_exporter": "python",
      "codemirror_mode": {
        "version": 3,
        "name": "ipython"
      },
      "pygments_lexer": "ipython3",
      "mimetype": "text/x-python",
      "name": "python"
    },
    "kernelspec": {
      "language": "python",
      "name": "python3",
      "display_name": "Python 3"
    }
  },
  "cells": [
    {
      "cell_type": "code",
      "outputs": [],
      "execution_count": null,
      "metadata": {
        "collapsed": false
      },
      "source": [
        "%matplotlib inline"
      ]
    },
    {
      "cell_type": "markdown",
      "source": [
        "\n# Scatter Star Poly\n\n\n\n"
      ],
      "metadata": {}
    },
    {
      "cell_type": "code",
      "outputs": [],
      "execution_count": null,
      "metadata": {
        "collapsed": false
      },
      "source": [
        "import numpy as np\nimport matplotlib.pyplot as plt\n\n# Fixing random state for reproducibility\nnp.random.seed(19680801)\n\n\nx = np.random.rand(10)\ny = np.random.rand(10)\nz = np.sqrt(x**2 + y**2)\n\nplt.subplot(321)\nplt.scatter(x, y, s=80, c=z, marker=\">\")\n\nplt.subplot(322)\nplt.scatter(x, y, s=80, c=z, marker=(5, 0))\n\nverts = list(zip([-1., 1., 1., -1.], [-1., -1., 1., -1.]))\nplt.subplot(323)\nplt.scatter(x, y, s=80, c=z, marker=(verts, 0))\n# equivalent:\n#plt.scatter(x,y,s=80, c=z, marker=None, verts=verts)\n\nplt.subplot(324)\nplt.scatter(x, y, s=80, c=z, marker=(5, 1))\n\nplt.subplot(325)\nplt.scatter(x, y, s=80, c=z, marker='+')\n\nplt.subplot(326)\nplt.scatter(x, y, s=80, c=z, marker=(5, 2))\n\nplt.show()"
      ]
    }
  ],
  "nbformat_minor": 0
}