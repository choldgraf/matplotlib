{
  "cells": [
    {
      "execution_count": null,
      "outputs": [],
      "source": [
        "%matplotlib inline"
      ],
      "metadata": {
        "collapsed": false
      },
      "cell_type": "code"
    },
    {
      "source": [
        "\n# Pgf Fonts\n\n\n\n"
      ],
      "metadata": {},
      "cell_type": "markdown"
    },
    {
      "execution_count": null,
      "outputs": [],
      "source": [
        "# -*- coding: utf-8 -*-\n\nimport matplotlib as mpl\nmpl.use(\"pgf\")\npgf_with_rc_fonts = {\n    \"font.family\": \"serif\",\n    \"font.serif\": [],                   # use latex default serif font\n    \"font.sans-serif\": [\"DejaVu Sans\"], # use a specific sans-serif font\n}\nmpl.rcParams.update(pgf_with_rc_fonts)\n\nimport matplotlib.pyplot as plt\nplt.figure(figsize=(4.5,2.5))\nplt.plot(range(5))\nplt.text(0.5, 3., \"serif\")\nplt.text(0.5, 2., \"monospace\", family=\"monospace\")\nplt.text(2.5, 2., \"sans-serif\", family=\"sans-serif\")\nplt.text(2.5, 1., \"comic sans\", family=\"Comic Sans MS\")\nplt.xlabel(u\"\u00b5 is not $\\\\mu$\")\nplt.tight_layout(.5)\n\nplt.savefig(\"pgf_fonts.pdf\")\nplt.savefig(\"pgf_fonts.png\")"
      ],
      "metadata": {
        "collapsed": false
      },
      "cell_type": "code"
    }
  ],
  "nbformat": 4,
  "metadata": {
    "language_info": {
      "codemirror_mode": {
        "version": 3,
        "name": "ipython"
      },
      "file_extension": ".py",
      "version": "3.5.2",
      "nbconvert_exporter": "python",
      "name": "python",
      "mimetype": "text/x-python",
      "pygments_lexer": "ipython3"
    },
    "kernelspec": {
      "language": "python",
      "display_name": "Python 3",
      "name": "python3"
    }
  },
  "nbformat_minor": 0
}