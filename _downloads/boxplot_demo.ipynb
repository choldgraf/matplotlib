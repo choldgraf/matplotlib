{
  "nbformat": 4,
  "metadata": {
    "language_info": {
      "version": "3.5.2",
      "file_extension": ".py",
      "nbconvert_exporter": "python",
      "codemirror_mode": {
        "version": 3,
        "name": "ipython"
      },
      "pygments_lexer": "ipython3",
      "mimetype": "text/x-python",
      "name": "python"
    },
    "kernelspec": {
      "language": "python",
      "name": "python3",
      "display_name": "Python 3"
    }
  },
  "cells": [
    {
      "cell_type": "code",
      "outputs": [],
      "execution_count": null,
      "metadata": {
        "collapsed": false
      },
      "source": [
        "%matplotlib inline"
      ]
    },
    {
      "cell_type": "markdown",
      "source": [
        "\n# Boxplot Demo\n\n\n\n"
      ],
      "metadata": {}
    },
    {
      "cell_type": "code",
      "outputs": [],
      "execution_count": null,
      "metadata": {
        "collapsed": false
      },
      "source": [
        "import matplotlib.pyplot as plt\nimport numpy as np\n\n# Fixing random state for reproducibility\nnp.random.seed(19680801)\n\n# fake up some data\nspread = np.random.rand(50) * 100\ncenter = np.ones(25) * 50\nflier_high = np.random.rand(10) * 100 + 100\nflier_low = np.random.rand(10) * -100\ndata = np.concatenate((spread, center, flier_high, flier_low), 0)\n\n# basic plot\nplt.boxplot(data)\n\n# notched plot\nplt.figure()\nplt.boxplot(data, 1)\n\n# change outlier point symbols\nplt.figure()\nplt.boxplot(data, 0, 'gD')\n\n# don't show outlier points\nplt.figure()\nplt.boxplot(data, 0, '')\n\n# horizontal boxes\nplt.figure()\nplt.boxplot(data, 0, 'rs', 0)\n\n# change whisker length\nplt.figure()\nplt.boxplot(data, 0, 'rs', 0, 0.75)\n\n# fake up some more data\nspread = np.random.rand(50) * 100\ncenter = np.ones(25) * 40\nflier_high = np.random.rand(10) * 100 + 100\nflier_low = np.random.rand(10) * -100\nd2 = np.concatenate((spread, center, flier_high, flier_low), 0)\ndata.shape = (-1, 1)\nd2.shape = (-1, 1)\n# data = concatenate( (data, d2), 1 )\n# Making a 2-D array only works if all the columns are the\n# same length.  If they are not, then use a list instead.\n# This is actually more efficient because boxplot converts\n# a 2-D array into a list of vectors internally anyway.\ndata = [data, d2, d2[::2, 0]]\n# multiple box plots on one figure\nplt.figure()\nplt.boxplot(data)\n\nplt.show()"
      ]
    }
  ],
  "nbformat_minor": 0
}