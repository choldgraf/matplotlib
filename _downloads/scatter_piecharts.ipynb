{
  "nbformat": 4,
  "metadata": {
    "language_info": {
      "version": "3.5.2",
      "file_extension": ".py",
      "nbconvert_exporter": "python",
      "codemirror_mode": {
        "version": 3,
        "name": "ipython"
      },
      "pygments_lexer": "ipython3",
      "mimetype": "text/x-python",
      "name": "python"
    },
    "kernelspec": {
      "language": "python",
      "name": "python3",
      "display_name": "Python 3"
    }
  },
  "cells": [
    {
      "cell_type": "code",
      "outputs": [],
      "execution_count": null,
      "metadata": {
        "collapsed": false
      },
      "source": [
        "%matplotlib inline"
      ]
    },
    {
      "cell_type": "markdown",
      "source": [
        "\n# Scatter plot with pie chart markers\n\n\nThis example makes custom 'pie charts' as the markers for a scatter plot.\n\nThanks to Manuel Metz for the example\n\n"
      ],
      "metadata": {}
    },
    {
      "cell_type": "code",
      "outputs": [],
      "execution_count": null,
      "metadata": {
        "collapsed": false
      },
      "source": [
        "import math\nimport numpy as np\nimport matplotlib.pyplot as plt\n\n# first define the ratios\nr1 = 0.2       # 20%\nr2 = r1 + 0.4  # 40%\n\n# define some sizes of the scatter marker\nsizes = [60, 80, 120]\n\n# calculate the points of the first pie marker\n#\n# these are just the origin (0,0) +\n# some points on a circle cos,sin\nx = [0] + np.cos(np.linspace(0, 2*math.pi*r1, 10)).tolist()\ny = [0] + np.sin(np.linspace(0, 2*math.pi*r1, 10)).tolist()\n\nxy1 = list(zip(x, y))\ns1 = max(max(x), max(y))\n\n# ...\nx = [0] + np.cos(np.linspace(2*math.pi*r1, 2*math.pi*r2, 10)).tolist()\ny = [0] + np.sin(np.linspace(2*math.pi*r1, 2*math.pi*r2, 10)).tolist()\nxy2 = list(zip(x, y))\ns2 = max(max(x), max(y))\n\nx = [0] + np.cos(np.linspace(2*math.pi*r2, 2*math.pi, 10)).tolist()\ny = [0] + np.sin(np.linspace(2*math.pi*r2, 2*math.pi, 10)).tolist()\nxy3 = list(zip(x, y))\ns3 = max(max(x), max(y))\n\nfig, ax = plt.subplots()\nax.scatter(np.arange(3), np.arange(3), marker=(xy1, 0),\n           s=[s1*s1*_ for _ in sizes], facecolor='blue')\nax.scatter(np.arange(3), np.arange(3), marker=(xy2, 0),\n           s=[s2*s2*_ for _ in sizes], facecolor='green')\nax.scatter(np.arange(3), np.arange(3), marker=(xy3, 0),\n           s=[s3*s3*_ for _ in sizes], facecolor='red')\n\nplt.show()"
      ]
    }
  ],
  "nbformat_minor": 0
}