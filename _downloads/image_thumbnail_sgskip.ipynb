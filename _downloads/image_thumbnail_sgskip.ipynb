{
  "nbformat": 4,
  "metadata": {
    "language_info": {
      "version": "3.5.2",
      "file_extension": ".py",
      "nbconvert_exporter": "python",
      "codemirror_mode": {
        "version": 3,
        "name": "ipython"
      },
      "pygments_lexer": "ipython3",
      "mimetype": "text/x-python",
      "name": "python"
    },
    "kernelspec": {
      "language": "python",
      "name": "python3",
      "display_name": "Python 3"
    }
  },
  "cells": [
    {
      "cell_type": "code",
      "outputs": [],
      "execution_count": null,
      "metadata": {
        "collapsed": false
      },
      "source": [
        "%matplotlib inline"
      ]
    },
    {
      "cell_type": "markdown",
      "source": [
        "\n\n# Image Thumbnail\n\n\nYou can use matplotlib to generate thumbnails from existing images.\nmatplotlib natively supports PNG files on the input side, and other\nimage types transparently if your have PIL installed\n\n\n\n"
      ],
      "metadata": {}
    },
    {
      "cell_type": "code",
      "outputs": [],
      "execution_count": null,
      "metadata": {
        "collapsed": false
      },
      "source": [
        "from __future__ import print_function\n# build thumbnails of all images in a directory\nimport sys\nimport os\nimport glob\nimport matplotlib.image as image\n\n\nif len(sys.argv) != 2:\n    print('Usage: python %s IMAGEDIR' % __file__)\n    raise SystemExit\nindir = sys.argv[1]\nif not os.path.isdir(indir):\n    print('Could not find input directory \"%s\"' % indir)\n    raise SystemExit\n\noutdir = 'thumbs'\nif not os.path.exists(outdir):\n    os.makedirs(outdir)\n\nfor fname in glob.glob(os.path.join(indir, '*.png')):\n    basedir, basename = os.path.split(fname)\n    outfile = os.path.join(outdir, basename)\n    fig = image.thumbnail(fname, outfile, scale=0.15)\n    print('saved thumbnail of %s to %s' % (fname, outfile))"
      ]
    }
  ],
  "nbformat_minor": 0
}