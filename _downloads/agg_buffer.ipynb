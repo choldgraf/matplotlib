{
  "nbformat": 4,
  "metadata": {
    "language_info": {
      "version": "3.5.2",
      "file_extension": ".py",
      "nbconvert_exporter": "python",
      "codemirror_mode": {
        "version": 3,
        "name": "ipython"
      },
      "pygments_lexer": "ipython3",
      "mimetype": "text/x-python",
      "name": "python"
    },
    "kernelspec": {
      "language": "python",
      "name": "python3",
      "display_name": "Python 3"
    }
  },
  "cells": [
    {
      "cell_type": "code",
      "outputs": [],
      "execution_count": null,
      "metadata": {
        "collapsed": false
      },
      "source": [
        "%matplotlib inline"
      ]
    },
    {
      "cell_type": "markdown",
      "source": [
        "\n# Agg Buffer\n\n\nUse backend agg to access the figure canvas as an RGB string and then\nconvert it to an array and pass it to Pillow for rendering.\n\n"
      ],
      "metadata": {}
    },
    {
      "cell_type": "code",
      "outputs": [],
      "execution_count": null,
      "metadata": {
        "collapsed": false
      },
      "source": [
        "import numpy as np\n\nimport matplotlib.pyplot as plt\nfrom matplotlib.backends.backend_agg import FigureCanvasAgg\n\n\ntry:\n    from PIL import Image\nexcept ImportError:\n    raise SystemExit(\"Pillow must be installed to run this example\")\n\nplt.plot([1, 2, 3])\n\ncanvas = plt.get_current_fig_manager().canvas\n\nagg = canvas.switch_backends(FigureCanvasAgg)\nagg.draw()\ns = agg.tostring_rgb()\n\n# get the width and the height to resize the matrix\nl, b, w, h = agg.figure.bbox.bounds\nw, h = int(w), int(h)\n\nX = np.fromstring(s, np.uint8).reshape((h, w, 3))\n\ntry:\n    im = Image.fromstring(\"RGB\", (w, h), s)\nexcept Exception:\n    im = Image.frombytes(\"RGB\", (w, h), s)\n\n# Uncomment this line to display the image using ImageMagick's\n# `display` tool.\n# im.show()"
      ]
    }
  ],
  "nbformat_minor": 0
}