{
  "nbformat": 4,
  "metadata": {
    "language_info": {
      "version": "3.5.2",
      "file_extension": ".py",
      "nbconvert_exporter": "python",
      "codemirror_mode": {
        "version": 3,
        "name": "ipython"
      },
      "pygments_lexer": "ipython3",
      "mimetype": "text/x-python",
      "name": "python"
    },
    "kernelspec": {
      "language": "python",
      "name": "python3",
      "display_name": "Python 3"
    }
  },
  "cells": [
    {
      "cell_type": "code",
      "outputs": [],
      "execution_count": null,
      "metadata": {
        "collapsed": false
      },
      "source": [
        "%matplotlib inline"
      ]
    },
    {
      "cell_type": "markdown",
      "source": [
        "\n# Textbox\n\n\n\n"
      ],
      "metadata": {}
    },
    {
      "cell_type": "code",
      "outputs": [],
      "execution_count": null,
      "metadata": {
        "collapsed": false
      },
      "source": [
        "import numpy as np\nimport matplotlib.pyplot as plt\nfrom matplotlib.widgets import TextBox\nfig, ax = plt.subplots()\nplt.subplots_adjust(bottom=0.2)\nt = np.arange(-2.0, 2.0, 0.001)\ns = t ** 2\ninitial_text = \"t ** 2\"\nl, = plt.plot(t, s, lw=2)\n\n\ndef submit(text):\n    ydata = eval(text)\n    l.set_ydata(ydata)\n    ax.set_ylim(np.min(ydata), np.max(ydata))\n    plt.draw()\n\naxbox = plt.axes([0.1, 0.05, 0.8, 0.075])\ntext_box = TextBox(axbox, 'Evaluate', initial=initial_text)\ntext_box.on_submit(submit)\n\nplt.show()"
      ]
    }
  ],
  "nbformat_minor": 0
}