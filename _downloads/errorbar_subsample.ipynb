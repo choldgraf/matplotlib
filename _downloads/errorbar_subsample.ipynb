{
  "nbformat": 4,
  "metadata": {
    "language_info": {
      "version": "3.5.2",
      "file_extension": ".py",
      "nbconvert_exporter": "python",
      "codemirror_mode": {
        "version": 3,
        "name": "ipython"
      },
      "pygments_lexer": "ipython3",
      "mimetype": "text/x-python",
      "name": "python"
    },
    "kernelspec": {
      "language": "python",
      "name": "python3",
      "display_name": "Python 3"
    }
  },
  "cells": [
    {
      "cell_type": "code",
      "outputs": [],
      "execution_count": null,
      "metadata": {
        "collapsed": false
      },
      "source": [
        "%matplotlib inline"
      ]
    },
    {
      "cell_type": "markdown",
      "source": [
        "\n# Errorbar Subsample\n\n\nDemo for the errorevery keyword to show data full accuracy data plots with\nfew errorbars.\n\n"
      ],
      "metadata": {}
    },
    {
      "cell_type": "code",
      "outputs": [],
      "execution_count": null,
      "metadata": {
        "collapsed": false
      },
      "source": [
        "import numpy as np\nimport matplotlib.pyplot as plt\n\n# example data\nx = np.arange(0.1, 4, 0.1)\ny = np.exp(-x)\n\n# example variable error bar values\nyerr = 0.1 + 0.1*np.sqrt(x)\n\n\n# Now switch to a more OO interface to exercise more features.\nfig, axs = plt.subplots(nrows=1, ncols=2, sharex=True)\nax = axs[0]\nax.errorbar(x, y, yerr=yerr)\nax.set_title('all errorbars')\n\nax = axs[1]\nax.errorbar(x, y, yerr=yerr, errorevery=5)\nax.set_title('only every 5th errorbar')\n\n\nfig.suptitle('Errorbar subsampling for better appearance')\n\nplt.show()"
      ]
    }
  ],
  "nbformat_minor": 0
}