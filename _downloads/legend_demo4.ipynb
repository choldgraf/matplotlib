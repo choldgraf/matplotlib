{
  "nbformat": 4,
  "metadata": {
    "language_info": {
      "version": "3.5.2",
      "file_extension": ".py",
      "nbconvert_exporter": "python",
      "codemirror_mode": {
        "version": 3,
        "name": "ipython"
      },
      "pygments_lexer": "ipython3",
      "mimetype": "text/x-python",
      "name": "python"
    },
    "kernelspec": {
      "language": "python",
      "name": "python3",
      "display_name": "Python 3"
    }
  },
  "cells": [
    {
      "cell_type": "code",
      "outputs": [],
      "execution_count": null,
      "metadata": {
        "collapsed": false
      },
      "source": [
        "%matplotlib inline"
      ]
    },
    {
      "cell_type": "markdown",
      "source": [
        "\n# Legend Demo4\n\n\n\n"
      ],
      "metadata": {}
    },
    {
      "cell_type": "code",
      "outputs": [],
      "execution_count": null,
      "metadata": {
        "collapsed": false
      },
      "source": [
        "import matplotlib.pyplot as plt\n\nfig, axes = plt.subplots(3, 1)\ntop_ax, middle_ax, bottom_ax = axes\n\ntop_ax.bar([0, 1, 2], [0.2, 0.3, 0.1], width=0.4, label=\"Bar 1\",\n           align=\"center\")\ntop_ax.bar([0.5, 1.5, 2.5], [0.3, 0.2, 0.2], color=\"red\", width=0.4,\n           label=\"Bar 2\", align=\"center\")\ntop_ax.legend()\n\nmiddle_ax.errorbar([0, 1, 2], [2, 3, 1], xerr=0.4, fmt=\"s\", label=\"test 1\")\nmiddle_ax.errorbar([0, 1, 2], [3, 2, 4], yerr=0.3, fmt=\"o\", label=\"test 2\")\nmiddle_ax.errorbar([0, 1, 2], [1, 1, 3], xerr=0.4, yerr=0.3, fmt=\"^\",\n                   label=\"test 3\")\nmiddle_ax.legend()\n\nbottom_ax.stem([0.3, 1.5, 2.7], [1, 3.6, 2.7], label=\"stem test\")\nbottom_ax.legend()\n\nplt.subplots_adjust(hspace=0.7)\nplt.show()"
      ]
    }
  ],
  "nbformat_minor": 0
}