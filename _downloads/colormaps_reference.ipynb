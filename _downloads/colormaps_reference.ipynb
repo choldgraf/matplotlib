{
  "metadata": {
    "language_info": {
      "pygments_lexer": "ipython3",
      "codemirror_mode": {
        "name": "ipython",
        "version": 3
      },
      "version": "3.5.2",
      "name": "python",
      "nbconvert_exporter": "python",
      "mimetype": "text/x-python",
      "file_extension": ".py"
    },
    "kernelspec": {
      "language": "python",
      "name": "python3",
      "display_name": "Python 3"
    }
  },
  "nbformat_minor": 0,
  "nbformat": 4,
  "cells": [
    {
      "outputs": [],
      "execution_count": null,
      "metadata": {
        "collapsed": false
      },
      "cell_type": "code",
      "source": [
        "%matplotlib inline"
      ]
    },
    {
      "metadata": {},
      "cell_type": "markdown",
      "source": [
        "\n\n# Colormap reference\n\n\nReference for colormaps included with Matplotlib.\n\nThis reference example shows all colormaps included with Matplotlib. Note that\nany colormap listed here can be reversed by appending \"_r\" (e.g., \"pink_r\").\nThese colormaps are divided into the following categories:\n\nSequential:\n    These colormaps are approximately monochromatic colormaps varying smoothly\n    between two color tones---usually from low saturation (e.g. white) to high\n    saturation (e.g. a bright blue). Sequential colormaps are ideal for\n    representing most scientific data since they show a clear progression from\n    low-to-high values.\n\nDiverging:\n    These colormaps have a median value (usually light in color) and vary\n    smoothly to two different color tones at high and low values. Diverging\n    colormaps are ideal when your data has a median value that is significant\n    (e.g.  0, such that positive and negative values are represented by\n    different colors of the colormap).\n\nQualitative:\n    These colormaps vary rapidly in color. Qualitative colormaps are useful for\n    choosing a set of discrete colors. For example::\n\n        color_list = plt.cm.Set3(np.linspace(0, 1, 12))\n\n    gives a list of RGB colors that are good for plotting a series of lines on\n    a dark background.\n\nMiscellaneous:\n    Colormaps that don't fit into the categories above.\n\n\n"
      ]
    },
    {
      "outputs": [],
      "execution_count": null,
      "metadata": {
        "collapsed": false
      },
      "cell_type": "code",
      "source": [
        "import numpy as np\nimport matplotlib.pyplot as plt\n\n\n# Have colormaps separated into categories:\n# http://matplotlib.org/examples/color/colormaps_reference.html\ncmaps = [('Perceptually Uniform Sequential', [\n            'viridis', 'plasma', 'inferno', 'magma']),\n         ('Sequential', [\n            'Greys', 'Purples', 'Blues', 'Greens', 'Oranges', 'Reds',\n            'YlOrBr', 'YlOrRd', 'OrRd', 'PuRd', 'RdPu', 'BuPu',\n            'GnBu', 'PuBu', 'YlGnBu', 'PuBuGn', 'BuGn', 'YlGn']),\n         ('Sequential (2)', [\n            'binary', 'gist_yarg', 'gist_gray', 'gray', 'bone', 'pink',\n            'spring', 'summer', 'autumn', 'winter', 'cool', 'Wistia',\n            'hot', 'afmhot', 'gist_heat', 'copper']),\n         ('Diverging', [\n            'PiYG', 'PRGn', 'BrBG', 'PuOr', 'RdGy', 'RdBu',\n            'RdYlBu', 'RdYlGn', 'Spectral', 'coolwarm', 'bwr', 'seismic']),\n         ('Qualitative', [\n            'Pastel1', 'Pastel2', 'Paired', 'Accent',\n            'Dark2', 'Set1', 'Set2', 'Set3',\n            'tab10', 'tab20', 'tab20b', 'tab20c']),\n         ('Miscellaneous', [\n            'flag', 'prism', 'ocean', 'gist_earth', 'terrain', 'gist_stern',\n            'gnuplot', 'gnuplot2', 'CMRmap', 'cubehelix', 'brg', 'hsv',\n            'gist_rainbow', 'rainbow', 'jet', 'nipy_spectral', 'gist_ncar'])]\n\n\nnrows = max(len(cmap_list) for cmap_category, cmap_list in cmaps)\ngradient = np.linspace(0, 1, 256)\ngradient = np.vstack((gradient, gradient))\n\n\ndef plot_color_gradients(cmap_category, cmap_list, nrows):\n    fig, axes = plt.subplots(nrows=nrows)\n    fig.subplots_adjust(top=0.95, bottom=0.01, left=0.2, right=0.99)\n    axes[0].set_title(cmap_category + ' colormaps', fontsize=14)\n\n    for ax, name in zip(axes, cmap_list):\n        ax.imshow(gradient, aspect='auto', cmap=plt.get_cmap(name))\n        pos = list(ax.get_position().bounds)\n        x_text = pos[0] - 0.01\n        y_text = pos[1] + pos[3]/2.\n        fig.text(x_text, y_text, name, va='center', ha='right', fontsize=10)\n\n    # Turn off *all* ticks & spines, not just the ones with colormaps.\n    for ax in axes:\n        ax.set_axis_off()\n\n\nfor cmap_category, cmap_list in cmaps:\n    plot_color_gradients(cmap_category, cmap_list, nrows)\n\nplt.show()"
      ]
    }
  ]
}