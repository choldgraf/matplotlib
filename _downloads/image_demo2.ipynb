{
  "nbformat": 4,
  "metadata": {
    "language_info": {
      "version": "3.5.2",
      "file_extension": ".py",
      "nbconvert_exporter": "python",
      "codemirror_mode": {
        "version": 3,
        "name": "ipython"
      },
      "pygments_lexer": "ipython3",
      "mimetype": "text/x-python",
      "name": "python"
    },
    "kernelspec": {
      "language": "python",
      "name": "python3",
      "display_name": "Python 3"
    }
  },
  "cells": [
    {
      "cell_type": "code",
      "outputs": [],
      "execution_count": null,
      "metadata": {
        "collapsed": false
      },
      "source": [
        "%matplotlib inline"
      ]
    },
    {
      "cell_type": "markdown",
      "source": [
        "\n# Image Demo2\n\n\n\n"
      ],
      "metadata": {}
    },
    {
      "cell_type": "code",
      "outputs": [],
      "execution_count": null,
      "metadata": {
        "collapsed": false
      },
      "source": [
        "from __future__ import print_function\nimport matplotlib.pyplot as plt\nimport numpy as np\nimport matplotlib.cbook as cbook\n\nw, h = 512, 512\n\ndatafile = cbook.get_sample_data('ct.raw.gz', asfileobj=True)\ns = datafile.read()\nA = np.fromstring(s, np.uint16).astype(float).reshape((w, h))\nA /= A.max()\n\nextent = (0, 25, 0, 25)\nim = plt.imshow(A, cmap=plt.cm.hot, origin='upper', extent=extent)\n\nmarkers = [(15.9, 14.5), (16.8, 15)]\nx, y = zip(*markers)\nplt.plot(x, y, 'o')\n\nplt.title('CT density')\n\nplt.show()"
      ]
    }
  ],
  "nbformat_minor": 0
}