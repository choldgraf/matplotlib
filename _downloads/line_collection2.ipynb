{
  "nbformat": 4,
  "metadata": {
    "language_info": {
      "version": "3.5.2",
      "file_extension": ".py",
      "nbconvert_exporter": "python",
      "codemirror_mode": {
        "version": 3,
        "name": "ipython"
      },
      "pygments_lexer": "ipython3",
      "mimetype": "text/x-python",
      "name": "python"
    },
    "kernelspec": {
      "language": "python",
      "name": "python3",
      "display_name": "Python 3"
    }
  },
  "cells": [
    {
      "cell_type": "code",
      "outputs": [],
      "execution_count": null,
      "metadata": {
        "collapsed": false
      },
      "source": [
        "%matplotlib inline"
      ]
    },
    {
      "cell_type": "markdown",
      "source": [
        "\n# Line Collection2\n\n\n\n"
      ],
      "metadata": {}
    },
    {
      "cell_type": "code",
      "outputs": [],
      "execution_count": null,
      "metadata": {
        "collapsed": false
      },
      "source": [
        "import matplotlib.pyplot as plt\nimport numpy as np\nfrom matplotlib.collections import LineCollection\n\n# In order to efficiently plot many lines in a single set of axes,\n# Matplotlib has the ability to add the lines all at once. Here is a\n# simple example showing how it is done.\n\nN = 50\nx = np.arange(N)\n# Here are many sets of y to plot vs x\nys = [x + i for i in x]\n\n# We need to set the plot limits, they will not autoscale\nax = plt.axes()\nax.set_xlim(np.min(x), np.max(x))\nax.set_ylim(np.min(ys), np.max(ys))\n\n# colors is sequence of rgba tuples\n# linestyle is a string or dash tuple. Legal string values are\n#          solid|dashed|dashdot|dotted.  The dash tuple is (offset, onoffseq)\n#          where onoffseq is an even length tuple of on and off ink in points.\n#          If linestyle is omitted, 'solid' is used\n# See matplotlib.collections.LineCollection for more information\n\n# Make a sequence of x,y pairs\nline_segments = LineCollection([list(zip(x, y)) for y in ys],\n                               linewidths=(0.5, 1, 1.5, 2),\n                               linestyles='solid')\nline_segments.set_array(x)\nax.add_collection(line_segments)\nfig = plt.gcf()\naxcb = fig.colorbar(line_segments)\naxcb.set_label('Line Number')\nax.set_title('Line Collection with mapped colors')\nplt.sci(line_segments)  # This allows interactive changing of the colormap.\nplt.show()"
      ]
    }
  ],
  "nbformat_minor": 0
}