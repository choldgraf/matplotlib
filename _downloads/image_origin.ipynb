{
  "cells": [
    {
      "cell_type": "code",
      "execution_count": null,
      "metadata": {
        "collapsed": false
      },
      "outputs": [],
      "source": [
        "%matplotlib inline"
      ]
    },
    {
      "cell_type": "markdown",
      "metadata": {},
      "source": [
        "\n# Image Origin\n\n\nYou can specify whether images should be plotted with the array origin\nx[0,0] in the upper left or upper right by using the origin parameter.\nYou can also control the default be setting image.origin in your\nmatplotlibrc file; see http://matplotlib.org/matplotlibrc\n\n"
      ]
    },
    {
      "cell_type": "code",
      "execution_count": null,
      "metadata": {
        "collapsed": false
      },
      "outputs": [],
      "source": [
        "import matplotlib.pyplot as plt\nimport numpy as np\n\nx = np.arange(120).reshape((10, 12))\n\ninterp = 'bilinear'\nfig, axs = plt.subplots(nrows=2, sharex=True, figsize=(3, 5))\naxs[0].set_title('blue should be up')\naxs[0].imshow(x, origin='upper', interpolation=interp)\n\naxs[1].set_title('blue should be down')\naxs[1].imshow(x, origin='lower', interpolation=interp)\nplt.show()"
      ]
    }
  ],
  "metadata": {
    "kernelspec": {
      "display_name": "Python 3",
      "language": "python",
      "name": "python3"
    },
    "language_info": {
      "codemirror_mode": {
        "name": "ipython",
        "version": 3
      },
      "file_extension": ".py",
      "mimetype": "text/x-python",
      "name": "python",
      "nbconvert_exporter": "python",
      "pygments_lexer": "ipython3",
      "version": "3.6.0"
    }
  },
  "nbformat": 4,
  "nbformat_minor": 0
}