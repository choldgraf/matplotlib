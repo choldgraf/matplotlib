{
  "nbformat": 4,
  "metadata": {
    "language_info": {
      "version": "3.5.2",
      "file_extension": ".py",
      "nbconvert_exporter": "python",
      "codemirror_mode": {
        "version": 3,
        "name": "ipython"
      },
      "pygments_lexer": "ipython3",
      "mimetype": "text/x-python",
      "name": "python"
    },
    "kernelspec": {
      "language": "python",
      "name": "python3",
      "display_name": "Python 3"
    }
  },
  "cells": [
    {
      "cell_type": "code",
      "outputs": [],
      "execution_count": null,
      "metadata": {
        "collapsed": false
      },
      "source": [
        "%matplotlib inline"
      ]
    },
    {
      "cell_type": "markdown",
      "source": [
        "\n# Embedding In Wx5\n\n\nMatplotlib requires wxPython 2.8+\nset the wxPython version in lib\\site-packages\\wx.pth file\nor if you have wxversion installed un-comment the lines below\nimport wxversion\nwxversion.ensureMinimal('2.8')\n\n"
      ],
      "metadata": {}
    },
    {
      "cell_type": "code",
      "outputs": [],
      "execution_count": null,
      "metadata": {
        "collapsed": false
      },
      "source": [
        "import wx\nimport wx.lib.mixins.inspection as wit\n\nif 'phoenix' in wx.PlatformInfo:\n    import wx.lib.agw.aui as aui\nelse:\n    import wx.aui as aui\n\nimport matplotlib as mpl\nfrom matplotlib.backends.backend_wxagg import FigureCanvasWxAgg as Canvas\nfrom matplotlib.backends.backend_wxagg import NavigationToolbar2Wx as Toolbar\n\n\nclass Plot(wx.Panel):\n    def __init__(self, parent, id=-1, dpi=None, **kwargs):\n        wx.Panel.__init__(self, parent, id=id, **kwargs)\n        self.figure = mpl.figure.Figure(dpi=dpi, figsize=(2, 2))\n        self.canvas = Canvas(self, -1, self.figure)\n        self.toolbar = Toolbar(self.canvas)\n        self.toolbar.Realize()\n\n        sizer = wx.BoxSizer(wx.VERTICAL)\n        sizer.Add(self.canvas, 1, wx.EXPAND)\n        sizer.Add(self.toolbar, 0, wx.LEFT | wx.EXPAND)\n        self.SetSizer(sizer)\n\n\nclass PlotNotebook(wx.Panel):\n    def __init__(self, parent, id=-1):\n        wx.Panel.__init__(self, parent, id=id)\n        self.nb = aui.AuiNotebook(self)\n        sizer = wx.BoxSizer()\n        sizer.Add(self.nb, 1, wx.EXPAND)\n        self.SetSizer(sizer)\n\n    def add(self, name=\"plot\"):\n        page = Plot(self.nb)\n        self.nb.AddPage(page, name)\n        return page.figure\n\n\ndef demo():\n    # alternatively you could use\n    #app = wx.App()\n    # InspectableApp is a great debug tool, see:\n    # http://wiki.wxpython.org/Widget%20Inspection%20Tool\n    app = wit.InspectableApp()\n    frame = wx.Frame(None, -1, 'Plotter')\n    plotter = PlotNotebook(frame)\n    axes1 = plotter.add('figure 1').gca()\n    axes1.plot([1, 2, 3], [2, 1, 4])\n    axes2 = plotter.add('figure 2').gca()\n    axes2.plot([1, 2, 3, 4, 5], [2, 1, 4, 2, 3])\n    frame.Show()\n    app.MainLoop()\n\nif __name__ == \"__main__\":\n    demo()"
      ]
    }
  ],
  "nbformat_minor": 0
}