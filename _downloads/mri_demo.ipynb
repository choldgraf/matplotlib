{
  "nbformat": 4,
  "metadata": {
    "language_info": {
      "version": "3.5.2",
      "file_extension": ".py",
      "nbconvert_exporter": "python",
      "codemirror_mode": {
        "version": 3,
        "name": "ipython"
      },
      "pygments_lexer": "ipython3",
      "mimetype": "text/x-python",
      "name": "python"
    },
    "kernelspec": {
      "language": "python",
      "name": "python3",
      "display_name": "Python 3"
    }
  },
  "cells": [
    {
      "cell_type": "code",
      "outputs": [],
      "execution_count": null,
      "metadata": {
        "collapsed": false
      },
      "source": [
        "%matplotlib inline"
      ]
    },
    {
      "cell_type": "markdown",
      "source": [
        "\n# MRI Demo\n\n\nDisplays an MRI image.\n\n"
      ],
      "metadata": {}
    },
    {
      "cell_type": "code",
      "outputs": [],
      "execution_count": null,
      "metadata": {
        "collapsed": false
      },
      "source": [
        "import matplotlib.pyplot as plt\nimport matplotlib.cbook as cbook\nimport matplotlib.cm as cm\nimport numpy as np\n\nfig, ax = plt.subplots(num=\"MRI_demo\")\n\n# Data are 256x256 16 bit integers\ndfile = cbook.get_sample_data('s1045.ima.gz')\nim = np.fromstring(dfile.read(), np.uint16).reshape((256, 256))\ndfile.close()\n\nax.imshow(im, cmap=cm.gray)\nax.axis('off')\n\nplt.show()"
      ]
    }
  ],
  "nbformat_minor": 0
}