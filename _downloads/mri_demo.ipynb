{
  "cells": [
    {
      "cell_type": "code",
      "execution_count": null,
      "metadata": {
        "collapsed": false
      },
      "outputs": [],
      "source": [
        "%matplotlib inline"
      ]
    },
    {
      "cell_type": "markdown",
      "metadata": {},
      "source": [
        "\n# MRI Demo\n\n\nDisplays an MRI image.\n\n"
      ]
    },
    {
      "cell_type": "code",
      "execution_count": null,
      "metadata": {
        "collapsed": false
      },
      "outputs": [],
      "source": [
        "import matplotlib.pyplot as plt\nimport matplotlib.cbook as cbook\nimport matplotlib.cm as cm\nimport numpy as np\n\nfig, ax = plt.subplots(num=\"MRI_demo\")\n\n# Data are 256x256 16 bit integers\ndfile = cbook.get_sample_data('s1045.ima.gz')\nim = np.fromstring(dfile.read(), np.uint16).reshape((256, 256))\ndfile.close()\n\nax.imshow(im, cmap=cm.gray)\nax.axis('off')\n\nplt.show()"
      ]
    }
  ],
  "metadata": {
    "kernelspec": {
      "display_name": "Python 3",
      "language": "python",
      "name": "python3"
    },
    "language_info": {
      "codemirror_mode": {
        "name": "ipython",
        "version": 3
      },
      "file_extension": ".py",
      "mimetype": "text/x-python",
      "name": "python",
      "nbconvert_exporter": "python",
      "pygments_lexer": "ipython3",
      "version": "3.6.0"
    }
  },
  "nbformat": 4,
  "nbformat_minor": 0
}