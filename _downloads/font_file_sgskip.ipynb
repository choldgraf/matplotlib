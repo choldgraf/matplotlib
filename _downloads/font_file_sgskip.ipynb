{
  "nbformat": 4,
  "metadata": {
    "language_info": {
      "version": "3.5.2",
      "file_extension": ".py",
      "nbconvert_exporter": "python",
      "codemirror_mode": {
        "version": 3,
        "name": "ipython"
      },
      "pygments_lexer": "ipython3",
      "mimetype": "text/x-python",
      "name": "python"
    },
    "kernelspec": {
      "language": "python",
      "name": "python3",
      "display_name": "Python 3"
    }
  },
  "cells": [
    {
      "cell_type": "code",
      "outputs": [],
      "execution_count": null,
      "metadata": {
        "collapsed": false
      },
      "source": [
        "%matplotlib inline"
      ]
    },
    {
      "cell_type": "markdown",
      "source": [
        "\n# Using a ttf font file in matplotlib\n\n\nAlthough it is usually not a good idea to explicitly point to a single\nttf file for a font instance, you can do so using the\nfont_manager.FontProperties fname argument (for a more flexible\nsolution, see the font_family_rc.py and fonts_demo.py examples).\n\n\n"
      ],
      "metadata": {}
    },
    {
      "cell_type": "code",
      "outputs": [],
      "execution_count": null,
      "metadata": {
        "collapsed": false
      },
      "source": [
        "import sys\nimport os\nimport matplotlib.font_manager as fm\n\nimport matplotlib.pyplot as plt\n\nfig, ax = plt.subplots()\nax.plot([1, 2, 3])\n\nif sys.platform == 'win32':\n    fpath = 'C:\\\\Windows\\\\Fonts\\\\Tahoma.ttf'\nelif sys.platform.startswith('linux'):\n    basedir = '/usr/share/fonts/truetype'\n    fonts = ['freefont/FreeSansBoldOblique.ttf',\n             'ttf-liberation/LiberationSans-BoldItalic.ttf',\n             'msttcorefonts/Comic_Sans_MS.ttf']\n    for fpath in fonts:\n        if os.path.exists(os.path.join(basedir, fpath)):\n            break\nelse:\n    fpath = '/Library/Fonts/Tahoma.ttf'\n\nif os.path.exists(fpath):\n    prop = fm.FontProperties(fname=fpath)\n    fname = os.path.split(fpath)[1]\n    ax.set_title('this is a special font: %s' % fname, fontproperties=prop)\nelse:\n    ax.set_title('Demo fails--cannot find a demo font')\nax.set_xlabel('This is the default font')\n\nplt.show()"
      ]
    }
  ],
  "nbformat_minor": 0
}