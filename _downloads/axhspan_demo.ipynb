{
  "nbformat": 4,
  "metadata": {
    "language_info": {
      "version": "3.5.2",
      "file_extension": ".py",
      "nbconvert_exporter": "python",
      "codemirror_mode": {
        "version": 3,
        "name": "ipython"
      },
      "pygments_lexer": "ipython3",
      "mimetype": "text/x-python",
      "name": "python"
    },
    "kernelspec": {
      "language": "python",
      "name": "python3",
      "display_name": "Python 3"
    }
  },
  "cells": [
    {
      "cell_type": "code",
      "outputs": [],
      "execution_count": null,
      "metadata": {
        "collapsed": false
      },
      "source": [
        "%matplotlib inline"
      ]
    },
    {
      "cell_type": "markdown",
      "source": [
        "\n# Axhspan Demo\n\n\n\n"
      ],
      "metadata": {}
    },
    {
      "cell_type": "code",
      "outputs": [],
      "execution_count": null,
      "metadata": {
        "collapsed": false
      },
      "source": [
        "import numpy as np\nimport matplotlib.pyplot as plt\n\nt = np.arange(-1, 2, .01)\ns = np.sin(2*np.pi*t)\n\nplt.plot(t, s)\n# draw a thick red hline at y=0 that spans the xrange\nl = plt.axhline(linewidth=8, color='#d62728')\n\n# draw a default hline at y=1 that spans the xrange\nl = plt.axhline(y=1)\n\n# draw a default vline at x=1 that spans the yrange\nl = plt.axvline(x=1)\n\n# draw a thick blue vline at x=0 that spans the upper quadrant of\n# the yrange\nl = plt.axvline(x=0, ymin=0.75, linewidth=8, color='#1f77b4')\n\n# draw a default hline at y=.5 that spans the middle half of\n# the axes\nl = plt.axhline(y=.5, xmin=0.25, xmax=0.75)\n\np = plt.axhspan(0.25, 0.75, facecolor='0.5', alpha=0.5)\n\np = plt.axvspan(1.25, 1.55, facecolor='#2ca02c', alpha=0.5)\n\nplt.axis([-1, 2, -1, 2])\n\n\nplt.show()"
      ]
    }
  ],
  "nbformat_minor": 0
}