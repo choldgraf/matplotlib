{
  "nbformat": 4,
  "metadata": {
    "language_info": {
      "version": "3.5.2",
      "file_extension": ".py",
      "nbconvert_exporter": "python",
      "codemirror_mode": {
        "version": 3,
        "name": "ipython"
      },
      "pygments_lexer": "ipython3",
      "mimetype": "text/x-python",
      "name": "python"
    },
    "kernelspec": {
      "language": "python",
      "name": "python3",
      "display_name": "Python 3"
    }
  },
  "cells": [
    {
      "cell_type": "code",
      "outputs": [],
      "execution_count": null,
      "metadata": {
        "collapsed": false
      },
      "source": [
        "%matplotlib inline"
      ]
    },
    {
      "cell_type": "markdown",
      "source": [
        "\n# Inset Locator Demo\n\n\n\n"
      ],
      "metadata": {}
    },
    {
      "cell_type": "code",
      "outputs": [],
      "execution_count": null,
      "metadata": {
        "collapsed": false
      },
      "source": [
        "import matplotlib.pyplot as plt\n\nfrom mpl_toolkits.axes_grid1.inset_locator import inset_axes, zoomed_inset_axes\nfrom mpl_toolkits.axes_grid1.anchored_artists import AnchoredSizeBar\n\n\ndef add_sizebar(ax, size):\n    asb = AnchoredSizeBar(ax.transData,\n                          size,\n                          str(size),\n                          loc=8,\n                          pad=0.1, borderpad=0.5, sep=5,\n                          frameon=False)\n    ax.add_artist(asb)\n\n\nfig, (ax, ax2) = plt.subplots(1, 2, figsize=[5.5, 3])\n\n# first subplot\nax.set_aspect(1)\n\naxins = inset_axes(ax,\n                   width=\"30%\",  # width = 30% of parent_bbox\n                   height=1.,  # height : 1 inch\n                   loc=3)\n\nplt.xticks(visible=False)\nplt.yticks(visible=False)\n\n\n# second subplot\nax2.set_aspect(1)\n\naxins = zoomed_inset_axes(ax2, zoom=0.5, loc='upper right')\n# fix the number of ticks on the inset axes\naxins.yaxis.get_major_locator().set_params(nbins=7)\naxins.xaxis.get_major_locator().set_params(nbins=7)\n\nplt.xticks(visible=False)\nplt.yticks(visible=False)\n\nadd_sizebar(ax2, 0.5)\nadd_sizebar(axins, 0.5)\n\nplt.draw()\nplt.show()"
      ]
    }
  ],
  "nbformat_minor": 0
}