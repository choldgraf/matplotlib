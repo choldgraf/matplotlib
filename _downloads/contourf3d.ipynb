{
  "nbformat": 4,
  "metadata": {
    "language_info": {
      "version": "3.5.2",
      "file_extension": ".py",
      "nbconvert_exporter": "python",
      "codemirror_mode": {
        "version": 3,
        "name": "ipython"
      },
      "pygments_lexer": "ipython3",
      "mimetype": "text/x-python",
      "name": "python"
    },
    "kernelspec": {
      "language": "python",
      "name": "python3",
      "display_name": "Python 3"
    }
  },
  "cells": [
    {
      "cell_type": "code",
      "outputs": [],
      "execution_count": null,
      "metadata": {
        "collapsed": false
      },
      "source": [
        "%matplotlib inline"
      ]
    },
    {
      "cell_type": "markdown",
      "source": [
        "\n# Filled contours\n\n\ncontourf differs from contour in that it creates filled contours, ie.\na discrete number of colours are used to shade the domain.\n\nThis is like a contourf plot in 2D except that the shaded region corresponding\nto the level c is graphed on the plane z=c.\n\n"
      ],
      "metadata": {}
    },
    {
      "cell_type": "code",
      "outputs": [],
      "execution_count": null,
      "metadata": {
        "collapsed": false
      },
      "source": [
        "from mpl_toolkits.mplot3d import axes3d\nimport matplotlib.pyplot as plt\nfrom matplotlib import cm\n\nfig = plt.figure()\nax = fig.gca(projection='3d')\nX, Y, Z = axes3d.get_test_data(0.05)\n\ncset = ax.contourf(X, Y, Z, cmap=cm.coolwarm)\n\nax.clabel(cset, fontsize=9, inline=1)\n\nplt.show()"
      ]
    }
  ],
  "nbformat_minor": 0
}