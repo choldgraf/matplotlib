{
  "nbformat": 4,
  "metadata": {
    "language_info": {
      "version": "3.5.2",
      "file_extension": ".py",
      "nbconvert_exporter": "python",
      "codemirror_mode": {
        "version": 3,
        "name": "ipython"
      },
      "pygments_lexer": "ipython3",
      "mimetype": "text/x-python",
      "name": "python"
    },
    "kernelspec": {
      "language": "python",
      "name": "python3",
      "display_name": "Python 3"
    }
  },
  "cells": [
    {
      "cell_type": "code",
      "outputs": [],
      "execution_count": null,
      "metadata": {
        "collapsed": false
      },
      "source": [
        "%matplotlib inline"
      ]
    },
    {
      "cell_type": "markdown",
      "source": [
        "\n# Fancybox Demo2\n\n\n\n"
      ],
      "metadata": {}
    },
    {
      "cell_type": "code",
      "outputs": [],
      "execution_count": null,
      "metadata": {
        "collapsed": false
      },
      "source": [
        "import matplotlib.patches as mpatch\nimport matplotlib.pyplot as plt\n\nstyles = mpatch.BoxStyle.get_styles()\nspacing = 1.2\n\nfigheight = (spacing * len(styles) + .5)\nfig1 = plt.figure(1, (4/1.5, figheight/1.5))\nfontsize = 0.3 * 72\n\nfor i, stylename in enumerate(sorted(styles)):\n    fig1.text(0.5, (spacing * (len(styles) - i) - 0.5) / figheight, stylename,\n              ha=\"center\",\n              size=fontsize,\n              transform=fig1.transFigure,\n              bbox=dict(boxstyle=stylename, fc=\"w\", ec=\"k\"))\n\nplt.show()"
      ]
    }
  ],
  "nbformat_minor": 0
}