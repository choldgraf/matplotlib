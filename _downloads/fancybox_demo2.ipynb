{
  "cells": [
    {
      "cell_type": "code",
      "execution_count": null,
      "metadata": {
        "collapsed": false
      },
      "outputs": [],
      "source": [
        "%matplotlib inline"
      ]
    },
    {
      "cell_type": "markdown",
      "metadata": {},
      "source": [
        "\n# Fancybox Demo2\n\n\n\n"
      ]
    },
    {
      "cell_type": "code",
      "execution_count": null,
      "metadata": {
        "collapsed": false
      },
      "outputs": [],
      "source": [
        "import matplotlib.patches as mpatch\nimport matplotlib.pyplot as plt\n\nstyles = mpatch.BoxStyle.get_styles()\nspacing = 1.2\n\nfigheight = (spacing * len(styles) + .5)\nfig1 = plt.figure(1, (4/1.5, figheight/1.5))\nfontsize = 0.3 * 72\n\nfor i, stylename in enumerate(sorted(styles)):\n    fig1.text(0.5, (spacing * (len(styles) - i) - 0.5) / figheight, stylename,\n              ha=\"center\",\n              size=fontsize,\n              transform=fig1.transFigure,\n              bbox=dict(boxstyle=stylename, fc=\"w\", ec=\"k\"))\n\nplt.show()"
      ]
    }
  ],
  "metadata": {
    "kernelspec": {
      "display_name": "Python 3",
      "language": "python",
      "name": "python3"
    },
    "language_info": {
      "codemirror_mode": {
        "name": "ipython",
        "version": 3
      },
      "file_extension": ".py",
      "mimetype": "text/x-python",
      "name": "python",
      "nbconvert_exporter": "python",
      "pygments_lexer": "ipython3",
      "version": "3.6.0"
    }
  },
  "nbformat": 4,
  "nbformat_minor": 0
}