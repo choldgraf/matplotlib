{
  "nbformat": 4,
  "metadata": {
    "language_info": {
      "version": "3.5.2",
      "file_extension": ".py",
      "nbconvert_exporter": "python",
      "codemirror_mode": {
        "version": 3,
        "name": "ipython"
      },
      "pygments_lexer": "ipython3",
      "mimetype": "text/x-python",
      "name": "python"
    },
    "kernelspec": {
      "language": "python",
      "name": "python3",
      "display_name": "Python 3"
    }
  },
  "cells": [
    {
      "cell_type": "code",
      "outputs": [],
      "execution_count": null,
      "metadata": {
        "collapsed": false
      },
      "source": [
        "%matplotlib inline"
      ]
    },
    {
      "cell_type": "markdown",
      "source": [
        "\n# Usetex Demo\n\n\n\n"
      ],
      "metadata": {}
    },
    {
      "cell_type": "code",
      "outputs": [],
      "execution_count": null,
      "metadata": {
        "collapsed": false
      },
      "source": [
        "import matplotlib\nmatplotlib.rc('text', usetex=True)\nimport matplotlib.pyplot as plt\nimport numpy as np\n\n# interface tracking profiles\nN = 500\ndelta = 0.6\nX = np.linspace(-1, 1, N)\nplt.plot(X, (1 - np.tanh(4.*X/delta))/2,    # phase field tanh profiles\n           X, (X + 1)/2,                      # level set distance function\n           X, (1.4 + np.tanh(4.*X/delta))/4,  # composition profile\n           X, X < 0, 'k--',                   # sharp interface\n           )\n\n# legend\nplt.legend(('phase field', 'level set', 'composition', 'sharp interface'), shadow=True, loc=(0.01, 0.55))\n\nltext = plt.gca().get_legend().get_texts()\nplt.setp(ltext[0], fontsize=20)\nplt.setp(ltext[1], fontsize=20)\nplt.setp(ltext[2], fontsize=20)\nplt.setp(ltext[3], fontsize=20)\n\n# the arrow\nheight = 0.1\noffset = 0.02\nplt.plot((-delta / 2., delta / 2), (height, height), 'k', linewidth=2)\nplt.plot((-delta / 2, -delta / 2 + offset * 2), (height, height - offset), 'k', linewidth=2)\nplt.plot((-delta / 2, -delta / 2 + offset * 2), (height, height + offset), 'k', linewidth=2)\nplt.plot((delta / 2, delta / 2 - offset * 2), (height, height - offset), 'k', linewidth=2)\nplt.plot((delta / 2, delta / 2 - offset * 2), (height, height + offset), 'k', linewidth=2)\nplt.text(-0.06, height - 0.06, r'$\\delta$', {'color': 'k', 'fontsize': 24})\n\n# X-axis label\nplt.xticks((-1, 0, 1), ('-1', '0', '1'), color='k', size=20)\n\n# Left Y-axis labels\nplt.ylabel(r'\\bf{phase field} $\\phi$', {'color': 'b',\n                                          'fontsize': 20})\nplt.yticks((0, 0.5, 1), ('0', '.5', '1'), color='k', size=20)\n\n# Right Y-axis labels\nplt.text(1.05, 0.5, r\"\\bf{level set} $\\phi$\", {'color': 'g', 'fontsize': 20},\n           horizontalalignment='left',\n           verticalalignment='center',\n           rotation=90,\n           clip_on=False)\nplt.text(1.01, -0.02, \"-1\", {'color': 'k', 'fontsize': 20})\nplt.text(1.01, 0.98, \"1\", {'color': 'k', 'fontsize': 20})\nplt.text(1.01, 0.48, \"0\", {'color': 'k', 'fontsize': 20})\n\n# level set equations\nplt.text(0.1, 0.85,\n           r'$|\\nabla\\phi| = 1,$ \\newline $ \\frac{\\partial \\phi}{\\partial t}'\n           r'+ U|\\nabla \\phi| = 0$',\n           {'color': 'g', 'fontsize': 20})\n\n# phase field equations\nplt.text(0.2, 0.15,\n           r'$\\mathcal{F} = \\int f\\left( \\phi, c \\right) dV,$ \\newline '\n           r'$ \\frac{ \\partial \\phi } { \\partial t } = -M_{ \\phi } '\n           r'\\frac{ \\delta \\mathcal{F} } { \\delta \\phi }$',\n           {'color': 'b', 'fontsize': 20})\n\n# these went wrong in pdf in a previous version\nplt.text(-.9, .42, r'gamma: $\\gamma$', {'color': 'r', 'fontsize': 20})\nplt.text(-.9, .36, r'Omega: $\\Omega$', {'color': 'b', 'fontsize': 20})\n\nplt.show()"
      ]
    }
  ],
  "nbformat_minor": 0
}