{
  "cells": [
    {
      "execution_count": null,
      "outputs": [],
      "source": [
        "%matplotlib inline"
      ],
      "metadata": {
        "collapsed": false
      },
      "cell_type": "code"
    },
    {
      "source": [
        "\n# Pong GTK\n\n\nA small game demo using GTK.\n\n\n"
      ],
      "metadata": {},
      "cell_type": "markdown"
    },
    {
      "execution_count": null,
      "outputs": [],
      "source": [
        "from __future__ import print_function\nimport time\n\nimport gobject\n\nimport matplotlib\nmatplotlib.use('GTKAgg')\n\nimport matplotlib.pyplot as plt\nimport pipong\n\n\nfig, ax = plt.subplots()\ncanvas = ax.figure.canvas\n\n\ndef start_anim(event):\n    # gobject.idle_add(animation.draw,animation)\n    gobject.timeout_add(10, animation.draw, animation)\n    canvas.mpl_disconnect(start_anim.cid)\n\nanimation = pipong.Game(ax)\nstart_anim.cid = canvas.mpl_connect('draw_event', start_anim)\n\n\ntstart = time.time()\nplt.grid()  # to ensure proper background restore\nplt.show()\nprint('FPS: %f' % animation.cnt/(time.time() - tstart))"
      ],
      "metadata": {
        "collapsed": false
      },
      "cell_type": "code"
    }
  ],
  "nbformat": 4,
  "metadata": {
    "language_info": {
      "codemirror_mode": {
        "version": 3,
        "name": "ipython"
      },
      "file_extension": ".py",
      "version": "3.5.2",
      "nbconvert_exporter": "python",
      "name": "python",
      "mimetype": "text/x-python",
      "pygments_lexer": "ipython3"
    },
    "kernelspec": {
      "language": "python",
      "display_name": "Python 3",
      "name": "python3"
    }
  },
  "nbformat_minor": 0
}