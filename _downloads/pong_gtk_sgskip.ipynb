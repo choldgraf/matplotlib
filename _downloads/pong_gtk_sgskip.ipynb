{
  "cells": [
    {
      "cell_type": "code",
      "execution_count": null,
      "metadata": {
        "collapsed": false
      },
      "outputs": [],
      "source": [
        "%matplotlib inline"
      ]
    },
    {
      "cell_type": "markdown",
      "metadata": {},
      "source": [
        "\n# Pong GTK\n\n\nA small game demo using GTK.\n\n\n"
      ]
    },
    {
      "cell_type": "code",
      "execution_count": null,
      "metadata": {
        "collapsed": false
      },
      "outputs": [],
      "source": [
        "from __future__ import print_function\nimport time\n\nimport gobject\n\nimport matplotlib\nmatplotlib.use('GTKAgg')\n\nimport matplotlib.pyplot as plt\nimport pipong\n\n\nfig, ax = plt.subplots()\ncanvas = ax.figure.canvas\n\n\ndef start_anim(event):\n    # gobject.idle_add(animation.draw,animation)\n    gobject.timeout_add(10, animation.draw, animation)\n    canvas.mpl_disconnect(start_anim.cid)\n\nanimation = pipong.Game(ax)\nstart_anim.cid = canvas.mpl_connect('draw_event', start_anim)\n\n\ntstart = time.time()\nplt.grid()  # to ensure proper background restore\nplt.show()\nprint('FPS: %f' % animation.cnt/(time.time() - tstart))"
      ]
    }
  ],
  "metadata": {
    "kernelspec": {
      "display_name": "Python 3",
      "language": "python",
      "name": "python3"
    },
    "language_info": {
      "codemirror_mode": {
        "name": "ipython",
        "version": 3
      },
      "file_extension": ".py",
      "mimetype": "text/x-python",
      "name": "python",
      "nbconvert_exporter": "python",
      "pygments_lexer": "ipython3",
      "version": "3.6.0"
    }
  },
  "nbformat": 4,
  "nbformat_minor": 0
}