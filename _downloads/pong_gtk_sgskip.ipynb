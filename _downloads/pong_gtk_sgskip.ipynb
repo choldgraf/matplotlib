{
  "nbformat": 4,
  "metadata": {
    "language_info": {
      "version": "3.5.2",
      "file_extension": ".py",
      "nbconvert_exporter": "python",
      "codemirror_mode": {
        "version": 3,
        "name": "ipython"
      },
      "pygments_lexer": "ipython3",
      "mimetype": "text/x-python",
      "name": "python"
    },
    "kernelspec": {
      "language": "python",
      "name": "python3",
      "display_name": "Python 3"
    }
  },
  "cells": [
    {
      "cell_type": "code",
      "outputs": [],
      "execution_count": null,
      "metadata": {
        "collapsed": false
      },
      "source": [
        "%matplotlib inline"
      ]
    },
    {
      "cell_type": "markdown",
      "source": [
        "\n# Pong GTK\n\n\nA small game demo using GTK.\n\n\n"
      ],
      "metadata": {}
    },
    {
      "cell_type": "code",
      "outputs": [],
      "execution_count": null,
      "metadata": {
        "collapsed": false
      },
      "source": [
        "from __future__ import print_function\nimport time\n\nimport gobject\n\nimport matplotlib\nmatplotlib.use('GTKAgg')\n\nimport matplotlib.pyplot as plt\nimport pipong\n\n\nfig, ax = plt.subplots()\ncanvas = ax.figure.canvas\n\n\ndef start_anim(event):\n    # gobject.idle_add(animation.draw,animation)\n    gobject.timeout_add(10, animation.draw, animation)\n    canvas.mpl_disconnect(start_anim.cid)\n\nanimation = pipong.Game(ax)\nstart_anim.cid = canvas.mpl_connect('draw_event', start_anim)\n\n\ntstart = time.time()\nplt.grid()  # to ensure proper background restore\nplt.show()\nprint('FPS: %f' % animation.cnt/(time.time() - tstart))"
      ]
    }
  ],
  "nbformat_minor": 0
}