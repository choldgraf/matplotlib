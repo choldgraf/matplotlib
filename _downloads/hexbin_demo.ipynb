{
  "nbformat": 4,
  "metadata": {
    "language_info": {
      "version": "3.5.2",
      "file_extension": ".py",
      "nbconvert_exporter": "python",
      "codemirror_mode": {
        "version": 3,
        "name": "ipython"
      },
      "pygments_lexer": "ipython3",
      "mimetype": "text/x-python",
      "name": "python"
    },
    "kernelspec": {
      "language": "python",
      "name": "python3",
      "display_name": "Python 3"
    }
  },
  "cells": [
    {
      "cell_type": "code",
      "outputs": [],
      "execution_count": null,
      "metadata": {
        "collapsed": false
      },
      "source": [
        "%matplotlib inline"
      ]
    },
    {
      "cell_type": "markdown",
      "source": [
        "\n# Hexbin Demo\n\n\nhexbin is an axes method or pyplot function that is essentially\na pcolor of a 2-D histogram with hexagonal cells.  It can be\nmuch more informative than a scatter plot; in the first subplot\nbelow, try substituting 'scatter' for 'hexbin'.\n\n"
      ],
      "metadata": {}
    },
    {
      "cell_type": "code",
      "outputs": [],
      "execution_count": null,
      "metadata": {
        "collapsed": false
      },
      "source": [
        "import numpy as np\nimport matplotlib.pyplot as plt\n\n# Fixing random state for reproducibility\nnp.random.seed(19680801)\n\nn = 100000\nx = np.random.standard_normal(n)\ny = 2.0 + 3.0 * x + 4.0 * np.random.standard_normal(n)\nxmin = x.min()\nxmax = x.max()\nymin = y.min()\nymax = y.max()\n\nfig, axs = plt.subplots(ncols=2, sharey=True, figsize=(7, 4))\nfig.subplots_adjust(hspace=0.5, left=0.07, right=0.93)\nax = axs[0]\nhb = ax.hexbin(x, y, gridsize=50, cmap='inferno')\nax.axis([xmin, xmax, ymin, ymax])\nax.set_title(\"Hexagon binning\")\ncb = fig.colorbar(hb, ax=ax)\ncb.set_label('counts')\n\nax = axs[1]\nhb = ax.hexbin(x, y, gridsize=50, bins='log', cmap='inferno')\nax.axis([xmin, xmax, ymin, ymax])\nax.set_title(\"With a log color scale\")\ncb = fig.colorbar(hb, ax=ax)\ncb.set_label('log10(N)')\n\nplt.show()"
      ]
    }
  ],
  "nbformat_minor": 0
}