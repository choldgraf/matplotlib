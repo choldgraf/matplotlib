{
  "nbformat": 4,
  "metadata": {
    "language_info": {
      "version": "3.5.2",
      "file_extension": ".py",
      "nbconvert_exporter": "python",
      "codemirror_mode": {
        "version": 3,
        "name": "ipython"
      },
      "pygments_lexer": "ipython3",
      "mimetype": "text/x-python",
      "name": "python"
    },
    "kernelspec": {
      "language": "python",
      "name": "python3",
      "display_name": "Python 3"
    }
  },
  "cells": [
    {
      "cell_type": "code",
      "outputs": [],
      "execution_count": null,
      "metadata": {
        "collapsed": false
      },
      "source": [
        "%matplotlib inline"
      ]
    },
    {
      "cell_type": "markdown",
      "source": [
        "\n# Interp Demo\n\n\n\n"
      ],
      "metadata": {}
    },
    {
      "cell_type": "code",
      "outputs": [],
      "execution_count": null,
      "metadata": {
        "collapsed": false
      },
      "source": [
        "import matplotlib.pyplot as plt\nfrom numpy import pi, sin, linspace\nfrom matplotlib.mlab import stineman_interp\n\nx = linspace(0, 2*pi, 20)\ny = sin(x)\nyp = None\nxi = linspace(x[0], x[-1], 100)\nyi = stineman_interp(xi, x, y, yp)\n\nfig, ax = plt.subplots()\nax.plot(x, y, 'o', xi, yi, '.')\nplt.show()"
      ]
    }
  ],
  "nbformat_minor": 0
}