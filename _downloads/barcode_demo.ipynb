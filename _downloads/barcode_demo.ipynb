{
  "nbformat": 4,
  "metadata": {
    "language_info": {
      "version": "3.5.2",
      "file_extension": ".py",
      "nbconvert_exporter": "python",
      "codemirror_mode": {
        "version": 3,
        "name": "ipython"
      },
      "pygments_lexer": "ipython3",
      "mimetype": "text/x-python",
      "name": "python"
    },
    "kernelspec": {
      "language": "python",
      "name": "python3",
      "display_name": "Python 3"
    }
  },
  "cells": [
    {
      "cell_type": "code",
      "outputs": [],
      "execution_count": null,
      "metadata": {
        "collapsed": false
      },
      "source": [
        "%matplotlib inline"
      ]
    },
    {
      "cell_type": "markdown",
      "source": [
        "\n# Barcode Demo\n\n\n\n"
      ],
      "metadata": {}
    },
    {
      "cell_type": "code",
      "outputs": [],
      "execution_count": null,
      "metadata": {
        "collapsed": false
      },
      "source": [
        "import matplotlib.pyplot as plt\nimport numpy as np\n\n# Fixing random state for reproducibility\nnp.random.seed(19680801)\n\n\n# the bar\nx = np.where(np.random.rand(500) > 0.7, 1.0, 0.0)\n\naxprops = dict(xticks=[], yticks=[])\nbarprops = dict(aspect='auto', cmap=plt.cm.binary, interpolation='nearest')\n\nfig = plt.figure()\n\n# a vertical barcode -- this is broken at present\nax = fig.add_axes([0.1, 0.3, 0.1, 0.6], **axprops)\nax.imshow(x.reshape((-1, 1)), **barprops)\n\n# a horizontal barcode\nax = fig.add_axes([0.3, 0.1, 0.6, 0.1], **axprops)\nax.imshow(x.reshape((1, -1)), **barprops)\n\n\nplt.show()"
      ]
    }
  ],
  "nbformat_minor": 0
}