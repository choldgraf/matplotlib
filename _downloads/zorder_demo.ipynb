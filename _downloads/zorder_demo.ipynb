{
  "nbformat": 4,
  "metadata": {
    "language_info": {
      "version": "3.5.2",
      "file_extension": ".py",
      "nbconvert_exporter": "python",
      "codemirror_mode": {
        "version": 3,
        "name": "ipython"
      },
      "pygments_lexer": "ipython3",
      "mimetype": "text/x-python",
      "name": "python"
    },
    "kernelspec": {
      "language": "python",
      "name": "python3",
      "display_name": "Python 3"
    }
  },
  "cells": [
    {
      "cell_type": "code",
      "outputs": [],
      "execution_count": null,
      "metadata": {
        "collapsed": false
      },
      "source": [
        "%matplotlib inline"
      ]
    },
    {
      "cell_type": "markdown",
      "source": [
        "\n# Zorder Demo\n\n\nThe default drawing order for axes is patches, lines, text.  This\norder is determined by the zorder attribute.  The following defaults\nare set\n\n=======================    =======\nArtist                     Z-order\n=======================    =======\nPatch / PatchCollection    1\nLine2D / LineCollection    2\nText                       3\n=======================    =======\n\nYou can change the order for individual artists by setting the zorder.  Any\nindividual plot() call can set a value for the zorder of that particular item.\n\nIn the fist subplot below, the lines are drawn above the patch\ncollection from the scatter, which is the default.\n\nIn the subplot below, the order is reversed.\n\nThe second figure shows how to control the zorder of individual lines.\n\n"
      ],
      "metadata": {}
    },
    {
      "cell_type": "code",
      "outputs": [],
      "execution_count": null,
      "metadata": {
        "collapsed": false
      },
      "source": [
        "import matplotlib.pyplot as plt\nimport numpy as np\n\n# Fixing random state for reproducibility\nnp.random.seed(19680801)\n\n\nx = np.random.random(20)\ny = np.random.random(20)\n\n# Lines on top of scatter\nplt.figure()\nplt.subplot(211)\nplt.plot(x, y, 'r', lw=3)\nplt.scatter(x, y, s=120)\nplt.title('Lines on top of dots')\n\n# Scatter plot on top of lines\nplt.subplot(212)\nplt.plot(x, y, 'r', zorder=1, lw=3)\nplt.scatter(x, y, s=120, zorder=2)\nplt.title('Dots on top of lines')\n\n# A new figure, with individually ordered items\nx = np.linspace(0, 2*np.pi, 100)\nplt.figure()\nplt.plot(x, np.sin(x), linewidth=10, color='black', label='zorder=10', zorder=10)  # on top\nplt.plot(x, np.cos(1.3*x), linewidth=10, color='red', label='zorder=1', zorder=1)  # bottom\nplt.plot(x, np.sin(2.1*x), linewidth=10, color='green', label='zorder=3', zorder=3)\nplt.axhline(0, linewidth=10, color='blue', label='zorder=2', zorder=2)\nplt.title('Custom order of elements')\nl = plt.legend()\nl.set_zorder(20)  # put the legend on top\nplt.show()"
      ]
    }
  ],
  "nbformat_minor": 0
}