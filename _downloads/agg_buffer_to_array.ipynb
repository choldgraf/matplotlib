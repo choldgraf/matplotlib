{
  "nbformat": 4,
  "metadata": {
    "language_info": {
      "version": "3.5.2",
      "file_extension": ".py",
      "nbconvert_exporter": "python",
      "codemirror_mode": {
        "version": 3,
        "name": "ipython"
      },
      "pygments_lexer": "ipython3",
      "mimetype": "text/x-python",
      "name": "python"
    },
    "kernelspec": {
      "language": "python",
      "name": "python3",
      "display_name": "Python 3"
    }
  },
  "cells": [
    {
      "cell_type": "code",
      "outputs": [],
      "execution_count": null,
      "metadata": {
        "collapsed": false
      },
      "source": [
        "%matplotlib inline"
      ]
    },
    {
      "cell_type": "markdown",
      "source": [
        "\n# Agg Buffer To Array\n\n\n\n"
      ],
      "metadata": {}
    },
    {
      "cell_type": "code",
      "outputs": [],
      "execution_count": null,
      "metadata": {
        "collapsed": false
      },
      "source": [
        "import matplotlib.pyplot as plt\nimport numpy as np\n\n# make an agg figure\nfig, ax = plt.subplots()\nax.plot([1, 2, 3])\nax.set_title('a simple figure')\nfig.canvas.draw()\n\n# grab the pixel buffer and dump it into a numpy array\nX = np.array(fig.canvas.renderer._renderer)\n\n# now display the array X as an Axes in a new figure\nfig2 = plt.figure()\nax2 = fig2.add_subplot(111, frameon=False)\nax2.imshow(X)\nplt.show()"
      ]
    }
  ],
  "nbformat_minor": 0
}