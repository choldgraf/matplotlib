{
  "nbformat": 4,
  "metadata": {
    "language_info": {
      "version": "3.5.2",
      "file_extension": ".py",
      "nbconvert_exporter": "python",
      "codemirror_mode": {
        "version": 3,
        "name": "ipython"
      },
      "pygments_lexer": "ipython3",
      "mimetype": "text/x-python",
      "name": "python"
    },
    "kernelspec": {
      "language": "python",
      "name": "python3",
      "display_name": "Python 3"
    }
  },
  "cells": [
    {
      "cell_type": "code",
      "outputs": [],
      "execution_count": null,
      "metadata": {
        "collapsed": false
      },
      "source": [
        "%matplotlib inline"
      ]
    },
    {
      "cell_type": "markdown",
      "source": [
        "\n# Make Room For Ylabel Using Axesgrid\n\n\n\n"
      ],
      "metadata": {}
    },
    {
      "cell_type": "code",
      "outputs": [],
      "execution_count": null,
      "metadata": {
        "collapsed": false
      },
      "source": [
        "from mpl_toolkits.axes_grid1 import make_axes_locatable\nfrom mpl_toolkits.axes_grid1.axes_divider import make_axes_area_auto_adjustable\n\n\nif __name__ == \"__main__\":\n\n    import matplotlib.pyplot as plt\n\n    def ex1():\n        plt.figure(1)\n        ax = plt.axes([0, 0, 1, 1])\n        #ax = plt.subplot(111)\n\n        ax.set_yticks([0.5])\n        ax.set_yticklabels([\"very long label\"])\n\n        make_axes_area_auto_adjustable(ax)\n\n    def ex2():\n\n        plt.figure(2)\n        ax1 = plt.axes([0, 0, 1, 0.5])\n        ax2 = plt.axes([0, 0.5, 1, 0.5])\n\n        ax1.set_yticks([0.5])\n        ax1.set_yticklabels([\"very long label\"])\n        ax1.set_ylabel(\"Y label\")\n\n        ax2.set_title(\"Title\")\n\n        make_axes_area_auto_adjustable(ax1, pad=0.1, use_axes=[ax1, ax2])\n        make_axes_area_auto_adjustable(ax2, pad=0.1, use_axes=[ax1, ax2])\n\n    def ex3():\n\n        fig = plt.figure(3)\n        ax1 = plt.axes([0, 0, 1, 1])\n        divider = make_axes_locatable(ax1)\n\n        ax2 = divider.new_horizontal(\"100%\", pad=0.3, sharey=ax1)\n        ax2.tick_params(labelleft=\"off\")\n        fig.add_axes(ax2)\n\n        divider.add_auto_adjustable_area(use_axes=[ax1], pad=0.1,\n                                         adjust_dirs=[\"left\"])\n        divider.add_auto_adjustable_area(use_axes=[ax2], pad=0.1,\n                                         adjust_dirs=[\"right\"])\n        divider.add_auto_adjustable_area(use_axes=[ax1, ax2], pad=0.1,\n                                         adjust_dirs=[\"top\", \"bottom\"])\n\n        ax1.set_yticks([0.5])\n        ax1.set_yticklabels([\"very long label\"])\n\n        ax2.set_title(\"Title\")\n        ax2.set_xlabel(\"X - Label\")\n\n    ex1()\n    ex2()\n    ex3()\n\n    plt.show()"
      ]
    }
  ],
  "nbformat_minor": 0
}