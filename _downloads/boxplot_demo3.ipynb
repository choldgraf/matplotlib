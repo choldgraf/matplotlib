{
  "nbformat": 4,
  "metadata": {
    "language_info": {
      "version": "3.5.2",
      "file_extension": ".py",
      "nbconvert_exporter": "python",
      "codemirror_mode": {
        "version": 3,
        "name": "ipython"
      },
      "pygments_lexer": "ipython3",
      "mimetype": "text/x-python",
      "name": "python"
    },
    "kernelspec": {
      "language": "python",
      "name": "python3",
      "display_name": "Python 3"
    }
  },
  "cells": [
    {
      "cell_type": "code",
      "outputs": [],
      "execution_count": null,
      "metadata": {
        "collapsed": false
      },
      "source": [
        "%matplotlib inline"
      ]
    },
    {
      "cell_type": "markdown",
      "source": [
        "\n# Boxplot Demo3\n\n\n\n"
      ],
      "metadata": {}
    },
    {
      "cell_type": "code",
      "outputs": [],
      "execution_count": null,
      "metadata": {
        "collapsed": false
      },
      "source": [
        "import matplotlib.pyplot as plt\nimport numpy as np\n\n\ndef fakeBootStrapper(n):\n    '''\n    This is just a placeholder for the user's method of\n    bootstrapping the median and its confidence intervals.\n\n    Returns an arbitrary median and confidence intervals\n    packed into a tuple\n    '''\n    if n == 1:\n        med = 0.1\n        CI = (-0.25, 0.25)\n    else:\n        med = 0.2\n        CI = (-0.35, 0.50)\n\n    return med, CI\n\n# Fixing random state for reproducibility\nnp.random.seed(19680801)\n\ninc = 0.1\ne1 = np.random.normal(0, 1, size=(500,))\ne2 = np.random.normal(0, 1, size=(500,))\ne3 = np.random.normal(0, 1 + inc, size=(500,))\ne4 = np.random.normal(0, 1 + 2*inc, size=(500,))\n\ntreatments = [e1, e2, e3, e4]\nmed1, CI1 = fakeBootStrapper(1)\nmed2, CI2 = fakeBootStrapper(2)\nmedians = [None, None, med1, med2]\nconf_intervals = [None, None, CI1, CI2]\n\nfig, ax = plt.subplots()\npos = np.array(range(len(treatments))) + 1\nbp = ax.boxplot(treatments, sym='k+', positions=pos,\n                notch=1, bootstrap=5000,\n                usermedians=medians,\n                conf_intervals=conf_intervals)\n\nax.set_xlabel('treatment')\nax.set_ylabel('response')\nplt.setp(bp['whiskers'], color='k', linestyle='-')\nplt.setp(bp['fliers'], markersize=3.0)\nplt.show()"
      ]
    }
  ],
  "nbformat_minor": 0
}