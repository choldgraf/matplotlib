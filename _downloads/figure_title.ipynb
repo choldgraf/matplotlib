{
  "nbformat": 4,
  "metadata": {
    "language_info": {
      "version": "3.5.2",
      "file_extension": ".py",
      "nbconvert_exporter": "python",
      "codemirror_mode": {
        "version": 3,
        "name": "ipython"
      },
      "pygments_lexer": "ipython3",
      "mimetype": "text/x-python",
      "name": "python"
    },
    "kernelspec": {
      "language": "python",
      "name": "python3",
      "display_name": "Python 3"
    }
  },
  "cells": [
    {
      "cell_type": "code",
      "outputs": [],
      "execution_count": null,
      "metadata": {
        "collapsed": false
      },
      "source": [
        "%matplotlib inline"
      ]
    },
    {
      "cell_type": "markdown",
      "source": [
        "\n# Figure Title\n\n\n\n"
      ],
      "metadata": {}
    },
    {
      "cell_type": "code",
      "outputs": [],
      "execution_count": null,
      "metadata": {
        "collapsed": false
      },
      "source": [
        "from matplotlib.font_manager import FontProperties\nimport matplotlib.pyplot as plt\nimport numpy as np\n\n\ndef f(t):\n    s1 = np.cos(2*np.pi*t)\n    e1 = np.exp(-t)\n    return s1 * e1\n\nt1 = np.arange(0.0, 5.0, 0.1)\nt2 = np.arange(0.0, 5.0, 0.02)\nt3 = np.arange(0.0, 2.0, 0.01)\n\n\nplt.subplot(121)\nplt.plot(t1, f(t1), 'o', t2, f(t2), '-')\nplt.title('subplot 1')\nplt.ylabel('Damped oscillation')\nplt.suptitle('This is a somewhat long figure title', fontsize=16)\n\n\nplt.subplot(122)\nplt.plot(t3, np.cos(2*np.pi*t3), '--')\nplt.xlabel('time (s)')\nplt.title('subplot 2')\nplt.ylabel('Undamped')\n\nplt.subplots_adjust(left=0.2, wspace=0.8, top=0.8)\n\nplt.show()"
      ]
    }
  ],
  "nbformat_minor": 0
}