{
  "nbformat": 4,
  "metadata": {
    "language_info": {
      "version": "3.5.2",
      "file_extension": ".py",
      "nbconvert_exporter": "python",
      "codemirror_mode": {
        "version": 3,
        "name": "ipython"
      },
      "pygments_lexer": "ipython3",
      "mimetype": "text/x-python",
      "name": "python"
    },
    "kernelspec": {
      "language": "python",
      "name": "python3",
      "display_name": "Python 3"
    }
  },
  "cells": [
    {
      "cell_type": "code",
      "outputs": [],
      "execution_count": null,
      "metadata": {
        "collapsed": false
      },
      "source": [
        "%matplotlib inline"
      ]
    },
    {
      "cell_type": "markdown",
      "source": [
        "\n# A mathtext image as numpy array\n\n\nThis example shows how to make images from LaTeX strings.\n\n"
      ],
      "metadata": {}
    },
    {
      "cell_type": "code",
      "outputs": [],
      "execution_count": null,
      "metadata": {
        "collapsed": false
      },
      "source": [
        "import matplotlib.mathtext as mathtext\nimport matplotlib.pyplot as plt\nimport matplotlib\nmatplotlib.rc('image', origin='upper')\n\nparser = mathtext.MathTextParser(\"Bitmap\")\nparser.to_png('test2.png',\n              r'$\\left[\\left\\lfloor\\frac{5}{\\frac{\\left(3\\right)}{4}} '\n              r'y\\right)\\right]$', color='green', fontsize=14, dpi=100)\n\nrgba1, depth1 = parser.to_rgba(\n    r'IQ: $\\sigma_i=15$', color='blue', fontsize=20, dpi=200)\nrgba2, depth2 = parser.to_rgba(\n    r'some other string', color='red', fontsize=20, dpi=200)\n\nfig = plt.figure()\nfig.figimage(rgba1.astype(float)/255., 100, 100)\nfig.figimage(rgba2.astype(float)/255., 100, 300)\n\nplt.show()"
      ]
    }
  ],
  "nbformat_minor": 0
}