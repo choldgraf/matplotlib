{
  "nbformat": 4,
  "metadata": {
    "language_info": {
      "version": "3.5.2",
      "file_extension": ".py",
      "nbconvert_exporter": "python",
      "codemirror_mode": {
        "version": 3,
        "name": "ipython"
      },
      "pygments_lexer": "ipython3",
      "mimetype": "text/x-python",
      "name": "python"
    },
    "kernelspec": {
      "language": "python",
      "name": "python3",
      "display_name": "Python 3"
    }
  },
  "cells": [
    {
      "cell_type": "code",
      "outputs": [],
      "execution_count": null,
      "metadata": {
        "collapsed": false
      },
      "source": [
        "%matplotlib inline"
      ]
    },
    {
      "cell_type": "markdown",
      "source": [
        "\n# Spine Placement Demo\n\n\n\n"
      ],
      "metadata": {}
    },
    {
      "cell_type": "code",
      "outputs": [],
      "execution_count": null,
      "metadata": {
        "collapsed": false
      },
      "source": [
        "import numpy as np\nimport matplotlib.pyplot as plt\n\n\nfig = plt.figure()\nx = np.linspace(-np.pi, np.pi, 100)\ny = 2*np.sin(x)\n\nax = fig.add_subplot(2, 2, 1)\nax.set_title('centered spines')\nax.plot(x, y)\nax.spines['left'].set_position('center')\nax.spines['right'].set_color('none')\nax.spines['bottom'].set_position('center')\nax.spines['top'].set_color('none')\nax.spines['left'].set_smart_bounds(True)\nax.spines['bottom'].set_smart_bounds(True)\nax.xaxis.set_ticks_position('bottom')\nax.yaxis.set_ticks_position('left')\n\nax = fig.add_subplot(2, 2, 2)\nax.set_title('zeroed spines')\nax.plot(x, y)\nax.spines['left'].set_position('zero')\nax.spines['right'].set_color('none')\nax.spines['bottom'].set_position('zero')\nax.spines['top'].set_color('none')\nax.spines['left'].set_smart_bounds(True)\nax.spines['bottom'].set_smart_bounds(True)\nax.xaxis.set_ticks_position('bottom')\nax.yaxis.set_ticks_position('left')\n\nax = fig.add_subplot(2, 2, 3)\nax.set_title('spines at axes (0.6, 0.1)')\nax.plot(x, y)\nax.spines['left'].set_position(('axes', 0.6))\nax.spines['right'].set_color('none')\nax.spines['bottom'].set_position(('axes', 0.1))\nax.spines['top'].set_color('none')\nax.spines['left'].set_smart_bounds(True)\nax.spines['bottom'].set_smart_bounds(True)\nax.xaxis.set_ticks_position('bottom')\nax.yaxis.set_ticks_position('left')\n\nax = fig.add_subplot(2, 2, 4)\nax.set_title('spines at data (1, 2)')\nax.plot(x, y)\nax.spines['left'].set_position(('data', 1))\nax.spines['right'].set_color('none')\nax.spines['bottom'].set_position(('data', 2))\nax.spines['top'].set_color('none')\nax.spines['left'].set_smart_bounds(True)\nax.spines['bottom'].set_smart_bounds(True)\nax.xaxis.set_ticks_position('bottom')\nax.yaxis.set_ticks_position('left')\n# ----------------------------------------------------\n\n\ndef adjust_spines(ax, spines):\n    for loc, spine in ax.spines.items():\n        if loc in spines:\n            spine.set_position(('outward', 10))  # outward by 10 points\n            spine.set_smart_bounds(True)\n        else:\n            spine.set_color('none')  # don't draw spine\n\n    # turn off ticks where there is no spine\n    if 'left' in spines:\n        ax.yaxis.set_ticks_position('left')\n    else:\n        # no yaxis ticks\n        ax.yaxis.set_ticks([])\n\n    if 'bottom' in spines:\n        ax.xaxis.set_ticks_position('bottom')\n    else:\n        # no xaxis ticks\n        ax.xaxis.set_ticks([])\n\nfig = plt.figure()\n\nx = np.linspace(0, 2*np.pi, 100)\ny = 2*np.sin(x)\n\nax = fig.add_subplot(2, 2, 1)\nax.plot(x, y, clip_on=False)\nadjust_spines(ax, ['left'])\n\nax = fig.add_subplot(2, 2, 2)\nax.plot(x, y, clip_on=False)\nadjust_spines(ax, [])\n\nax = fig.add_subplot(2, 2, 3)\nax.plot(x, y, clip_on=False)\nadjust_spines(ax, ['left', 'bottom'])\n\nax = fig.add_subplot(2, 2, 4)\nax.plot(x, y, clip_on=False)\nadjust_spines(ax, ['bottom'])\n\nplt.show()"
      ]
    }
  ],
  "nbformat_minor": 0
}