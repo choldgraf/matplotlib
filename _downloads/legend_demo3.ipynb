{
  "nbformat": 4,
  "metadata": {
    "language_info": {
      "version": "3.5.2",
      "file_extension": ".py",
      "nbconvert_exporter": "python",
      "codemirror_mode": {
        "version": 3,
        "name": "ipython"
      },
      "pygments_lexer": "ipython3",
      "mimetype": "text/x-python",
      "name": "python"
    },
    "kernelspec": {
      "language": "python",
      "name": "python3",
      "display_name": "Python 3"
    }
  },
  "cells": [
    {
      "cell_type": "code",
      "outputs": [],
      "execution_count": null,
      "metadata": {
        "collapsed": false
      },
      "source": [
        "%matplotlib inline"
      ]
    },
    {
      "cell_type": "markdown",
      "source": [
        "\n# Legend Demo3\n\n\n\n"
      ],
      "metadata": {}
    },
    {
      "cell_type": "code",
      "outputs": [],
      "execution_count": null,
      "metadata": {
        "collapsed": false
      },
      "source": [
        "import matplotlib.pyplot as plt\nimport numpy as np\n\nx = np.linspace(0, 1)\n\n# Plot the lines y=x**n for n=1..4.\nax = plt.subplot(2, 1, 1)\nfor n in range(1, 5):\n    plt.plot(x, x**n, label=\"n={0}\".format(n))\nplt.legend(loc=\"upper left\", bbox_to_anchor=[0, 1],\n           ncol=2, shadow=True, title=\"Legend\", fancybox=True)\nax.get_legend().get_title().set_color(\"red\")\n\n# Demonstrate some more complex labels.\nax = plt.subplot(2, 1, 2)\nplt.plot(x, x**2, label=\"multi\\nline\")\nhalf_pi = np.linspace(0, np.pi / 2)\nplt.plot(np.sin(half_pi), np.cos(half_pi), label=r\"$\\frac{1}{2}\\pi$\")\nplt.plot(x, 2**(x**2), label=\"$2^{x^2}$\")\nplt.legend(shadow=True, fancybox=True)\n\nplt.show()"
      ]
    }
  ],
  "nbformat_minor": 0
}