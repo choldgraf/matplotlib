{
  "cells": [
    {
      "cell_type": "code",
      "execution_count": null,
      "metadata": {
        "collapsed": false
      },
      "outputs": [],
      "source": [
        "%matplotlib inline"
      ]
    },
    {
      "cell_type": "markdown",
      "metadata": {},
      "source": [
        "\n# Legend Demo3\n\n\n\n"
      ]
    },
    {
      "cell_type": "code",
      "execution_count": null,
      "metadata": {
        "collapsed": false
      },
      "outputs": [],
      "source": [
        "import matplotlib.pyplot as plt\nimport numpy as np\n\nx = np.linspace(0, 1)\n\n# Plot the lines y=x**n for n=1..4.\nax = plt.subplot(2, 1, 1)\nfor n in range(1, 5):\n    plt.plot(x, x**n, label=\"n={0}\".format(n))\nplt.legend(loc=\"upper left\", bbox_to_anchor=[0, 1],\n           ncol=2, shadow=True, title=\"Legend\", fancybox=True)\nax.get_legend().get_title().set_color(\"red\")\n\n# Demonstrate some more complex labels.\nax = plt.subplot(2, 1, 2)\nplt.plot(x, x**2, label=\"multi\\nline\")\nhalf_pi = np.linspace(0, np.pi / 2)\nplt.plot(np.sin(half_pi), np.cos(half_pi), label=r\"$\\frac{1}{2}\\pi$\")\nplt.plot(x, 2**(x**2), label=\"$2^{x^2}$\")\nplt.legend(shadow=True, fancybox=True)\n\nplt.show()"
      ]
    }
  ],
  "metadata": {
    "kernelspec": {
      "display_name": "Python 3",
      "language": "python",
      "name": "python3"
    },
    "language_info": {
      "codemirror_mode": {
        "name": "ipython",
        "version": 3
      },
      "file_extension": ".py",
      "mimetype": "text/x-python",
      "name": "python",
      "nbconvert_exporter": "python",
      "pygments_lexer": "ipython3",
      "version": "3.6.0"
    }
  },
  "nbformat": 4,
  "nbformat_minor": 0
}