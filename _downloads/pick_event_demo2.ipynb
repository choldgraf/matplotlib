{
  "nbformat": 4,
  "metadata": {
    "language_info": {
      "version": "3.5.2",
      "file_extension": ".py",
      "nbconvert_exporter": "python",
      "codemirror_mode": {
        "version": 3,
        "name": "ipython"
      },
      "pygments_lexer": "ipython3",
      "mimetype": "text/x-python",
      "name": "python"
    },
    "kernelspec": {
      "language": "python",
      "name": "python3",
      "display_name": "Python 3"
    }
  },
  "cells": [
    {
      "cell_type": "code",
      "outputs": [],
      "execution_count": null,
      "metadata": {
        "collapsed": false
      },
      "source": [
        "%matplotlib inline"
      ]
    },
    {
      "cell_type": "markdown",
      "source": [
        "\n# Pick Event Demo2\n\n\ncompute the mean and standard deviation (stddev) of 100 data sets and plot\nmean vs stddev.  When you click on one of the mu, sigma points, plot the raw\ndata from the dataset that generated the mean and stddev.\n\n"
      ],
      "metadata": {}
    },
    {
      "cell_type": "code",
      "outputs": [],
      "execution_count": null,
      "metadata": {
        "collapsed": false
      },
      "source": [
        "import numpy\nimport matplotlib.pyplot as plt\n\n\nX = numpy.random.rand(100, 1000)\nxs = numpy.mean(X, axis=1)\nys = numpy.std(X, axis=1)\n\nfig, ax = plt.subplots()\nax.set_title('click on point to plot time series')\nline, = ax.plot(xs, ys, 'o', picker=5)  # 5 points tolerance\n\n\ndef onpick(event):\n\n    if event.artist != line:\n        return True\n\n    N = len(event.ind)\n    if not N:\n        return True\n\n    figi = plt.figure()\n    for subplotnum, dataind in enumerate(event.ind):\n        ax = figi.add_subplot(N, 1, subplotnum + 1)\n        ax.plot(X[dataind])\n        ax.text(0.05, 0.9, 'mu=%1.3f\\nsigma=%1.3f' % (xs[dataind], ys[dataind]),\n                transform=ax.transAxes, va='top')\n        ax.set_ylim(-0.5, 1.5)\n    figi.show()\n    return True\n\nfig.canvas.mpl_connect('pick_event', onpick)\n\nplt.show()"
      ]
    }
  ],
  "nbformat_minor": 0
}