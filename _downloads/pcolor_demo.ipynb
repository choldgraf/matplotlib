{
  "nbformat": 4,
  "metadata": {
    "language_info": {
      "version": "3.5.2",
      "file_extension": ".py",
      "nbconvert_exporter": "python",
      "codemirror_mode": {
        "version": 3,
        "name": "ipython"
      },
      "pygments_lexer": "ipython3",
      "mimetype": "text/x-python",
      "name": "python"
    },
    "kernelspec": {
      "language": "python",
      "name": "python3",
      "display_name": "Python 3"
    }
  },
  "cells": [
    {
      "cell_type": "code",
      "outputs": [],
      "execution_count": null,
      "metadata": {
        "collapsed": false
      },
      "source": [
        "%matplotlib inline"
      ]
    },
    {
      "cell_type": "markdown",
      "source": [
        "\n# Pcolor Demo\n\n\nDemonstrates similarities between pcolor, pcolormesh, imshow and pcolorfast\nfor drawing quadrilateral grids.\n\n\n"
      ],
      "metadata": {}
    },
    {
      "cell_type": "code",
      "outputs": [],
      "execution_count": null,
      "metadata": {
        "collapsed": false
      },
      "source": [
        "import matplotlib.pyplot as plt\nimport numpy as np\n\n# make these smaller to increase the resolution\ndx, dy = 0.15, 0.05\n\n# generate 2 2d grids for the x & y bounds\ny, x = np.mgrid[slice(-3, 3 + dy, dy),\n                slice(-3, 3 + dx, dx)]\nz = (1 - x / 2. + x ** 5 + y ** 3) * np.exp(-x ** 2 - y ** 2)\n# x and y are bounds, so z should be the value *inside* those bounds.\n# Therefore, remove the last value from the z array.\nz = z[:-1, :-1]\nz_min, z_max = -np.abs(z).max(), np.abs(z).max()\n\n\nplt.subplot(2, 2, 1)\nplt.pcolor(x, y, z, cmap='RdBu', vmin=z_min, vmax=z_max)\nplt.title('pcolor')\n# set the limits of the plot to the limits of the data\nplt.axis([x.min(), x.max(), y.min(), y.max()])\nplt.colorbar()\n\n\nplt.subplot(2, 2, 2)\nplt.pcolormesh(x, y, z, cmap='RdBu', vmin=z_min, vmax=z_max)\nplt.title('pcolormesh')\n# set the limits of the plot to the limits of the data\nplt.axis([x.min(), x.max(), y.min(), y.max()])\nplt.colorbar()\n\n\nplt.subplot(2, 2, 3)\nplt.imshow(z, cmap='RdBu', vmin=z_min, vmax=z_max,\n           extent=[x.min(), x.max(), y.min(), y.max()],\n           interpolation='nearest', origin='lower')\nplt.title('image (nearest)')\nplt.colorbar()\n\n\nax = plt.subplot(2, 2, 4)\nax.pcolorfast(x, y, z, cmap='RdBu', vmin=z_min, vmax=z_max)\nplt.title('pcolorfast')\nplt.colorbar()\n\nplt.subplots_adjust(wspace=0.5, hspace=0.5)\n\nplt.show()"
      ]
    }
  ],
  "nbformat_minor": 0
}