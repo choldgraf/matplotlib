{
  "nbformat": 4,
  "metadata": {
    "language_info": {
      "version": "3.5.2",
      "file_extension": ".py",
      "nbconvert_exporter": "python",
      "codemirror_mode": {
        "version": 3,
        "name": "ipython"
      },
      "pygments_lexer": "ipython3",
      "mimetype": "text/x-python",
      "name": "python"
    },
    "kernelspec": {
      "language": "python",
      "name": "python3",
      "display_name": "Python 3"
    }
  },
  "cells": [
    {
      "cell_type": "code",
      "outputs": [],
      "execution_count": null,
      "metadata": {
        "collapsed": false
      },
      "source": [
        "%matplotlib inline"
      ]
    },
    {
      "cell_type": "markdown",
      "source": [
        "\n# Dashpoint Label\n\n\n\n"
      ],
      "metadata": {}
    },
    {
      "cell_type": "code",
      "outputs": [],
      "execution_count": null,
      "metadata": {
        "collapsed": false
      },
      "source": [
        "import matplotlib.pyplot as plt\n\nDATA = ((1, 3),\n        (2, 4),\n        (3, 1),\n        (4, 2))\n# dash_style =\n#     direction, length, (text)rotation, dashrotation, push\n# (The parameters are varied to show their effects,\n# not for visual appeal).\ndash_style = (\n    (0, 20, -15, 30, 10),\n    (1, 30, 0, 15, 10),\n    (0, 40, 15, 15, 10),\n    (1, 20, 30, 60, 10),\n    )\n\nfig, ax = plt.subplots()\n\n(x, y) = zip(*DATA)\nax.plot(x, y, marker='o')\nfor i in range(len(DATA)):\n    (x, y) = DATA[i]\n    (dd, dl, r, dr, dp) = dash_style[i]\n    #print('dashlen call %d' % dl)\n    t = ax.text(x, y, str((x, y)), withdash=True,\n                dashdirection=dd,\n                dashlength=dl,\n                rotation=r,\n                dashrotation=dr,\n                dashpush=dp,\n                )\n\nax.set_xlim((0.0, 5.0))\nax.set_ylim((0.0, 5.0))\n\nplt.show()"
      ]
    }
  ],
  "nbformat_minor": 0
}