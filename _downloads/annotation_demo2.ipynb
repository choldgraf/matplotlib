{
  "nbformat": 4,
  "metadata": {
    "language_info": {
      "version": "3.5.2",
      "file_extension": ".py",
      "nbconvert_exporter": "python",
      "codemirror_mode": {
        "version": 3,
        "name": "ipython"
      },
      "pygments_lexer": "ipython3",
      "mimetype": "text/x-python",
      "name": "python"
    },
    "kernelspec": {
      "language": "python",
      "name": "python3",
      "display_name": "Python 3"
    }
  },
  "cells": [
    {
      "cell_type": "code",
      "outputs": [],
      "execution_count": null,
      "metadata": {
        "collapsed": false
      },
      "source": [
        "%matplotlib inline"
      ]
    },
    {
      "cell_type": "markdown",
      "source": [
        "\n# Annotation Demo2\n\n\n\n"
      ],
      "metadata": {}
    },
    {
      "cell_type": "code",
      "outputs": [],
      "execution_count": null,
      "metadata": {
        "collapsed": false
      },
      "source": [
        "import matplotlib.pyplot as plt\nfrom matplotlib.patches import Ellipse\nimport numpy as np\n\n\nfig = plt.figure(1, figsize=(8, 5))\nax = fig.add_subplot(111, autoscale_on=False, xlim=(-1, 5), ylim=(-4, 3))\n\nt = np.arange(0.0, 5.0, 0.01)\ns = np.cos(2*np.pi*t)\nline, = ax.plot(t, s, lw=3)\n\nax.annotate('straight',\n            xy=(0, 1), xycoords='data',\n            xytext=(-50, 30), textcoords='offset points',\n            arrowprops=dict(arrowstyle=\"->\"))\n\nax.annotate('arc3,\\nrad 0.2',\n            xy=(0.5, -1), xycoords='data',\n            xytext=(-80, -60), textcoords='offset points',\n            arrowprops=dict(arrowstyle=\"->\",\n                            connectionstyle=\"arc3,rad=.2\"))\n\nax.annotate('arc,\\nangle 50',\n            xy=(1., 1), xycoords='data',\n            xytext=(-90, 50), textcoords='offset points',\n            arrowprops=dict(arrowstyle=\"->\",\n                            connectionstyle=\"arc,angleA=0,armA=50,rad=10\"))\n\nax.annotate('arc,\\narms',\n            xy=(1.5, -1), xycoords='data',\n            xytext=(-80, -60), textcoords='offset points',\n            arrowprops=dict(arrowstyle=\"->\",\n                            connectionstyle=\"arc,angleA=0,armA=40,angleB=-90,armB=30,rad=7\"))\n\nax.annotate('angle,\\nangle 90',\n            xy=(2., 1), xycoords='data',\n            xytext=(-70, 30), textcoords='offset points',\n            arrowprops=dict(arrowstyle=\"->\",\n                            connectionstyle=\"angle,angleA=0,angleB=90,rad=10\"))\n\nax.annotate('angle3,\\nangle -90',\n            xy=(2.5, -1), xycoords='data',\n            xytext=(-80, -60), textcoords='offset points',\n            arrowprops=dict(arrowstyle=\"->\",\n                            connectionstyle=\"angle3,angleA=0,angleB=-90\"))\n\nax.annotate('angle,\\nround',\n            xy=(3., 1), xycoords='data',\n            xytext=(-60, 30), textcoords='offset points',\n            bbox=dict(boxstyle=\"round\", fc=\"0.8\"),\n            arrowprops=dict(arrowstyle=\"->\",\n                            connectionstyle=\"angle,angleA=0,angleB=90,rad=10\"))\n\nax.annotate('angle,\\nround4',\n            xy=(3.5, -1), xycoords='data',\n            xytext=(-70, -80), textcoords='offset points',\n            size=20,\n            bbox=dict(boxstyle=\"round4,pad=.5\", fc=\"0.8\"),\n            arrowprops=dict(arrowstyle=\"->\",\n                            connectionstyle=\"angle,angleA=0,angleB=-90,rad=10\"))\n\nax.annotate('angle,\\nshrink',\n            xy=(4., 1), xycoords='data',\n            xytext=(-60, 30), textcoords='offset points',\n            bbox=dict(boxstyle=\"round\", fc=\"0.8\"),\n            arrowprops=dict(arrowstyle=\"->\",\n                            shrinkA=0, shrinkB=10,\n                            connectionstyle=\"angle,angleA=0,angleB=90,rad=10\"))\n\n# You can pass an empty string to get only annotation arrows rendered\nann = ax.annotate('', xy=(4., 1.), xycoords='data',\n                  xytext=(4.5, -1), textcoords='data',\n                  arrowprops=dict(arrowstyle=\"<->\",\n                                  connectionstyle=\"bar\",\n                                  ec=\"k\",\n                                  shrinkA=5, shrinkB=5))\n\n\nfig = plt.figure(2)\nfig.clf()\nax = fig.add_subplot(111, autoscale_on=False, xlim=(-1, 5), ylim=(-5, 3))\n\nel = Ellipse((2, -1), 0.5, 0.5)\nax.add_patch(el)\n\nax.annotate('$->$',\n            xy=(2., -1), xycoords='data',\n            xytext=(-150, -140), textcoords='offset points',\n            bbox=dict(boxstyle=\"round\", fc=\"0.8\"),\n            arrowprops=dict(arrowstyle=\"->\",\n                            patchB=el,\n                            connectionstyle=\"angle,angleA=90,angleB=0,rad=10\"))\n\nax.annotate('arrow\\nfancy',\n            xy=(2., -1), xycoords='data',\n            xytext=(-100, 60), textcoords='offset points',\n            size=20,\n            # bbox=dict(boxstyle=\"round\", fc=\"0.8\"),\n            arrowprops=dict(arrowstyle=\"fancy\",\n                            fc=\"0.6\", ec=\"none\",\n                            patchB=el,\n                            connectionstyle=\"angle3,angleA=0,angleB=-90\"))\n\nax.annotate('arrow\\nsimple',\n            xy=(2., -1), xycoords='data',\n            xytext=(100, 60), textcoords='offset points',\n            size=20,\n            # bbox=dict(boxstyle=\"round\", fc=\"0.8\"),\n            arrowprops=dict(arrowstyle=\"simple\",\n                            fc=\"0.6\", ec=\"none\",\n                            patchB=el,\n                            connectionstyle=\"arc3,rad=0.3\"))\n\nax.annotate('wedge',\n            xy=(2., -1), xycoords='data',\n            xytext=(-100, -100), textcoords='offset points',\n            size=20,\n            # bbox=dict(boxstyle=\"round\", fc=\"0.8\"),\n            arrowprops=dict(arrowstyle=\"wedge,tail_width=0.7\",\n                            fc=\"0.6\", ec=\"none\",\n                            patchB=el,\n                            connectionstyle=\"arc3,rad=-0.3\"))\n\nann = ax.annotate('bubble,\\ncontours',\n                  xy=(2., -1), xycoords='data',\n                  xytext=(0, -70), textcoords='offset points',\n                  size=20,\n                  bbox=dict(boxstyle=\"round\",\n                            fc=(1.0, 0.7, 0.7),\n                            ec=(1., .5, .5)),\n                  arrowprops=dict(arrowstyle=\"wedge,tail_width=1.\",\n                                  fc=(1.0, 0.7, 0.7), ec=(1., .5, .5),\n                                  patchA=None,\n                                  patchB=el,\n                                  relpos=(0.2, 0.8),\n                                  connectionstyle=\"arc3,rad=-0.1\"))\n\nann = ax.annotate('bubble',\n                  xy=(2., -1), xycoords='data',\n                  xytext=(55, 0), textcoords='offset points',\n                  size=20, va=\"center\",\n                  bbox=dict(boxstyle=\"round\", fc=(1.0, 0.7, 0.7), ec=\"none\"),\n                  arrowprops=dict(arrowstyle=\"wedge,tail_width=1.\",\n                                  fc=(1.0, 0.7, 0.7), ec=\"none\",\n                                  patchA=None,\n                                  patchB=el,\n                                  relpos=(0.2, 0.5)))\n\nplt.show()"
      ]
    }
  ],
  "nbformat_minor": 0
}