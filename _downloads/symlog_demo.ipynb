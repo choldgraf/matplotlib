{
  "nbformat": 4,
  "metadata": {
    "language_info": {
      "version": "3.5.2",
      "file_extension": ".py",
      "nbconvert_exporter": "python",
      "codemirror_mode": {
        "version": 3,
        "name": "ipython"
      },
      "pygments_lexer": "ipython3",
      "mimetype": "text/x-python",
      "name": "python"
    },
    "kernelspec": {
      "language": "python",
      "name": "python3",
      "display_name": "Python 3"
    }
  },
  "cells": [
    {
      "cell_type": "code",
      "outputs": [],
      "execution_count": null,
      "metadata": {
        "collapsed": false
      },
      "source": [
        "%matplotlib inline"
      ]
    },
    {
      "cell_type": "markdown",
      "source": [
        "\n# Symlog Demo\n\n\n\n"
      ],
      "metadata": {}
    },
    {
      "cell_type": "code",
      "outputs": [],
      "execution_count": null,
      "metadata": {
        "collapsed": false
      },
      "source": [
        "import matplotlib.pyplot as plt\nimport numpy as np\n\ndt = 0.01\nx = np.arange(-50.0, 50.0, dt)\ny = np.arange(0, 100.0, dt)\n\nplt.subplot(311)\nplt.plot(x, y)\nplt.xscale('symlog')\nplt.ylabel('symlogx')\nplt.grid(True)\nplt.gca().xaxis.grid(True, which='minor')  # minor grid on too\n\nplt.subplot(312)\nplt.plot(y, x)\nplt.yscale('symlog')\nplt.ylabel('symlogy')\n\nplt.subplot(313)\nplt.plot(x, np.sin(x / 3.0))\nplt.xscale('symlog')\nplt.yscale('symlog', linthreshy=0.015)\nplt.grid(True)\nplt.ylabel('symlog both')\n\nplt.subplots_adjust(hspace=0.5, left=0.2)\n\nplt.show()"
      ]
    }
  ],
  "nbformat_minor": 0
}