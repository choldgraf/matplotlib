{
  "nbformat": 4,
  "metadata": {
    "language_info": {
      "version": "3.5.2",
      "file_extension": ".py",
      "nbconvert_exporter": "python",
      "codemirror_mode": {
        "version": 3,
        "name": "ipython"
      },
      "pygments_lexer": "ipython3",
      "mimetype": "text/x-python",
      "name": "python"
    },
    "kernelspec": {
      "language": "python",
      "name": "python3",
      "display_name": "Python 3"
    }
  },
  "cells": [
    {
      "cell_type": "code",
      "outputs": [],
      "execution_count": null,
      "metadata": {
        "collapsed": false
      },
      "source": [
        "%matplotlib inline"
      ]
    },
    {
      "cell_type": "markdown",
      "source": [
        "\n# Errorbar Limits\n\n\nIllustration of upper and lower limit symbols on errorbars\n\n"
      ],
      "metadata": {}
    },
    {
      "cell_type": "code",
      "outputs": [],
      "execution_count": null,
      "metadata": {
        "collapsed": false
      },
      "source": [
        "import numpy as np\nimport matplotlib.pyplot as plt\n\nfig = plt.figure(0)\nx = np.arange(10.0)\ny = np.sin(np.arange(10.0)/20.0*np.pi)\n\nplt.errorbar(x, y, yerr=0.1)\n\ny = np.sin(np.arange(10.0)/20.0*np.pi) + 1\nplt.errorbar(x, y, yerr=0.1, uplims=True)\n\ny = np.sin(np.arange(10.0)/20.0*np.pi) + 2\nupperlimits = np.array([1, 0]*5)\nlowerlimits = np.array([0, 1]*5)\nplt.errorbar(x, y, yerr=0.1, uplims=upperlimits, lolims=lowerlimits)\n\nplt.xlim(-1, 10)\n\nfig = plt.figure(1)\nx = np.arange(10.0)/10.0\ny = (x + 0.1)**2\n\nplt.errorbar(x, y, xerr=0.1, xlolims=True)\ny = (x + 0.1)**3\n\nplt.errorbar(x + 0.6, y, xerr=0.1, xuplims=upperlimits, xlolims=lowerlimits)\n\ny = (x + 0.1)**4\nplt.errorbar(x + 1.2, y, xerr=0.1, xuplims=True)\n\nplt.xlim(-0.2, 2.4)\nplt.ylim(-0.1, 1.3)\n\nplt.show()"
      ]
    }
  ],
  "nbformat_minor": 0
}