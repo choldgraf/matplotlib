{
  "nbformat": 4,
  "metadata": {
    "language_info": {
      "version": "3.5.2",
      "file_extension": ".py",
      "nbconvert_exporter": "python",
      "codemirror_mode": {
        "version": 3,
        "name": "ipython"
      },
      "pygments_lexer": "ipython3",
      "mimetype": "text/x-python",
      "name": "python"
    },
    "kernelspec": {
      "language": "python",
      "name": "python3",
      "display_name": "Python 3"
    }
  },
  "cells": [
    {
      "cell_type": "code",
      "outputs": [],
      "execution_count": null,
      "metadata": {
        "collapsed": false
      },
      "source": [
        "%matplotlib inline"
      ]
    },
    {
      "cell_type": "markdown",
      "source": [
        "\n# Psd Demo2\n\n\nThis example shows the effects of some of the different PSD parameters\n\n"
      ],
      "metadata": {}
    },
    {
      "cell_type": "code",
      "outputs": [],
      "execution_count": null,
      "metadata": {
        "collapsed": false
      },
      "source": [
        "import numpy as np\nimport matplotlib.pyplot as plt\n\n# Fixing random state for reproducibility\nnp.random.seed(19680801)\n\n\ndt = np.pi / 100.\nfs = 1. / dt\nt = np.arange(0, 8, dt)\ny = 10. * np.sin(2 * np.pi * 4 * t) + 5. * np.sin(2 * np.pi * 4.25 * t)\ny = y + np.random.randn(*t.shape)\n\n# Plot the raw time series\nfig = plt.figure()\nfig.subplots_adjust(hspace=0.45, wspace=0.3)\nax = fig.add_subplot(2, 1, 1)\nax.plot(t, y)\n\n# Plot the PSD with different amounts of zero padding. This uses the entire\n# time series at once\nax2 = fig.add_subplot(2, 3, 4)\nax2.psd(y, NFFT=len(t), pad_to=len(t), Fs=fs)\nax2.psd(y, NFFT=len(t), pad_to=len(t)*2, Fs=fs)\nax2.psd(y, NFFT=len(t), pad_to=len(t)*4, Fs=fs)\nplt.title('zero padding')\n\n# Plot the PSD with different block sizes, Zero pad to the length of the\n# original data sequence.\nax3 = fig.add_subplot(2, 3, 5, sharex=ax2, sharey=ax2)\nax3.psd(y, NFFT=len(t), pad_to=len(t), Fs=fs)\nax3.psd(y, NFFT=len(t)//2, pad_to=len(t), Fs=fs)\nax3.psd(y, NFFT=len(t)//4, pad_to=len(t), Fs=fs)\nax3.set_ylabel('')\nplt.title('block size')\n\n# Plot the PSD with different amounts of overlap between blocks\nax4 = fig.add_subplot(2, 3, 6, sharex=ax2, sharey=ax2)\nax4.psd(y, NFFT=len(t)//2, pad_to=len(t), noverlap=0, Fs=fs)\nax4.psd(y, NFFT=len(t)//2, pad_to=len(t), noverlap=int(0.05*len(t)/2.), Fs=fs)\nax4.psd(y, NFFT=len(t)//2, pad_to=len(t), noverlap=int(0.2*len(t)/2.), Fs=fs)\nax4.set_ylabel('')\nplt.title('overlap')\n\nplt.show()"
      ]
    }
  ],
  "nbformat_minor": 0
}