{
  "nbformat": 4,
  "metadata": {
    "language_info": {
      "version": "3.5.2",
      "file_extension": ".py",
      "nbconvert_exporter": "python",
      "codemirror_mode": {
        "version": 3,
        "name": "ipython"
      },
      "pygments_lexer": "ipython3",
      "mimetype": "text/x-python",
      "name": "python"
    },
    "kernelspec": {
      "language": "python",
      "name": "python3",
      "display_name": "Python 3"
    }
  },
  "cells": [
    {
      "cell_type": "code",
      "outputs": [],
      "execution_count": null,
      "metadata": {
        "collapsed": false
      },
      "source": [
        "%matplotlib inline"
      ]
    },
    {
      "cell_type": "markdown",
      "source": [
        "\n# Hexbin Demo2\n\n\nhexbin is an axes method or pyplot function that is essentially a\npcolor of a 2-D histogram with hexagonal cells.\n\n"
      ],
      "metadata": {}
    },
    {
      "cell_type": "code",
      "outputs": [],
      "execution_count": null,
      "metadata": {
        "collapsed": false
      },
      "source": [
        "import numpy as np\nimport matplotlib.pyplot as plt\nimport matplotlib.mlab as mlab\n\ndelta = 0.025\nx = y = np.arange(-3.0, 3.0, delta)\nX, Y = np.meshgrid(x, y)\nZ1 = mlab.bivariate_normal(X, Y, 1.0, 1.0, 0.0, 0.0)\nZ2 = mlab.bivariate_normal(X, Y, 1.5, 0.5, 1, 1)\nZ = Z2 - Z1  # difference of Gaussians\n\nx = X.ravel()\ny = Y.ravel()\nz = Z.ravel()\n\nif 1:\n    # make some points 20 times more common than others, but same mean\n    xcond = (-1 < x) & (x < 1)\n    ycond = (-2 < y) & (y < 0)\n    cond = xcond & ycond\n    xnew = x[cond]\n    ynew = y[cond]\n    znew = z[cond]\n    for i in range(20):\n        x = np.hstack((x, xnew))\n        y = np.hstack((y, ynew))\n        z = np.hstack((z, znew))\n\nxmin = x.min()\nxmax = x.max()\nymin = y.min()\nymax = y.max()\n\ngridsize = 30\n\nplt.subplot(211)\nplt.hexbin(x, y, C=z, gridsize=gridsize, marginals=True, cmap=plt.cm.RdBu,\n           vmax=abs(z).max(), vmin=-abs(z).max())\nplt.axis([xmin, xmax, ymin, ymax])\ncb = plt.colorbar()\ncb.set_label('mean value')\n\n\nplt.subplot(212)\nplt.hexbin(x, y, gridsize=gridsize, cmap=plt.cm.Blues_r)\nplt.axis([xmin, xmax, ymin, ymax])\ncb = plt.colorbar()\ncb.set_label('N observations')\n\nplt.show()"
      ]
    }
  ],
  "nbformat_minor": 0
}