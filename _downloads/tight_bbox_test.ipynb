{
  "nbformat": 4,
  "metadata": {
    "language_info": {
      "version": "3.5.2",
      "file_extension": ".py",
      "nbconvert_exporter": "python",
      "codemirror_mode": {
        "version": 3,
        "name": "ipython"
      },
      "pygments_lexer": "ipython3",
      "mimetype": "text/x-python",
      "name": "python"
    },
    "kernelspec": {
      "language": "python",
      "name": "python3",
      "display_name": "Python 3"
    }
  },
  "cells": [
    {
      "cell_type": "code",
      "outputs": [],
      "execution_count": null,
      "metadata": {
        "collapsed": false
      },
      "source": [
        "%matplotlib inline"
      ]
    },
    {
      "cell_type": "markdown",
      "source": [
        "\n# Tight Bbox Test\n\n\n\n"
      ],
      "metadata": {}
    },
    {
      "cell_type": "code",
      "outputs": [],
      "execution_count": null,
      "metadata": {
        "collapsed": false
      },
      "source": [
        "from __future__ import print_function\nimport matplotlib.pyplot as plt\nimport numpy as np\n\nax = plt.axes([0.1, 0.3, 0.5, 0.5])\n\nax.pcolormesh(np.array([[1, 2], [3, 4]]))\nplt.yticks([0.5, 1.5], [\"long long tick label\",\n                        \"tick label\"])\nplt.ylabel(\"My y-label\")\nplt.title(\"Check saved figures for their bboxes\")\nfor ext in [\"png\", \"pdf\", \"svg\", \"svgz\", \"eps\"]:\n    print(\"saving tight_bbox_test.%s\" % (ext,))\n    plt.savefig(\"tight_bbox_test.%s\" % (ext,), bbox_inches=\"tight\")\nplt.show()"
      ]
    }
  ],
  "nbformat_minor": 0
}