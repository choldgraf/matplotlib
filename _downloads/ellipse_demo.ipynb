{
  "nbformat": 4,
  "metadata": {
    "language_info": {
      "version": "3.5.2",
      "file_extension": ".py",
      "nbconvert_exporter": "python",
      "codemirror_mode": {
        "version": 3,
        "name": "ipython"
      },
      "pygments_lexer": "ipython3",
      "mimetype": "text/x-python",
      "name": "python"
    },
    "kernelspec": {
      "language": "python",
      "name": "python3",
      "display_name": "Python 3"
    }
  },
  "cells": [
    {
      "cell_type": "code",
      "outputs": [],
      "execution_count": null,
      "metadata": {
        "collapsed": false
      },
      "source": [
        "%matplotlib inline"
      ]
    },
    {
      "cell_type": "markdown",
      "source": [
        "\n# Ellipse Demo\n\n\n\n"
      ],
      "metadata": {}
    },
    {
      "cell_type": "code",
      "outputs": [],
      "execution_count": null,
      "metadata": {
        "collapsed": false
      },
      "source": [
        "import matplotlib.pyplot as plt\nimport numpy.random as rnd\nfrom matplotlib.patches import Ellipse\n\nNUM = 250\n\nells = [Ellipse(xy=rnd.rand(2)*10, width=rnd.rand(), height=rnd.rand(), angle=rnd.rand()*360)\n        for i in range(NUM)]\n\nfig = plt.figure(0)\nax = fig.add_subplot(111, aspect='equal')\nfor e in ells:\n    ax.add_artist(e)\n    e.set_clip_box(ax.bbox)\n    e.set_alpha(rnd.rand())\n    e.set_facecolor(rnd.rand(3))\n\nax.set_xlim(0, 10)\nax.set_ylim(0, 10)\n\nplt.show()"
      ]
    }
  ],
  "nbformat_minor": 0
}