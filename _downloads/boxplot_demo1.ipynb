{
  "cells": [
    {
      "cell_type": "code",
      "execution_count": null,
      "metadata": {
        "collapsed": false
      },
      "outputs": [],
      "source": [
        "%matplotlib inline"
      ]
    },
    {
      "cell_type": "markdown",
      "metadata": {},
      "source": [
        "\n# Boxplot Demo\n\n\nExample boxplot code\n\n"
      ]
    },
    {
      "cell_type": "code",
      "execution_count": null,
      "metadata": {
        "collapsed": false
      },
      "outputs": [],
      "source": [
        "import numpy as np\nimport matplotlib.pyplot as plt\n\n# Fixing random state for reproducibility\nnp.random.seed(19680801)\n\n# fake up some data\nspread = np.random.rand(50) * 100\ncenter = np.ones(25) * 50\nflier_high = np.random.rand(10) * 100 + 100\nflier_low = np.random.rand(10) * -100\ndata = np.concatenate((spread, center, flier_high, flier_low), 0)\n\nfig1, ax1 = plt.subplots()\nax1.set_title('Basic Plot')\nax1.boxplot(data)\n\nfig2, ax2 = plt.subplots()\nax2.set_title('Notched boxes')\nax2.boxplot(data, notch=True)\n\ngreen_diamond = dict(markerfacecolor='g', marker='D')\nfig3, ax3 = plt.subplots()\nax3.set_title('Changed Outlier Symbols')\nax3.boxplot(data, flierprops=green_diamond)\n\nfig4, ax4 = plt.subplots()\nax4.set_title('Hide Outlier Points')\nax4.boxplot(data, showfliers=False)\n\nred_square = dict(markerfacecolor='r', marker='s')\nfig5, ax5 = plt.subplots()\nax5.set_title('Horizontal Boxes')\nax5.boxplot(data, vert=False, flierprops=red_square)\n\nfig6, ax6 = plt.subplots()\nax6.set_title('Shorter Whisker Length')\nax6.boxplot(data, flierprops=red_square, vert=False, whis=0.75)\n\n# fake up some more data\nspread = np.random.rand(50) * 100\ncenter = np.ones(25) * 40\nflier_high = np.random.rand(10) * 100 + 100\nflier_low = np.random.rand(10) * -100\nd2 = np.concatenate((spread, center, flier_high, flier_low), 0)\ndata.shape = (-1, 1)\nd2.shape = (-1, 1)\n\n# Making a 2-D array only works if all the columns are the\n# same length.  If they are not, then use a list instead.\n# This is actually more efficient because boxplot converts\n# a 2-D array into a list of vectors internally anyway.\ndata = [data, d2, d2[::2,0]]\nfig7, ax7 = plt.subplots()\nax7.set_title('Multiple Samples with Different sizes')\nax7.boxplot(data)\n\nplt.show()"
      ]
    }
  ],
  "metadata": {
    "kernelspec": {
      "display_name": "Python 3",
      "language": "python",
      "name": "python3"
    },
    "language_info": {
      "codemirror_mode": {
        "name": "ipython",
        "version": 3
      },
      "file_extension": ".py",
      "mimetype": "text/x-python",
      "name": "python",
      "nbconvert_exporter": "python",
      "pygments_lexer": "ipython3",
      "version": "3.6.0"
    }
  },
  "nbformat": 4,
  "nbformat_minor": 0
}