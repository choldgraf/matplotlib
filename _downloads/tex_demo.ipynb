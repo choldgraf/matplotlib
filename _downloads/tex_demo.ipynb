{
  "nbformat": 4,
  "metadata": {
    "language_info": {
      "version": "3.5.2",
      "file_extension": ".py",
      "nbconvert_exporter": "python",
      "codemirror_mode": {
        "version": 3,
        "name": "ipython"
      },
      "pygments_lexer": "ipython3",
      "mimetype": "text/x-python",
      "name": "python"
    },
    "kernelspec": {
      "language": "python",
      "name": "python3",
      "display_name": "Python 3"
    }
  },
  "cells": [
    {
      "cell_type": "code",
      "outputs": [],
      "execution_count": null,
      "metadata": {
        "collapsed": false
      },
      "source": [
        "%matplotlib inline"
      ]
    },
    {
      "cell_type": "markdown",
      "source": [
        "\n# Tex Demo\n\n\nYou can use TeX to render all of your matplotlib text if the rc\nparameter text.usetex is set.  This works currently on the agg and ps\nbackends, and requires that you have tex and the other dependencies\ndescribed at http://matplotlib.org/users/usetex.html\nproperly installed on your system.  The first time you run a script\nyou will see a lot of output from tex and associated tools.  The next\ntime, the run may be silent, as a lot of the information is cached in\n~/.tex.cache\n\n\n"
      ],
      "metadata": {}
    },
    {
      "cell_type": "code",
      "outputs": [],
      "execution_count": null,
      "metadata": {
        "collapsed": false
      },
      "source": [
        "import numpy as np\nimport matplotlib.pyplot as plt\n\n\nplt.rc('text', usetex=True)\nplt.rc('font', family='serif')\nplt.figure(1, figsize=(6, 4))\nax = plt.axes([0.1, 0.1, 0.8, 0.7])\nt = np.linspace(0.0, 1.0, 100)\ns = np.cos(4 * np.pi * t) + 2\nplt.plot(t, s)\n\nplt.xlabel(r'\\textbf{time (s)}')\nplt.ylabel(r'\\textit{voltage (mV)}', fontsize=16)\nplt.title(r\"\\TeX\\ is Number $\\displaystyle\\sum_{n=1}^\\infty\"\n          r\"\\frac{-e^{i\\pi}}{2^n}$!\", fontsize=16, color='r')\nplt.grid(True)\nplt.savefig('tex_demo')\nplt.show()"
      ]
    }
  ],
  "nbformat_minor": 0
}