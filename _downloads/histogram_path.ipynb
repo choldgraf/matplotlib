{
  "nbformat": 4,
  "metadata": {
    "language_info": {
      "version": "3.5.2",
      "file_extension": ".py",
      "nbconvert_exporter": "python",
      "codemirror_mode": {
        "version": 3,
        "name": "ipython"
      },
      "pygments_lexer": "ipython3",
      "mimetype": "text/x-python",
      "name": "python"
    },
    "kernelspec": {
      "language": "python",
      "name": "python3",
      "display_name": "Python 3"
    }
  },
  "cells": [
    {
      "cell_type": "code",
      "outputs": [],
      "execution_count": null,
      "metadata": {
        "collapsed": false
      },
      "source": [
        "%matplotlib inline"
      ]
    },
    {
      "cell_type": "markdown",
      "source": [
        "\n# Building histograms using Rectangles and PolyCollections\n\n\nThis example shows how to use a path patch to draw a bunch of\nrectangles.  The technique of using lots of Rectangle instances, or\nthe faster method of using PolyCollections, were implemented before we\nhad proper paths with moveto/lineto, closepoly etc in mpl.  Now that\nwe have them, we can draw collections of regularly shaped objects with\nhomogeneous properties more efficiently with a PathCollection.  This\nexample makes a histogram -- its more work to set up the vertex arrays\nat the outset, but it should be much faster for large numbers of\nobjects\n\n"
      ],
      "metadata": {}
    },
    {
      "cell_type": "code",
      "outputs": [],
      "execution_count": null,
      "metadata": {
        "collapsed": false
      },
      "source": [
        "import numpy as np\nimport matplotlib.pyplot as plt\nimport matplotlib.patches as patches\nimport matplotlib.path as path\n\nfig, ax = plt.subplots()\n\n# Fixing random state for reproducibility\nnp.random.seed(19680801)\n\n\n# histogram our data with numpy\n\ndata = np.random.randn(1000)\nn, bins = np.histogram(data, 50)\n\n# get the corners of the rectangles for the histogram\nleft = np.array(bins[:-1])\nright = np.array(bins[1:])\nbottom = np.zeros(len(left))\ntop = bottom + n\n\n\n# we need a (numrects x numsides x 2) numpy array for the path helper\n# function to build a compound path\nXY = np.array([[left, left, right, right], [bottom, top, top, bottom]]).T\n\n# get the Path object\nbarpath = path.Path.make_compound_path_from_polys(XY)\n\n# make a patch out of it\npatch = patches.PathPatch(barpath)\nax.add_patch(patch)\n\n# update the view limits\nax.set_xlim(left[0], right[-1])\nax.set_ylim(bottom.min(), top.max())\n\nplt.show()"
      ]
    }
  ],
  "nbformat_minor": 0
}