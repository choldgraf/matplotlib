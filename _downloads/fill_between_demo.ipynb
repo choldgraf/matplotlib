{
  "nbformat": 4,
  "metadata": {
    "language_info": {
      "version": "3.5.2",
      "file_extension": ".py",
      "nbconvert_exporter": "python",
      "codemirror_mode": {
        "version": 3,
        "name": "ipython"
      },
      "pygments_lexer": "ipython3",
      "mimetype": "text/x-python",
      "name": "python"
    },
    "kernelspec": {
      "language": "python",
      "name": "python3",
      "display_name": "Python 3"
    }
  },
  "cells": [
    {
      "cell_type": "code",
      "outputs": [],
      "execution_count": null,
      "metadata": {
        "collapsed": false
      },
      "source": [
        "%matplotlib inline"
      ]
    },
    {
      "cell_type": "markdown",
      "source": [
        "\n# Fill Between Demo\n\n\n\n"
      ],
      "metadata": {}
    },
    {
      "cell_type": "code",
      "outputs": [],
      "execution_count": null,
      "metadata": {
        "collapsed": false
      },
      "source": [
        "import matplotlib.pyplot as plt\nimport numpy as np\n\nx = np.arange(0.0, 2, 0.01)\ny1 = np.sin(2*np.pi*x)\ny2 = 1.2*np.sin(4*np.pi*x)\n\nfig, (ax1, ax2, ax3) = plt.subplots(3, 1, sharex=True)\n\nax1.fill_between(x, 0, y1)\nax1.set_ylabel('between y1 and 0')\n\nax2.fill_between(x, y1, 1)\nax2.set_ylabel('between y1 and 1')\n\nax3.fill_between(x, y1, y2)\nax3.set_ylabel('between y1 and y2')\nax3.set_xlabel('x')\n\n# now fill between y1 and y2 where a logical condition is met.  Note\n# this is different than calling\n#   fill_between(x[where], y1[where],y2[where]\n# because of edge effects over multiple contiguous regions.\nfig, (ax, ax1) = plt.subplots(2, 1, sharex=True)\nax.plot(x, y1, x, y2, color='black')\nax.fill_between(x, y1, y2, where=y2 >= y1, facecolor='green', interpolate=True)\nax.fill_between(x, y1, y2, where=y2 <= y1, facecolor='red', interpolate=True)\nax.set_title('fill between where')\n\n# Test support for masked arrays.\ny2 = np.ma.masked_greater(y2, 1.0)\nax1.plot(x, y1, x, y2, color='black')\nax1.fill_between(x, y1, y2, where=y2 >= y1, facecolor='green', interpolate=True)\nax1.fill_between(x, y1, y2, where=y2 <= y1, facecolor='red', interpolate=True)\nax1.set_title('Now regions with y2>1 are masked')\n\n# This example illustrates a problem; because of the data\n# gridding, there are undesired unfilled triangles at the crossover\n# points.  A brute-force solution would be to interpolate all\n# arrays to a very fine grid before plotting.\n\n# show how to use transforms to create axes spans where a certain condition is satisfied\nfig, ax = plt.subplots()\ny = np.sin(4*np.pi*x)\nax.plot(x, y, color='black')\n\n# use the data coordinates for the x-axis and the axes coordinates for the y-axis\nimport matplotlib.transforms as mtransforms\ntrans = mtransforms.blended_transform_factory(ax.transData, ax.transAxes)\ntheta = 0.9\nax.axhline(theta, color='green', lw=2, alpha=0.5)\nax.axhline(-theta, color='red', lw=2, alpha=0.5)\nax.fill_between(x, 0, 1, where=y > theta, facecolor='green', alpha=0.5, transform=trans)\nax.fill_between(x, 0, 1, where=y < -theta, facecolor='red', alpha=0.5, transform=trans)\n\n\nplt.show()"
      ]
    }
  ],
  "nbformat_minor": 0
}