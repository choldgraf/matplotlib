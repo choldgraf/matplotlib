{
  "nbformat": 4,
  "metadata": {
    "language_info": {
      "version": "3.5.2",
      "file_extension": ".py",
      "nbconvert_exporter": "python",
      "codemirror_mode": {
        "version": 3,
        "name": "ipython"
      },
      "pygments_lexer": "ipython3",
      "mimetype": "text/x-python",
      "name": "python"
    },
    "kernelspec": {
      "language": "python",
      "name": "python3",
      "display_name": "Python 3"
    }
  },
  "cells": [
    {
      "cell_type": "code",
      "outputs": [],
      "execution_count": null,
      "metadata": {
        "collapsed": false
      },
      "source": [
        "%matplotlib inline"
      ]
    },
    {
      "cell_type": "markdown",
      "source": [
        "\n# Watermark image\n\n\nUse a PNG file as a watermark\n\n"
      ],
      "metadata": {}
    },
    {
      "cell_type": "code",
      "outputs": [],
      "execution_count": null,
      "metadata": {
        "collapsed": false
      },
      "source": [
        "from __future__ import print_function\nimport numpy as np\nimport matplotlib.cbook as cbook\nimport matplotlib.image as image\nimport matplotlib.pyplot as plt\n\n# Fixing random state for reproducibility\nnp.random.seed(19680801)\n\n\ndatafile = cbook.get_sample_data('logo2.png', asfileobj=False)\nprint('loading %s' % datafile)\nim = image.imread(datafile)\nim[:, :, -1] = 0.5  # set the alpha channel\n\nfig, ax = plt.subplots()\n\nax.plot(np.random.rand(20), '-o', ms=20, lw=2, alpha=0.7, mfc='orange')\nax.grid()\nfig.figimage(im, 10, 10, zorder=3)\n\nplt.show()"
      ]
    }
  ],
  "nbformat_minor": 0
}