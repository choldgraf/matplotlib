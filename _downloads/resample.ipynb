{
  "nbformat": 4,
  "metadata": {
    "language_info": {
      "version": "3.5.2",
      "file_extension": ".py",
      "nbconvert_exporter": "python",
      "codemirror_mode": {
        "version": 3,
        "name": "ipython"
      },
      "pygments_lexer": "ipython3",
      "mimetype": "text/x-python",
      "name": "python"
    },
    "kernelspec": {
      "language": "python",
      "name": "python3",
      "display_name": "Python 3"
    }
  },
  "cells": [
    {
      "cell_type": "code",
      "outputs": [],
      "execution_count": null,
      "metadata": {
        "collapsed": false
      },
      "source": [
        "%matplotlib inline"
      ]
    },
    {
      "cell_type": "markdown",
      "source": [
        "\n# Resample\n\n\n\n"
      ],
      "metadata": {}
    },
    {
      "cell_type": "code",
      "outputs": [],
      "execution_count": null,
      "metadata": {
        "collapsed": false
      },
      "source": [
        "import numpy as np\nimport matplotlib.pyplot as plt\n\n\n# A class that will downsample the data and recompute when zoomed.\nclass DataDisplayDownsampler(object):\n    def __init__(self, xdata, ydata):\n        self.origYData = ydata\n        self.origXData = xdata\n        self.ratio = 5\n        self.delta = xdata[-1] - xdata[0]\n\n    def downsample(self, xstart, xend):\n        # Very simple downsampling that takes the points within the range\n        # and picks every Nth point\n        mask = (self.origXData > xstart) & (self.origXData < xend)\n        xdata = self.origXData[mask]\n        xdata = xdata[::self.ratio]\n\n        ydata = self.origYData[mask]\n        ydata = ydata[::self.ratio]\n\n        return xdata, ydata\n\n    def update(self, ax):\n        # Update the line\n        lims = ax.viewLim\n        if np.abs(lims.width - self.delta) > 1e-8:\n            self.delta = lims.width\n            xstart, xend = lims.intervalx\n            self.line.set_data(*self.downsample(xstart, xend))\n            ax.figure.canvas.draw_idle()\n\n# Create a signal\nxdata = np.linspace(16, 365, 365-16)\nydata = np.sin(2*np.pi*xdata/153) + np.cos(2*np.pi*xdata/127)\n\nd = DataDisplayDownsampler(xdata, ydata)\n\nfig, ax = plt.subplots()\n\n# Hook up the line\nd.line, = ax.plot(xdata, ydata, 'o-')\nax.set_autoscale_on(False)  # Otherwise, infinite loop\n\n# Connect for changing the view limits\nax.callbacks.connect('xlim_changed', d.update)\n\nplt.show()"
      ]
    }
  ],
  "nbformat_minor": 0
}