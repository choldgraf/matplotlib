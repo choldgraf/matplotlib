{
  "cells": [
    {
      "cell_type": "code",
      "execution_count": null,
      "metadata": {
        "collapsed": false
      },
      "outputs": [],
      "source": [
        "%matplotlib inline"
      ]
    },
    {
      "cell_type": "markdown",
      "metadata": {},
      "source": [
        "\n# Customized colorbars\n\n\nThis example shows how to build colorbars without an attached mappable.\n\n"
      ]
    },
    {
      "cell_type": "code",
      "execution_count": null,
      "metadata": {
        "collapsed": false
      },
      "outputs": [],
      "source": [
        "import matplotlib.pyplot as plt\nimport matplotlib as mpl\n\n# Make a figure and axes with dimensions as desired.\nfig = plt.figure(figsize=(8, 3))\nax1 = fig.add_axes([0.05, 0.80, 0.9, 0.15])\nax2 = fig.add_axes([0.05, 0.475, 0.9, 0.15])\nax3 = fig.add_axes([0.05, 0.15, 0.9, 0.15])\n\n# Set the colormap and norm to correspond to the data for which\n# the colorbar will be used.\ncmap = mpl.cm.cool\nnorm = mpl.colors.Normalize(vmin=5, vmax=10)\n\n# ColorbarBase derives from ScalarMappable and puts a colorbar\n# in a specified axes, so it has everything needed for a\n# standalone colorbar.  There are many more kwargs, but the\n# following gives a basic continuous colorbar with ticks\n# and labels.\ncb1 = mpl.colorbar.ColorbarBase(ax1, cmap=cmap,\n                                norm=norm,\n                                orientation='horizontal')\ncb1.set_label('Some Units')\n\n# The second example illustrates the use of a ListedColormap, a\n# BoundaryNorm, and extended ends to show the \"over\" and \"under\"\n# value colors.\ncmap = mpl.colors.ListedColormap(['r', 'g', 'b', 'c'])\ncmap.set_over('0.25')\ncmap.set_under('0.75')\n\n# If a ListedColormap is used, the length of the bounds array must be\n# one greater than the length of the color list.  The bounds must be\n# monotonically increasing.\nbounds = [1, 2, 4, 7, 8]\nnorm = mpl.colors.BoundaryNorm(bounds, cmap.N)\ncb2 = mpl.colorbar.ColorbarBase(ax2, cmap=cmap,\n                                norm=norm,\n                                # to use 'extend', you must\n                                # specify two extra boundaries:\n                                boundaries=[0] + bounds + [13],\n                                extend='both',\n                                ticks=bounds,  # optional\n                                spacing='proportional',\n                                orientation='horizontal')\ncb2.set_label('Discrete intervals, some other units')\n\n# The third example illustrates the use of custom length colorbar\n# extensions, used on a colorbar with discrete intervals.\ncmap = mpl.colors.ListedColormap([[0., .4, 1.], [0., .8, 1.],\n                                  [1., .8, 0.], [1., .4, 0.]])\ncmap.set_over((1., 0., 0.))\ncmap.set_under((0., 0., 1.))\n\nbounds = [-1., -.5, 0., .5, 1.]\nnorm = mpl.colors.BoundaryNorm(bounds, cmap.N)\ncb3 = mpl.colorbar.ColorbarBase(ax3, cmap=cmap,\n                                norm=norm,\n                                boundaries=[-10] + bounds + [10],\n                                extend='both',\n                                # Make the length of each extension\n                                # the same as the length of the\n                                # interior colors:\n                                extendfrac='auto',\n                                ticks=bounds,\n                                spacing='uniform',\n                                orientation='horizontal')\ncb3.set_label('Custom extension lengths, some other units')\n\nplt.show()"
      ]
    }
  ],
  "metadata": {
    "kernelspec": {
      "display_name": "Python 3",
      "language": "python",
      "name": "python3"
    },
    "language_info": {
      "codemirror_mode": {
        "name": "ipython",
        "version": 3
      },
      "file_extension": ".py",
      "mimetype": "text/x-python",
      "name": "python",
      "nbconvert_exporter": "python",
      "pygments_lexer": "ipython3",
      "version": "3.6.0"
    }
  },
  "nbformat": 4,
  "nbformat_minor": 0
}