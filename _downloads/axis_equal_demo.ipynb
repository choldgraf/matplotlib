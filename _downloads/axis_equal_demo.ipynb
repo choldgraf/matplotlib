{
  "cells": [
    {
      "cell_type": "code",
      "execution_count": null,
      "metadata": {
        "collapsed": false
      },
      "outputs": [],
      "source": [
        "%matplotlib inline"
      ]
    },
    {
      "cell_type": "markdown",
      "metadata": {},
      "source": [
        "\n# Axis Equal Demo\n\n\nThis example is only interesting when run in interactive mode.\n\n\n"
      ]
    },
    {
      "cell_type": "code",
      "execution_count": null,
      "metadata": {
        "collapsed": false
      },
      "outputs": [],
      "source": [
        "import matplotlib.pyplot as plt\nimport numpy as np\n\n# Plot circle or radius 3\n\nan = np.linspace(0, 2*np.pi, 100)\n\nplt.subplot(221)\nplt.plot(3*np.cos(an), 3*np.sin(an))\nplt.title('not equal, looks like ellipse', fontsize=10)\n\nplt.subplot(222)\nplt.plot(3*np.cos(an), 3*np.sin(an))\nplt.axis('equal')\nplt.title('equal, looks like circle', fontsize=10)\n\nplt.subplot(223)\nplt.plot(3*np.cos(an), 3*np.sin(an))\nplt.axis('equal')\nplt.axis([-3, 3, -3, 3])\nplt.title('looks like circle, even after changing limits', fontsize=10)\n\nplt.subplot(224)\nplt.plot(3*np.cos(an), 3*np.sin(an))\nplt.axis('equal')\nplt.axis([-3, 3, -3, 3])\nplt.plot([0, 4], [0, 4])\nplt.title('still equal after adding line', fontsize=10)\n\nplt.tight_layout()\n\nplt.show()"
      ]
    }
  ],
  "metadata": {
    "kernelspec": {
      "display_name": "Python 3",
      "language": "python",
      "name": "python3"
    },
    "language_info": {
      "codemirror_mode": {
        "name": "ipython",
        "version": 3
      },
      "file_extension": ".py",
      "mimetype": "text/x-python",
      "name": "python",
      "nbconvert_exporter": "python",
      "pygments_lexer": "ipython3",
      "version": "3.6.0"
    }
  },
  "nbformat": 4,
  "nbformat_minor": 0
}