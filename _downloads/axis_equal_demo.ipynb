{
  "nbformat": 4,
  "metadata": {
    "language_info": {
      "version": "3.5.2",
      "file_extension": ".py",
      "nbconvert_exporter": "python",
      "codemirror_mode": {
        "version": 3,
        "name": "ipython"
      },
      "pygments_lexer": "ipython3",
      "mimetype": "text/x-python",
      "name": "python"
    },
    "kernelspec": {
      "language": "python",
      "name": "python3",
      "display_name": "Python 3"
    }
  },
  "cells": [
    {
      "cell_type": "code",
      "outputs": [],
      "execution_count": null,
      "metadata": {
        "collapsed": false
      },
      "source": [
        "%matplotlib inline"
      ]
    },
    {
      "cell_type": "markdown",
      "source": [
        "\n# Axis Equal Demo\n\n\nThis example is only interesting when run in interactive mode.\n\n\n"
      ],
      "metadata": {}
    },
    {
      "cell_type": "code",
      "outputs": [],
      "execution_count": null,
      "metadata": {
        "collapsed": false
      },
      "source": [
        "import matplotlib.pyplot as plt\nimport numpy as np\n\n# Plot circle or radius 3\n\nan = np.linspace(0, 2*np.pi, 100)\n\nplt.subplot(221)\nplt.plot(3*np.cos(an), 3*np.sin(an))\nplt.title('not equal, looks like ellipse', fontsize=10)\n\nplt.subplot(222)\nplt.plot(3*np.cos(an), 3*np.sin(an))\nplt.axis('equal')\nplt.title('equal, looks like circle', fontsize=10)\n\nplt.subplot(223)\nplt.plot(3*np.cos(an), 3*np.sin(an))\nplt.axis('equal')\nplt.axis([-3, 3, -3, 3])\nplt.title('looks like circle, even after changing limits', fontsize=10)\n\nplt.subplot(224)\nplt.plot(3*np.cos(an), 3*np.sin(an))\nplt.axis('equal')\nplt.axis([-3, 3, -3, 3])\nplt.plot([0, 4], [0, 4])\nplt.title('still equal after adding line', fontsize=10)\n\nplt.tight_layout()\n\nplt.show()"
      ]
    }
  ],
  "nbformat_minor": 0
}