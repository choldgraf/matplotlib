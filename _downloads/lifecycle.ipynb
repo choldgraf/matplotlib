{
  "cells": [
    {
      "cell_type": "code",
      "execution_count": null,
      "metadata": {
        "collapsed": false
      },
      "outputs": [],
      "source": [
        "%matplotlib inline"
      ]
    },
    {
      "cell_type": "markdown",
      "metadata": {},
      "source": [
        "\n# The Lifecycle of a Plot\n\n\nGoing from start to finish of one plot in Matplotlib.\n\nThis tutorial aims to show the beginning, middle, and end of a single\nvisualization using Matplotlib. We'll begin with some raw data, and\nend by saving a figure of a customized visualization. Along the way we'll try\nto highlight some neat features and best-practices using Matplotlib.\n\n.. currentmodule:: matplotlib\n\n<div class=\"alert alert-info\"><h4>Note</h4><p>This tutorial is based off of\n    `this excellent blog post <http://pbpython.com/effective-matplotlib.html>`_\n    by Chris Moffitt. It was modified and put here by Chris Holdgraf.</p></div>\n\nA note on Object-oriented vs Pyplot\n===================================\n\nMatplotlib has two interfaces. The first is based on MATLAB and uses\na state-based interface. This is encapsulated in the :mod:`pyplot`\nmodule. See the `pyplot tutorials <sphx_glr_tutorials_01_introductory_lifecycle.py>`\nfor a more in-depth look at the pyplot interface.\n\nThe second option is an an object-oriented (OO) interface.\nIn this case, we utilize an instance of :class:`axes.Axes` in order to\nrender visualizations on an instance of :class:`figure.Figure`.\nWe call methods that do the plotting directly from the\nAxes object, which gives us much more flexibility and\npower over customizing our plot. See the\n`object-oriented examples <api_examples>` for many examples of how\nthis approach is used.\n\n<div class=\"alert alert-info\"><h4>Note</h4><p>In general, try to use the object-oriented interface over the pyplot\n    interface.</p></div>\n\nOur data\n========\n\nWe'll generate some fake data that is broken down according to groups.\nThese data contain one number per group, perhaps representing the mean value\nof each group.\n\n\n"
      ]
    },
    {
      "cell_type": "code",
      "execution_count": null,
      "metadata": {
        "collapsed": false
      },
      "outputs": [],
      "source": [
        "# sphinx_gallery_thumbnail_number = 10\nimport numpy as np\nimport matplotlib.pyplot as plt\nfrom matplotlib.ticker import FuncFormatter\nfrom string import ascii_lowercase\n\nn_groups = 10\ngroup_data = np.random.randint(0, 100, n_groups)\ngroup_names = ['group_%s' % ii for ii in ascii_lowercase[:n_groups]]"
      ]
    },
    {
      "cell_type": "markdown",
      "metadata": {},
      "source": [
        "Getting started\n===============\n\nThis data is naturally visualized as a barplot, with one bar per\ngroup. To do this with the object-oriented approach, we'll first generate\nan instance of :class:`figure.Figure` and\n:class:`axes.Axes`. The Figure is like a canvas, and the Axes\nis a part of that canvas on which we will make a particular visualization.\n\n<div class=\"alert alert-info\"><h4>Note</h4><p>Figures can have multiple axes on them. For information on how to do this,\n   see the `Tight Layout tutorial <sphx_glr_tutorials_02_intermediate_tight_layout_guide.py>`.</p></div>\n\n"
      ]
    },
    {
      "cell_type": "code",
      "execution_count": null,
      "metadata": {
        "collapsed": false
      },
      "outputs": [],
      "source": [
        "fig, ax = plt.subplots()"
      ]
    },
    {
      "cell_type": "markdown",
      "metadata": {},
      "source": [
        "Now that we have an Axes instance, we can plot on top of it.\n\n"
      ]
    },
    {
      "cell_type": "code",
      "execution_count": null,
      "metadata": {
        "collapsed": false
      },
      "outputs": [],
      "source": [
        "fig, ax = plt.subplots()\nax.bar(group_names, group_data)"
      ]
    },
    {
      "cell_type": "markdown",
      "metadata": {},
      "source": [
        "Controlling the style\n=====================\n\nThere are many styles available in Matplotlib in order to let you tailor\nyour visualization to your needs. To see a list of styles, we can use\n:mod:`pyplot.style`.\n\n"
      ]
    },
    {
      "cell_type": "code",
      "execution_count": null,
      "metadata": {
        "collapsed": false
      },
      "outputs": [],
      "source": [
        "print(plt.style.available)"
      ]
    },
    {
      "cell_type": "markdown",
      "metadata": {},
      "source": [
        "You can activate a style with the following:\n\n"
      ]
    },
    {
      "cell_type": "code",
      "execution_count": null,
      "metadata": {
        "collapsed": false
      },
      "outputs": [],
      "source": [
        "plt.style.use('fivethirtyeight')"
      ]
    },
    {
      "cell_type": "markdown",
      "metadata": {},
      "source": [
        "Now let's remake the above plot to see how it looks:\n\n"
      ]
    },
    {
      "cell_type": "code",
      "execution_count": null,
      "metadata": {
        "collapsed": false
      },
      "outputs": [],
      "source": [
        "fig, ax = plt.subplots()\nax.bar(group_names, group_data)"
      ]
    },
    {
      "cell_type": "markdown",
      "metadata": {},
      "source": [
        "The style controls many things, such as color, linewidths, backgrounds,\netc.\n\nCustomizing the plot\n====================\n\nNow we've got a plot with the general look that we want, so let's fine-tune\nit so that it's ready for print. First let's rotate the labels on the x-axis\nso that they show up more clearly. We can gain access to these labels\nwith the :meth:`axes.Axes.get_xticklabels` method:\n\n"
      ]
    },
    {
      "cell_type": "code",
      "execution_count": null,
      "metadata": {
        "collapsed": false
      },
      "outputs": [],
      "source": [
        "fig, ax = plt.subplots()\nax.bar(group_names, group_data)\nlabels = ax.get_xticklabels()"
      ]
    },
    {
      "cell_type": "markdown",
      "metadata": {},
      "source": [
        "If we'd like to set the property of many items at once, it's useful to use\nthe :func:`pyplot.setp` function. This will take a list (or many lists) of\nmatplotlib objects, and attempt to set some style element of each one.\n\n"
      ]
    },
    {
      "cell_type": "code",
      "execution_count": null,
      "metadata": {
        "collapsed": false
      },
      "outputs": [],
      "source": [
        "fig, ax = plt.subplots()\nax.bar(group_names, group_data)\nlabels = ax.get_xticklabels()\nplt.setp(labels, rotation=45, horizontalalignment='right')"
      ]
    },
    {
      "cell_type": "markdown",
      "metadata": {},
      "source": [
        "It looks like this cut off some of the labels on the bottom. We can\ntell matplotlib to automatically make room for elements in the figures\nthat we create. To do this we'll set the ``autolayout`` value of our\nrcParams. For more information on controlling the style, layout, and\nother features of plots with rcParams, see\n`sphx_glr_tutorials_01_introductory_customizing.py`.\n\n"
      ]
    },
    {
      "cell_type": "code",
      "execution_count": null,
      "metadata": {
        "collapsed": false
      },
      "outputs": [],
      "source": [
        "plt.rcParams.update({'figure.autolayout': True})\n\nfig, ax = plt.subplots()\nax.bar(group_names, group_data)\nlabels = ax.get_xticklabels()\nplt.setp(labels, rotation=45, horizontalalignment='right')"
      ]
    },
    {
      "cell_type": "markdown",
      "metadata": {},
      "source": [
        "Next, we'll add labels to the plot. To\ndo this with the OO interface, we can use the :meth:`axes.Axes.set` method\nto set properties of this axis object.\n\n"
      ]
    },
    {
      "cell_type": "code",
      "execution_count": null,
      "metadata": {
        "collapsed": false
      },
      "outputs": [],
      "source": [
        "fig, ax = plt.subplots()\nax.bar(group_names, group_data)\nlabels = ax.get_xticklabels()\nplt.setp(labels, rotation=45, horizontalalignment='right')\nax.set(ylim=[0, 105], xlabel='Group ID', ylabel='Count',\n       title='Group ID and Count.')"
      ]
    },
    {
      "cell_type": "markdown",
      "metadata": {},
      "source": [
        "We can also adjust the size of this plot using the :func:`pyplot.subplots`\nfunction. We can do this with the ``figsize`` kwarg.\n\n<div class=\"alert alert-info\"><h4>Note</h4><p>While indexing in python follows the form (row, column), the figsize\n   kwarg follows the form (width, height). This follows conventions in\n   visualization, which unfortunately are different from those of linear\n   algebra.</p></div>\n\n"
      ]
    },
    {
      "cell_type": "code",
      "execution_count": null,
      "metadata": {
        "collapsed": false
      },
      "outputs": [],
      "source": [
        "fig, ax = plt.subplots(figsize=(8, 4))\nax.bar(group_names, group_data)\nlabels = ax.get_xticklabels()\nplt.setp(labels, rotation=45, horizontalalignment='right')\nax.set(ylim=[0, 105], xlabel='Group ID', ylabel='Count',\n       title='Group ID and Count.')"
      ]
    },
    {
      "cell_type": "markdown",
      "metadata": {},
      "source": [
        "For labels, we can specify custom formatting guidelines in the form of\nfunctions by using the :class:`ticker.FuncFormatter` class. Below we'll\ndefine a function that takes an integer as input, and returns a string\nas an output.\n\n"
      ]
    },
    {
      "cell_type": "code",
      "execution_count": null,
      "metadata": {
        "collapsed": false
      },
      "outputs": [],
      "source": [
        "def make_labels(num, pos):\n    \"\"\"The two args are the value and tick position.\"\"\"\n    if num < 25:\n        s = 'super tiny'\n    elif num >= 25 and num < 50:\n        s = 'medium-ish'\n    elif num >= 50 and num < 75:\n        s = 'pretty big'\n    elif num > 75:\n        s = 'super big!'\n    else:\n        s = 'I dunno!'\n    return s\n\nformatter = FuncFormatter(make_labels)"
      ]
    },
    {
      "cell_type": "markdown",
      "metadata": {},
      "source": [
        "We can then apply this formatter to the labels on our plot. To do this,\nwe'll use the ``xaxis`` attribute of our axis. This lets you perform\nactions on a specific axis on our plot.\n\n"
      ]
    },
    {
      "cell_type": "code",
      "execution_count": null,
      "metadata": {
        "collapsed": false
      },
      "outputs": [],
      "source": [
        "fig, ax = plt.subplots(figsize=(8, 4))\nax.bar(group_names, group_data)\nlabels = ax.get_xticklabels()\nplt.setp(labels, rotation=45, horizontalalignment='right')\n\nax.set(ylim=[0, 105], xlabel='Group ID', ylabel='Count',\n       title='Group ID and Count.')\nax.yaxis.set_major_formatter(formatter)"
      ]
    },
    {
      "cell_type": "markdown",
      "metadata": {},
      "source": [
        "Combining multiple visualizations\n=================================\n\nIt is possible to draw multiple visualizations on the same instance of\n:class:`axes.Axes`. To do this we simply need to call another one of\nthe plot methods on that axes object.\n\n"
      ]
    },
    {
      "cell_type": "code",
      "execution_count": null,
      "metadata": {
        "collapsed": false
      },
      "outputs": [],
      "source": [
        "fig, ax = plt.subplots(figsize=(8, 6))\nax.bar(group_names, group_data)\nlabels = ax.get_xticklabels()\nplt.setp(labels, rotation=45, horizontalalignment='right')\n\n# Add a vertical line, here we set the style in the function call\nax.axhline(80, ls='--', color='r')\n# Annotate the best groups\nfor group in ['group_a', 'group_d', 'group_f']:\n    ax.text(group, 110, \"Awesome\\nGroup\", fontsize=10,\n            horizontalalignment='center')\n# Now we'll move our title up since it's getting a little cramped\nax.title.set(y=1.2)\n\nax.set(ylim=[0, 105], xlabel='Group ID', ylabel='Count',\n       title='Group ID and Count.')\nax.yaxis.set_major_formatter(formatter)\nplt.show()"
      ]
    },
    {
      "cell_type": "markdown",
      "metadata": {},
      "source": [
        "Saving our plot\n===============\n\nNow that we're happy with the outcome of our plot, we want to save it to\ndisk. There are many file formats we can save to in Matplotlib. To see\na list of available options, use:\n\n"
      ]
    },
    {
      "cell_type": "code",
      "execution_count": null,
      "metadata": {
        "collapsed": false
      },
      "outputs": [],
      "source": [
        "print(fig.canvas.get_supported_filetypes())"
      ]
    },
    {
      "cell_type": "markdown",
      "metadata": {},
      "source": [
        "We can then use the :meth:`figure.Figure.savefig` in order to save the figure\nto disk. Note that there are several useful flags we'll show below:\n\n* ``transparent=True`` makes the background of the saved figure transparent.\n* ``dpi=80`` controls the resolution (dots per square inch) of the ouput.\n* ``bbox_inches=\"tight\"`` fits the bounds of the figure to our plot.\n\n"
      ]
    },
    {
      "cell_type": "code",
      "execution_count": null,
      "metadata": {
        "collapsed": false
      },
      "outputs": [],
      "source": [
        "# Uncomment this line to save the figure.\n# fig.savefig('sales.png', transparent=False, dpi=80, bbox_inches=\"tight\")"
      ]
    },
    {
      "cell_type": "markdown",
      "metadata": {},
      "source": [
        "There are many other things you can do with Matplotlib, and this is just\na taste. For more information, check out our `tutorials` and\n`examples-index` pages.\n\n"
      ]
    }
  ],
  "metadata": {
    "kernelspec": {
      "display_name": "Python 3",
      "language": "python",
      "name": "python3"
    },
    "language_info": {
      "codemirror_mode": {
        "name": "ipython",
        "version": 3
      },
      "file_extension": ".py",
      "mimetype": "text/x-python",
      "name": "python",
      "nbconvert_exporter": "python",
      "pygments_lexer": "ipython3",
      "version": "3.6.0"
    }
  },
  "nbformat": 4,
  "nbformat_minor": 0
}