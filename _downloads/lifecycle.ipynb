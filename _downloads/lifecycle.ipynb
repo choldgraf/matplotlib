{
  "cells": [
    {
      "execution_count": null,
      "outputs": [],
      "source": [
        "%matplotlib inline"
      ],
      "metadata": {
        "collapsed": false
      },
      "cell_type": "code"
    },
    {
      "source": [
        "\n# The Lifecycle of a Plot\n\n\nGoing from start to finish of one plot in Matplotlib.\n\nThis tutorial aims to show the beginning, middle, and end of a single\nvisualization using Matplotlib. We'll begin with some raw data and\nend by saving a figure of a customized visualization. Along the way we'll try\nto highlight some neat features and best-practices using Matplotlib.\n\n.. currentmodule:: matplotlib\n\n<div class=\"alert alert-info\"><h4>Note</h4><p>This tutorial is based off of\n    `this excellent blog post <http://pbpython.com/effective-matplotlib.html>`_\n    by Chris Moffitt. It was transformed into this tutorial by Chris Holdgraf.</p></div>\n\nA note on Object-Oriented vs Pyplot\n===================================\n\nMatplotlib has two interfaces. The first is based on MATLAB and uses\na state-based interface. This is encapsulated in the :mod:`pyplot`\nmodule. See the `pyplot tutorials <sphx_glr_tutorials_01_introductory_lifecycle.py>`\nfor a more in-depth look at the pyplot interface.\n\nThe second interface is an an object-oriented (OO) interface.\nIn this case, we utilize an instance of :class:`axes.Axes` in order to\nrender visualizations on an instance of :class:`figure.Figure`.\n\nMost of the terms are straightforward but the main thing to remember\nis that:\n\n* the Figure is the final image that may contain 1 or more axes.\n* The Axes represent an individual plot.\n\nWe call methods that do the plotting directly from the Axes, which gives\nus much more flexibility and power in customizing our plot. See the\n`object-oriented examples <api_examples>` for many examples of how\nthis approach is used.\n\n<div class=\"alert alert-info\"><h4>Note</h4><p>In general, try to use the object-oriented interface over the pyplot\n   interface.</p></div>\n\nOur data\n========\n\nWe'll use the data from the post from which this tutorial was derived.\nIt contains sales information for a number of companies.\n\n"
      ],
      "metadata": {},
      "cell_type": "markdown"
    },
    {
      "execution_count": null,
      "outputs": [],
      "source": [
        "# sphinx_gallery_thumbnail_number = 10\nimport numpy as np\nimport matplotlib.pyplot as plt\nfrom matplotlib.ticker import FuncFormatter\nfrom string import ascii_lowercase\n\ndata = {'Barton LLC': 109438.5,\n        'Frami, Hills and Schmidt': 103569.59,\n        'Fritsch, Russel and Anderson': 112214.71000000001,\n        'Jerde-Hilpert': 112591.42999999999,\n        'Keeling LLC': 100934.29999999999,\n        'Koepp Ltd': 103660.54000000001,\n        'Kulas Inc': 137351.95999999996,\n        'Trantow-Barrows': 123381.38000000003,\n        'White-Trantow': 135841.99000000002,\n        'Will LLC': 104437.60000000002}\ngroup_data = list(data.values())\ngroup_names = list(data.keys())\ngroup_mean = np.mean(group_data)"
      ],
      "metadata": {
        "collapsed": false
      },
      "cell_type": "code"
    },
    {
      "source": [
        "Getting started\n===============\n\nThis data is naturally visualized as a barplot, with one bar per\ngroup. To do this with the object-oriented approach, we'll first generate\nan instance of :class:`figure.Figure` and\n:class:`axes.Axes`. The Figure is like a canvas, and the Axes\nis a part of that canvas on which we will make a particular visualization.\n\n<div class=\"alert alert-info\"><h4>Note</h4><p>Figures can have multiple axes on them. For information on how to do this,\n   see the `Tight Layout tutorial <sphx_glr_tutorials_02_intermediate_tight_layout_guide.py>`.</p></div>\n\n"
      ],
      "metadata": {},
      "cell_type": "markdown"
    },
    {
      "execution_count": null,
      "outputs": [],
      "source": [
        "fig, ax = plt.subplots()"
      ],
      "metadata": {
        "collapsed": false
      },
      "cell_type": "code"
    },
    {
      "source": [
        "Now that we have an Axes instance, we can plot on top of it.\n\n"
      ],
      "metadata": {},
      "cell_type": "markdown"
    },
    {
      "execution_count": null,
      "outputs": [],
      "source": [
        "fig, ax = plt.subplots()\nax.barh(group_names, group_data)"
      ],
      "metadata": {
        "collapsed": false
      },
      "cell_type": "code"
    },
    {
      "source": [
        "Controlling the style\n=====================\n\nThere are many styles available in Matplotlib in order to let you tailor\nyour visualization to your needs. To see a list of styles, we can use\n:mod:`pyplot.style`.\n\n"
      ],
      "metadata": {},
      "cell_type": "markdown"
    },
    {
      "execution_count": null,
      "outputs": [],
      "source": [
        "print(plt.style.available)"
      ],
      "metadata": {
        "collapsed": false
      },
      "cell_type": "code"
    },
    {
      "source": [
        "You can activate a style with the following:\n\n"
      ],
      "metadata": {},
      "cell_type": "markdown"
    },
    {
      "execution_count": null,
      "outputs": [],
      "source": [
        "plt.style.use('fivethirtyeight')"
      ],
      "metadata": {
        "collapsed": false
      },
      "cell_type": "code"
    },
    {
      "source": [
        "Now let's remake the above plot to see how it looks:\n\n"
      ],
      "metadata": {},
      "cell_type": "markdown"
    },
    {
      "execution_count": null,
      "outputs": [],
      "source": [
        "fig, ax = plt.subplots()\nax.barh(group_names, group_data)"
      ],
      "metadata": {
        "collapsed": false
      },
      "cell_type": "code"
    },
    {
      "source": [
        "The style controls many things, such as color, linewidths, backgrounds,\netc.\n\nCustomizing the plot\n====================\n\nNow we've got a plot with the general look that we want, so let's fine-tune\nit so that it's ready for print. First let's rotate the labels on the x-axis\nso that they show up more clearly. We can gain access to these labels\nwith the :meth:`axes.Axes.get_xticklabels` method:\n\n"
      ],
      "metadata": {},
      "cell_type": "markdown"
    },
    {
      "execution_count": null,
      "outputs": [],
      "source": [
        "fig, ax = plt.subplots()\nax.barh(group_names, group_data)\nlabels = ax.get_xticklabels()"
      ],
      "metadata": {
        "collapsed": false
      },
      "cell_type": "code"
    },
    {
      "source": [
        "If we'd like to set the property of many items at once, it's useful to use\nthe :func:`pyplot.setp` function. This will take a list (or many lists) of\nmatplotlib objects, and attempt to set some style element of each one.\n\n"
      ],
      "metadata": {},
      "cell_type": "markdown"
    },
    {
      "execution_count": null,
      "outputs": [],
      "source": [
        "fig, ax = plt.subplots()\nax.barh(group_names, group_data)\nlabels = ax.get_xticklabels()\nplt.setp(labels, rotation=45, horizontalalignment='right')"
      ],
      "metadata": {
        "collapsed": false
      },
      "cell_type": "code"
    },
    {
      "source": [
        "It looks like this cut off some of the labels on the bottom. We can\ntell matplotlib to automatically make room for elements in the figures\nthat we create. To do this we'll set the ``autolayout`` value of our\nrcParams. For more information on controlling the style, layout, and\nother features of plots with rcParams, see\n`sphx_glr_tutorials_01_introductory_customizing.py`.\n\n"
      ],
      "metadata": {},
      "cell_type": "markdown"
    },
    {
      "execution_count": null,
      "outputs": [],
      "source": [
        "plt.rcParams.update({'figure.autolayout': True})\n\nfig, ax = plt.subplots()\nax.barh(group_names, group_data)\nlabels = ax.get_xticklabels()\nplt.setp(labels, rotation=45, horizontalalignment='right')"
      ],
      "metadata": {
        "collapsed": false
      },
      "cell_type": "code"
    },
    {
      "source": [
        "Next, we'll add labels to the plot. To\ndo this with the OO interface, we can use the :meth:`axes.Axes.set` method\nto set properties of this axis object.\n\n"
      ],
      "metadata": {},
      "cell_type": "markdown"
    },
    {
      "execution_count": null,
      "outputs": [],
      "source": [
        "fig, ax = plt.subplots()\nax.barh(group_names, group_data)\nlabels = ax.get_xticklabels()\nplt.setp(labels, rotation=45, horizontalalignment='right')\nax.set(xlim=[-10000, 140000], xlabel='Total Revenue', ylabel='Company',\n       title='Company Revenue')"
      ],
      "metadata": {
        "collapsed": false
      },
      "cell_type": "code"
    },
    {
      "source": [
        "We can also adjust the size of this plot using the :func:`pyplot.subplots`\nfunction. We can do this with the ``figsize`` kwarg.\n\n<div class=\"alert alert-info\"><h4>Note</h4><p>While indexing in python follows the form (row, column), the figsize\n   kwarg follows the form (width, height). This follows conventions in\n   visualization, which unfortunately are different from those of linear\n   algebra.</p></div>\n\n"
      ],
      "metadata": {},
      "cell_type": "markdown"
    },
    {
      "execution_count": null,
      "outputs": [],
      "source": [
        "fig, ax = plt.subplots(figsize=(8, 4))\nax.barh(group_names, group_data)\nlabels = ax.get_xticklabels()\nplt.setp(labels, rotation=45, horizontalalignment='right')\nax.set(xlim=[-10000, 140000], xlabel='Total Revenue', ylabel='Company',\n       title='Company Revenue')"
      ],
      "metadata": {
        "collapsed": false
      },
      "cell_type": "code"
    },
    {
      "source": [
        "For labels, we can specify custom formatting guidelines in the form of\nfunctions by using the :class:`ticker.FuncFormatter` class. Below we'll\ndefine a function that takes an integer as input, and returns a string\nas an output.\n\n"
      ],
      "metadata": {},
      "cell_type": "markdown"
    },
    {
      "execution_count": null,
      "outputs": [],
      "source": [
        "def currency(x, pos):\n    \"\"\"The two args are the value and tick position\"\"\"\n    if x >= 1e6:\n        s = '${:1.1f}M'.format(x*1e-6)\n    else:\n        s = '${:1.0f}K'.format(x*1e-3)\n    return s\n\nformatter = FuncFormatter(currency)"
      ],
      "metadata": {
        "collapsed": false
      },
      "cell_type": "code"
    },
    {
      "source": [
        "We can then apply this formatter to the labels on our plot. To do this,\nwe'll use the ``xaxis`` attribute of our axis. This lets you perform\nactions on a specific axis on our plot.\n\n"
      ],
      "metadata": {},
      "cell_type": "markdown"
    },
    {
      "execution_count": null,
      "outputs": [],
      "source": [
        "fig, ax = plt.subplots(figsize=(6, 8))\nax.barh(group_names, group_data)\nlabels = ax.get_xticklabels()\nplt.setp(labels, rotation=45, horizontalalignment='right')\n\nax.set(xlim=[-10000, 140000], xlabel='Total Revenue', ylabel='Company',\n       title='Company Revenue')\nax.xaxis.set_major_formatter(formatter)"
      ],
      "metadata": {
        "collapsed": false
      },
      "cell_type": "code"
    },
    {
      "source": [
        "Combining multiple visualizations\n=================================\n\nIt is possible to draw multiple plot elements on the same instance of\n:class:`axes.Axes`. To do this we simply need to call another one of\nthe plot methods on that axes object.\n\n"
      ],
      "metadata": {},
      "cell_type": "markdown"
    },
    {
      "execution_count": null,
      "outputs": [],
      "source": [
        "fig, ax = plt.subplots(figsize=(8, 8))\nax.barh(group_names, group_data)\nlabels = ax.get_xticklabels()\nplt.setp(labels, rotation=45, horizontalalignment='right')\n\n# Add a vertical line, here we set the style in the function call\nax.axvline(group_mean, ls='--', color='r')\n\n# Annotate new companies\nfor group in [3, 5, 8]:\n    ax.text(145000, group, \"New Company\", fontsize=10,\n            verticalalignment=\"center\")\n\n# Now we'll move our title up since it's getting a little cramped\nax.title.set(y=1.05)\n\nax.set(xlim=[-10000, 140000], xlabel='Total Revenue', ylabel='Company',\n       title='Company Revenue')\nax.xaxis.set_major_formatter(formatter)\nax.set_xticks([25e3, 50e3, 75e3, 100e3, 125e3])\nfig.subplots_adjust(right=.1)\nplt.show()"
      ],
      "metadata": {
        "collapsed": false
      },
      "cell_type": "code"
    },
    {
      "source": [
        "Saving our plot\n===============\n\nNow that we're happy with the outcome of our plot, we want to save it to\ndisk. There are many file formats we can save to in Matplotlib. To see\na list of available options, use:\n\n"
      ],
      "metadata": {},
      "cell_type": "markdown"
    },
    {
      "execution_count": null,
      "outputs": [],
      "source": [
        "print(fig.canvas.get_supported_filetypes())"
      ],
      "metadata": {
        "collapsed": false
      },
      "cell_type": "code"
    },
    {
      "source": [
        "We can then use the :meth:`figure.Figure.savefig` in order to save the figure\nto disk. Note that there are several useful flags we'll show below:\n\n* ``transparent=True`` makes the background of the saved figure transparent.\n* ``dpi=80`` controls the resolution (dots per square inch) of the ouput.\n* ``bbox_inches=\"tight\"`` fits the bounds of the figure to our plot.\n\n"
      ],
      "metadata": {},
      "cell_type": "markdown"
    },
    {
      "execution_count": null,
      "outputs": [],
      "source": [
        "# Uncomment this line to save the figure.\n# fig.savefig('sales.png', transparent=False, dpi=80, bbox_inches=\"tight\")"
      ],
      "metadata": {
        "collapsed": false
      },
      "cell_type": "code"
    },
    {
      "source": [
        "Below we've included a small diagram showing the basic components of the\nplot elements that were included in the original blog post. It has most of\nthe same elements, with a few extra components as well. Click the image to\nsee the blog post (along with code used to generate the figure).\n\n![](../../_static/axis_layout.png)\n\n   :width: 80 %\n   :align: center\n   :target: http://pbpython.com/effective-matplotlib.html\n\nThere are many other things you can do with Matplotlib, and this is just\na taste. For more information, check out our `tutorials` and\n`examples-index` pages.\n\n"
      ],
      "metadata": {},
      "cell_type": "markdown"
    }
  ],
  "nbformat": 4,
  "metadata": {
    "language_info": {
      "codemirror_mode": {
        "version": 3,
        "name": "ipython"
      },
      "file_extension": ".py",
      "version": "3.5.2",
      "nbconvert_exporter": "python",
      "name": "python",
      "mimetype": "text/x-python",
      "pygments_lexer": "ipython3"
    },
    "kernelspec": {
      "language": "python",
      "display_name": "Python 3",
      "name": "python3"
    }
  },
  "nbformat_minor": 0
}