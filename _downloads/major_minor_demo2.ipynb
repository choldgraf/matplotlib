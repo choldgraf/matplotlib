{
  "nbformat": 4,
  "metadata": {
    "language_info": {
      "version": "3.5.2",
      "file_extension": ".py",
      "nbconvert_exporter": "python",
      "codemirror_mode": {
        "version": 3,
        "name": "ipython"
      },
      "pygments_lexer": "ipython3",
      "mimetype": "text/x-python",
      "name": "python"
    },
    "kernelspec": {
      "language": "python",
      "name": "python3",
      "display_name": "Python 3"
    }
  },
  "cells": [
    {
      "cell_type": "code",
      "outputs": [],
      "execution_count": null,
      "metadata": {
        "collapsed": false
      },
      "source": [
        "%matplotlib inline"
      ]
    },
    {
      "cell_type": "markdown",
      "source": [
        "\n# Major Minor Demo2\n\n\nAutomatic tick selection for major and minor ticks.\n\nUse interactive pan and zoom to see how the tick intervals\nchange. There will be either 4 or 5 minor tick intervals\nper major interval, depending on the major interval.\n\n"
      ],
      "metadata": {}
    },
    {
      "cell_type": "code",
      "outputs": [],
      "execution_count": null,
      "metadata": {
        "collapsed": false
      },
      "source": [
        "import numpy as np\nimport matplotlib.pyplot as plt\nfrom matplotlib.ticker import AutoMinorLocator\n\n# One can supply an argument to AutoMinorLocator to\n# specify a fixed number of minor intervals per major interval, e.g.:\n# minorLocator = AutoMinorLocator(2)\n# would lead to a single minor tick between major ticks.\n\nminorLocator = AutoMinorLocator()\n\n\nt = np.arange(0.0, 100.0, 0.01)\ns = np.sin(2*np.pi*t)*np.exp(-t*0.01)\n\nfig, ax = plt.subplots()\nplt.plot(t, s)\n\nax.xaxis.set_minor_locator(minorLocator)\n\nplt.tick_params(which='both', width=2)\nplt.tick_params(which='major', length=7)\nplt.tick_params(which='minor', length=4, color='r')\n\nplt.show()"
      ]
    }
  ],
  "nbformat_minor": 0
}