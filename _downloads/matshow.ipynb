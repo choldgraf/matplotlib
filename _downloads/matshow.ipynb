{
  "nbformat": 4,
  "metadata": {
    "language_info": {
      "version": "3.5.2",
      "file_extension": ".py",
      "nbconvert_exporter": "python",
      "codemirror_mode": {
        "version": 3,
        "name": "ipython"
      },
      "pygments_lexer": "ipython3",
      "mimetype": "text/x-python",
      "name": "python"
    },
    "kernelspec": {
      "language": "python",
      "name": "python3",
      "display_name": "Python 3"
    }
  },
  "cells": [
    {
      "cell_type": "code",
      "outputs": [],
      "execution_count": null,
      "metadata": {
        "collapsed": false
      },
      "source": [
        "%matplotlib inline"
      ]
    },
    {
      "cell_type": "markdown",
      "source": [
        "\n# Matshow\n\n\nSimple matshow() example.\n\n"
      ],
      "metadata": {}
    },
    {
      "cell_type": "code",
      "outputs": [],
      "execution_count": null,
      "metadata": {
        "collapsed": false
      },
      "source": [
        "import matplotlib.pyplot as plt\nimport numpy as np\n\n\ndef samplemat(dims):\n    \"\"\"Make a matrix with all zeros and increasing elements on the diagonal\"\"\"\n    aa = np.zeros(dims)\n    for i in range(min(dims)):\n        aa[i, i] = i\n    return aa\n\n\n# Display matrix\nplt.matshow(samplemat((15, 35)))\n\nplt.show()"
      ]
    }
  ],
  "nbformat_minor": 0
}