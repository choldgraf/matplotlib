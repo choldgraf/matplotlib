{
  "nbformat": 4,
  "metadata": {
    "language_info": {
      "version": "3.5.2",
      "file_extension": ".py",
      "nbconvert_exporter": "python",
      "codemirror_mode": {
        "version": 3,
        "name": "ipython"
      },
      "pygments_lexer": "ipython3",
      "mimetype": "text/x-python",
      "name": "python"
    },
    "kernelspec": {
      "language": "python",
      "name": "python3",
      "display_name": "Python 3"
    }
  },
  "cells": [
    {
      "cell_type": "code",
      "outputs": [],
      "execution_count": null,
      "metadata": {
        "collapsed": false
      },
      "source": [
        "%matplotlib inline"
      ]
    },
    {
      "cell_type": "markdown",
      "source": [
        "\n# Major Minor Demo1\n\n\nDemonstrate how to use major and minor tickers.\n\nThe two relevant userland classes are Locators and Formatters.\nLocators determine where the ticks are and formatters control the\nformatting of ticks.\n\nMinor ticks are off by default (NullLocator and NullFormatter).  You\ncan turn minor ticks on w/o labels by setting the minor locator.  You\ncan also turn labeling on for the minor ticker by setting the minor\nformatter\n\nMake a plot with major ticks that are multiples of 20 and minor ticks\nthat are multiples of 5.  Label major ticks with %d formatting but\ndon't label minor ticks\n\nThe MultipleLocator ticker class is used to place ticks on multiples of\nsome base.  The FormatStrFormatter uses a string format string (e.g.,\n'%d' or '%1.2f' or '%1.1f cm' ) to format the tick\n\nThe pyplot interface grid command changes the grid settings of the\nmajor ticks of the y and y axis together.  If you want to control the\ngrid of the minor ticks for a given axis, use for example\n\n  ax.xaxis.grid(True, which='minor')\n\nNote, you should not use the same locator between different Axis\nbecause the locator stores references to the Axis data and view limits\n\n\n"
      ],
      "metadata": {}
    },
    {
      "cell_type": "code",
      "outputs": [],
      "execution_count": null,
      "metadata": {
        "collapsed": false
      },
      "source": [
        "import matplotlib.pyplot as plt\nimport numpy as np\nfrom matplotlib.ticker import MultipleLocator, FormatStrFormatter\n\nmajorLocator = MultipleLocator(20)\nmajorFormatter = FormatStrFormatter('%d')\nminorLocator = MultipleLocator(5)\n\n\nt = np.arange(0.0, 100.0, 0.1)\ns = np.sin(0.1*np.pi*t)*np.exp(-t*0.01)\n\nfig, ax = plt.subplots()\nplt.plot(t, s)\n\nax.xaxis.set_major_locator(majorLocator)\nax.xaxis.set_major_formatter(majorFormatter)\n\n# for the minor ticks, use no labels; default NullFormatter\nax.xaxis.set_minor_locator(minorLocator)\n\nplt.show()"
      ]
    }
  ],
  "nbformat_minor": 0
}