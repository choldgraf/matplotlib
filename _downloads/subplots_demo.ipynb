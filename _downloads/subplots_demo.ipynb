{
  "nbformat": 4,
  "metadata": {
    "language_info": {
      "version": "3.5.2",
      "file_extension": ".py",
      "nbconvert_exporter": "python",
      "codemirror_mode": {
        "version": 3,
        "name": "ipython"
      },
      "pygments_lexer": "ipython3",
      "mimetype": "text/x-python",
      "name": "python"
    },
    "kernelspec": {
      "language": "python",
      "name": "python3",
      "display_name": "Python 3"
    }
  },
  "cells": [
    {
      "cell_type": "code",
      "outputs": [],
      "execution_count": null,
      "metadata": {
        "collapsed": false
      },
      "source": [
        "%matplotlib inline"
      ]
    },
    {
      "cell_type": "markdown",
      "source": [
        "\n# Subplots Demo\n\n\nExamples illustrating the use of plt.subplots().\n\nThis function creates a figure and a grid of subplots with a single call, while\nproviding reasonable control over how the individual plots are created.  For\nvery refined tuning of subplot creation, you can still use add_subplot()\ndirectly on a new figure.\n\n"
      ],
      "metadata": {}
    },
    {
      "cell_type": "code",
      "outputs": [],
      "execution_count": null,
      "metadata": {
        "collapsed": false
      },
      "source": [
        "import matplotlib.pyplot as plt\nimport numpy as np\n\n# Simple data to display in various forms\nx = np.linspace(0, 2 * np.pi, 400)\ny = np.sin(x ** 2)\n\nplt.close('all')\n\n# Just a figure and one subplot\nf, ax = plt.subplots()\nax.plot(x, y)\nax.set_title('Simple plot')\n\n# Two subplots, the axes array is 1-d\nf, axarr = plt.subplots(2, sharex=True)\nf.suptitle('Sharing X axis')\naxarr[0].plot(x, y)\naxarr[1].scatter(x, y)\n\n# Two subplots, unpack the axes array immediately\nf, (ax1, ax2) = plt.subplots(1, 2, sharey=True)\nf.suptitle('Sharing Y axis')\nax1.plot(x, y)\nax2.scatter(x, y)\n\n# Three subplots sharing both x/y axes\nf, axarr = plt.subplots(3, sharex=True, sharey=True)\nf.suptitle('Sharing both axes')\naxarr[0].plot(x, y)\naxarr[1].scatter(x, y)\naxarr[2].scatter(x, 2 * y ** 2 - 1, color='r')\n# Bring subplots close to each other.\nf.subplots_adjust(hspace=0)\n# Hide x labels and tick labels for all but bottom plot.\nfor ax in axarr:\n    ax.label_outer()\n\n# row and column sharing\nf, ((ax1, ax2), (ax3, ax4)) = plt.subplots(2, 2, sharex='col', sharey='row')\nf.suptitle('Sharing x per column, y per row')\nax1.plot(x, y)\nax2.scatter(x, y)\nax3.scatter(x, 2 * y ** 2 - 1, color='r')\nax4.plot(x, 2 * y ** 2 - 1, color='r')\n\n# Four axes, returned as a 2-d array\nf, axarr = plt.subplots(2, 2)\naxarr[0, 0].plot(x, y)\naxarr[0, 0].set_title('Axis [0,0]')\naxarr[0, 1].scatter(x, y)\naxarr[0, 1].set_title('Axis [0,1]')\naxarr[1, 0].plot(x, y ** 2)\naxarr[1, 0].set_title('Axis [1,0]')\naxarr[1, 1].scatter(x, y ** 2)\naxarr[1, 1].set_title('Axis [1,1]')\nfor ax in axarr.flat:\n    ax.set(xlabel='x-label', ylabel='y-label')\n# Hide x labels and tick labels for top plots and y ticks for right plots.\nfor ax in axarr.flat:\n    ax.label_outer()\n\n# Four polar axes\nf, axarr = plt.subplots(2, 2, subplot_kw=dict(projection='polar'))\naxarr[0, 0].plot(x, y)\naxarr[0, 0].set_title('Axis [0,0]')\naxarr[0, 1].scatter(x, y)\naxarr[0, 1].set_title('Axis [0,1]')\naxarr[1, 0].plot(x, y ** 2)\naxarr[1, 0].set_title('Axis [1,0]')\naxarr[1, 1].scatter(x, y ** 2)\naxarr[1, 1].set_title('Axis [1,1]')\n# Fine-tune figure; make subplots farther from each other.\nf.subplots_adjust(hspace=0.3)\n\nplt.show()"
      ]
    }
  ],
  "nbformat_minor": 0
}