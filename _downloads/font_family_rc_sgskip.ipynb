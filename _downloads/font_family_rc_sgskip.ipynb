{
  "cells": [
    {
      "execution_count": null,
      "outputs": [],
      "source": [
        "%matplotlib inline"
      ],
      "metadata": {
        "collapsed": false
      },
      "cell_type": "code"
    },
    {
      "source": [
        "\n# Configuring the font family\n\n\nYou can explicitly set which font family is picked up for a given font\nstyle (e.g., 'serif', 'sans-serif', or 'monospace').\n\nIn the example below, we only allow one font family (Tahoma) for the\nsan-serif font style.  You the default family with the font.family rc\nparam, e.g.,::\n\n  rcParams['font.family'] = 'sans-serif'\n\nand for the font.family you set a list of font styles to try to find\nin order::\n\n  rcParams['font.sans-serif'] = ['Tahoma', 'DejaVu Sans',\n                                 'Lucida Grande', 'Verdana']\n\n\n"
      ],
      "metadata": {},
      "cell_type": "markdown"
    },
    {
      "execution_count": null,
      "outputs": [],
      "source": [
        "from matplotlib import rcParams\nrcParams['font.family'] = 'sans-serif'\nrcParams['font.sans-serif'] = ['Tahoma']\nimport matplotlib.pyplot as plt\n\nfig, ax = plt.subplots()\nax.plot([1, 2, 3], label='test')\n\nax.legend()\nplt.show()"
      ],
      "metadata": {
        "collapsed": false
      },
      "cell_type": "code"
    }
  ],
  "nbformat": 4,
  "metadata": {
    "language_info": {
      "codemirror_mode": {
        "version": 3,
        "name": "ipython"
      },
      "file_extension": ".py",
      "version": "3.5.2",
      "nbconvert_exporter": "python",
      "name": "python",
      "mimetype": "text/x-python",
      "pygments_lexer": "ipython3"
    },
    "kernelspec": {
      "language": "python",
      "display_name": "Python 3",
      "name": "python3"
    }
  },
  "nbformat_minor": 0
}