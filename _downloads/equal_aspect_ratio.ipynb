{
  "nbformat": 4,
  "metadata": {
    "language_info": {
      "version": "3.5.2",
      "file_extension": ".py",
      "nbconvert_exporter": "python",
      "codemirror_mode": {
        "version": 3,
        "name": "ipython"
      },
      "pygments_lexer": "ipython3",
      "mimetype": "text/x-python",
      "name": "python"
    },
    "kernelspec": {
      "language": "python",
      "name": "python3",
      "display_name": "Python 3"
    }
  },
  "cells": [
    {
      "cell_type": "code",
      "outputs": [],
      "execution_count": null,
      "metadata": {
        "collapsed": false
      },
      "source": [
        "%matplotlib inline"
      ]
    },
    {
      "cell_type": "markdown",
      "source": [
        "\n# Equal aspect axes\n\n\nThis example shows how to make a plot whose x and y axes have a 1:1 aspect\nratio.\n\n"
      ],
      "metadata": {}
    },
    {
      "cell_type": "code",
      "outputs": [],
      "execution_count": null,
      "metadata": {
        "collapsed": false
      },
      "source": [
        "import matplotlib.pyplot as plt\nimport numpy as np\n\nt = np.arange(0.0, 1.0 + 0.01, 0.01)\ns = np.cos(2 * 2 * np.pi * t)\n\nfig, ax = plt.subplots()\nax.plot(t, s, '-', lw=2)\n\nax.set_xlabel('Time (s)')\nax.set_ylabel('Voltage (mV)')\nax.set_title('About as simple as it gets, folks')\nax.grid(True)\n\nax.set_aspect('equal', 'datalim')\n\nfig.tight_layout()\nplt.show()"
      ]
    }
  ],
  "nbformat_minor": 0
}