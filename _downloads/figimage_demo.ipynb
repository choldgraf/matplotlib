{
  "nbformat": 4,
  "metadata": {
    "language_info": {
      "version": "3.5.2",
      "file_extension": ".py",
      "nbconvert_exporter": "python",
      "codemirror_mode": {
        "version": 3,
        "name": "ipython"
      },
      "pygments_lexer": "ipython3",
      "mimetype": "text/x-python",
      "name": "python"
    },
    "kernelspec": {
      "language": "python",
      "name": "python3",
      "display_name": "Python 3"
    }
  },
  "cells": [
    {
      "cell_type": "code",
      "outputs": [],
      "execution_count": null,
      "metadata": {
        "collapsed": false
      },
      "source": [
        "%matplotlib inline"
      ]
    },
    {
      "cell_type": "markdown",
      "source": [
        "\n# Figimage Demo\n\n\nThis illustrates placing images directly in the figure, with no axes.\n\n\n"
      ],
      "metadata": {}
    },
    {
      "cell_type": "code",
      "outputs": [],
      "execution_count": null,
      "metadata": {
        "collapsed": false
      },
      "source": [
        "import numpy as np\nimport matplotlib\nimport matplotlib.cm as cm\nimport matplotlib.pyplot as plt\n\n\nfig = plt.figure()\nZ = np.arange(10000).reshape((100, 100))\nZ[:, 50:] = 1\n\nim1 = fig.figimage(Z, xo=50, yo=0, origin='lower')\nim2 = fig.figimage(Z, xo=100, yo=100, alpha=.8, origin='lower')\n\nplt.show()"
      ]
    }
  ],
  "nbformat_minor": 0
}