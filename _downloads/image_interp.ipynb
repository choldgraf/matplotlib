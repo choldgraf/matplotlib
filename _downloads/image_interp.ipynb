{
  "cells": [
    {
      "cell_type": "code",
      "execution_count": null,
      "metadata": {
        "collapsed": false
      },
      "outputs": [],
      "source": [
        "%matplotlib inline"
      ]
    },
    {
      "cell_type": "markdown",
      "metadata": {},
      "source": [
        "\n# Image Interp\n\n\nThe same (small) array, interpolated with three different\ninterpolation methods.\n\nThe center of the pixel at A[i,j] is plotted at i+0.5, i+0.5.  If you\nare using interpolation='nearest', the region bounded by (i,j) and\n(i+1,j+1) will have the same color.  If you are using interpolation,\nthe pixel center will have the same color as it does with nearest, but\nother pixels will be interpolated between the neighboring pixels.\n\nEarlier versions of matplotlib (<0.63) tried to hide the edge effects\nfrom you by setting the view limits so that they would not be visible.\nA recent bugfix in antigrain, and a new implementation in the\nmatplotlib._image module which takes advantage of this fix, no longer\nmakes this necessary.  To prevent edge effects, when doing\ninterpolation, the matplotlib._image module now pads the input array\nwith identical pixels around the edge.  e.g., if you have a 5x5 array\nwith colors a-y as below::\n\n  a b c d e\n  f g h i j\n  k l m n o\n  p q r s t\n  u v w x y\n\nthe _image module creates the padded array,::\n\n  a a b c d e e\n  a a b c d e e\n  f f g h i j j\n  k k l m n o o\n  p p q r s t t\n  o u v w x y y\n  o u v w x y y\n\ndoes the interpolation/resizing, and then extracts the central region.\nThis allows you to plot the full range of your array w/o edge effects,\nand for example to layer multiple images of different sizes over one\nanother with different interpolation methods - see\nexamples/layer_images.py.  It also implies a performance hit, as this\nnew temporary, padded array must be created.  Sophisticated\ninterpolation also implies a performance hit, so if you need maximal\nperformance or have very large images, interpolation='nearest' is\nsuggested.\n\n\n"
      ]
    },
    {
      "cell_type": "code",
      "execution_count": null,
      "metadata": {
        "collapsed": false
      },
      "outputs": [],
      "source": [
        "import matplotlib.pyplot as plt\nimport numpy as np\n\n# Fixing random state for reproducibility\nnp.random.seed(19680801)\n\n\nA = np.random.rand(5, 5)\nplt.figure(1)\nplt.imshow(A, interpolation='nearest')\nplt.grid(True)\n\nplt.figure(2)\nplt.imshow(A, interpolation='bilinear')\nplt.grid(True)\n\nplt.figure(3)\nplt.imshow(A, interpolation='bicubic')\nplt.grid(True)\n\nplt.show()"
      ]
    }
  ],
  "metadata": {
    "kernelspec": {
      "display_name": "Python 3",
      "language": "python",
      "name": "python3"
    },
    "language_info": {
      "codemirror_mode": {
        "name": "ipython",
        "version": 3
      },
      "file_extension": ".py",
      "mimetype": "text/x-python",
      "name": "python",
      "nbconvert_exporter": "python",
      "pygments_lexer": "ipython3",
      "version": "3.6.0"
    }
  },
  "nbformat": 4,
  "nbformat_minor": 0
}