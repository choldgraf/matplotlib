{
  "nbformat": 4,
  "metadata": {
    "language_info": {
      "version": "3.5.2",
      "file_extension": ".py",
      "nbconvert_exporter": "python",
      "codemirror_mode": {
        "version": 3,
        "name": "ipython"
      },
      "pygments_lexer": "ipython3",
      "mimetype": "text/x-python",
      "name": "python"
    },
    "kernelspec": {
      "language": "python",
      "name": "python3",
      "display_name": "Python 3"
    }
  },
  "cells": [
    {
      "cell_type": "code",
      "outputs": [],
      "execution_count": null,
      "metadata": {
        "collapsed": false
      },
      "source": [
        "%matplotlib inline"
      ]
    },
    {
      "cell_type": "markdown",
      "source": [
        "\n# Simple animation examples\n\n\nThis example contains two animations. The first is a random walk plot. The\nsecond is an image animation.\n\n"
      ],
      "metadata": {}
    },
    {
      "cell_type": "code",
      "outputs": [],
      "execution_count": null,
      "metadata": {
        "collapsed": false
      },
      "source": [
        "import numpy as np\nimport matplotlib.pyplot as plt\nimport matplotlib.animation as animation\n\n\ndef update_line(num, data, line):\n    line.set_data(data[..., :num])\n    return line,\n\nfig1 = plt.figure()\n\n# Fixing random state for reproducibility\nnp.random.seed(19680801)\n\ndata = np.random.rand(2, 25)\nl, = plt.plot([], [], 'r-')\nplt.xlim(0, 1)\nplt.ylim(0, 1)\nplt.xlabel('x')\nplt.title('test')\nline_ani = animation.FuncAnimation(fig1, update_line, 25, fargs=(data, l),\n                                   interval=50, blit=True)\n\n# To save the animation, use the command: line_ani.save('lines.mp4')\n\nfig2 = plt.figure()\n\nx = np.arange(-9, 10)\ny = np.arange(-9, 10).reshape(-1, 1)\nbase = np.hypot(x, y)\nims = []\nfor add in np.arange(15):\n    ims.append((plt.pcolor(x, y, base + add, norm=plt.Normalize(0, 30)),))\n\nim_ani = animation.ArtistAnimation(fig2, ims, interval=50, repeat_delay=3000,\n                                   blit=True)\n# To save this second animation with some metadata, use the following command:\n# im_ani.save('im.mp4', metadata={'artist':'Guido'})\n\nplt.show()"
      ]
    }
  ],
  "nbformat_minor": 0
}