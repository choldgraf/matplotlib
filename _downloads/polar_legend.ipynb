{
  "nbformat": 4,
  "metadata": {
    "language_info": {
      "version": "3.5.2",
      "file_extension": ".py",
      "nbconvert_exporter": "python",
      "codemirror_mode": {
        "version": 3,
        "name": "ipython"
      },
      "pygments_lexer": "ipython3",
      "mimetype": "text/x-python",
      "name": "python"
    },
    "kernelspec": {
      "language": "python",
      "name": "python3",
      "display_name": "Python 3"
    }
  },
  "cells": [
    {
      "cell_type": "code",
      "outputs": [],
      "execution_count": null,
      "metadata": {
        "collapsed": false
      },
      "source": [
        "%matplotlib inline"
      ]
    },
    {
      "cell_type": "markdown",
      "source": [
        "\n# Polar Legend\n\n\n\n"
      ],
      "metadata": {}
    },
    {
      "cell_type": "code",
      "outputs": [],
      "execution_count": null,
      "metadata": {
        "collapsed": false
      },
      "source": [
        "import numpy as np\nfrom matplotlib.pyplot import figure, show, rc\n\n# radar green, solid grid lines\nrc('grid', color='#316931', linewidth=1, linestyle='-')\nrc('xtick', labelsize=15)\nrc('ytick', labelsize=15)\n\n# force square figure and square axes looks better for polar, IMO\nfig = figure(figsize=(8, 8))\nax = fig.add_axes([0.1, 0.1, 0.8, 0.8],\n                  projection='polar', facecolor='#d5de9c')\n\nr = np.arange(0, 3.0, 0.01)\ntheta = 2*np.pi*r\nax.plot(theta, r, color='#ee8d18', lw=3, label='a line')\nax.plot(0.5*theta, r, color='blue', ls='--', lw=3, label='another line')\nax.legend()\n\nshow()"
      ]
    }
  ],
  "nbformat_minor": 0
}