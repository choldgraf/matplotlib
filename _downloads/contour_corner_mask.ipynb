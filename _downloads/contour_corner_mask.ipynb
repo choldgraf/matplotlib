{
  "nbformat": 4,
  "metadata": {
    "language_info": {
      "version": "3.5.2",
      "file_extension": ".py",
      "nbconvert_exporter": "python",
      "codemirror_mode": {
        "version": 3,
        "name": "ipython"
      },
      "pygments_lexer": "ipython3",
      "mimetype": "text/x-python",
      "name": "python"
    },
    "kernelspec": {
      "language": "python",
      "name": "python3",
      "display_name": "Python 3"
    }
  },
  "cells": [
    {
      "cell_type": "code",
      "outputs": [],
      "execution_count": null,
      "metadata": {
        "collapsed": false
      },
      "source": [
        "%matplotlib inline"
      ]
    },
    {
      "cell_type": "markdown",
      "source": [
        "\n# Contour Corner Mask\n\n\nIllustrate the difference between corner_mask=False and corner_mask=True\nfor masked contour plots.\n\n"
      ],
      "metadata": {}
    },
    {
      "cell_type": "code",
      "outputs": [],
      "execution_count": null,
      "metadata": {
        "collapsed": false
      },
      "source": [
        "import matplotlib.pyplot as plt\nimport numpy as np\n\n# Data to plot.\nx, y = np.meshgrid(np.arange(7), np.arange(10))\nz = np.sin(0.5*x)*np.cos(0.52*y)\n\n# Mask various z values.\nmask = np.zeros_like(z, dtype=np.bool)\nmask[2, 3:5] = True\nmask[3:5, 4] = True\nmask[7, 2] = True\nmask[5, 0] = True\nmask[0, 6] = True\nz = np.ma.array(z, mask=mask)\n\ncorner_masks = [False, True]\nfor i, corner_mask in enumerate(corner_masks):\n    plt.subplot(1, 2, i+1)\n    cs = plt.contourf(x, y, z, corner_mask=corner_mask)\n    plt.contour(cs, colors='k')\n    plt.title('corner_mask = {0}'.format(corner_mask))\n\n    # Plot grid.\n    plt.grid(c='k', ls='-', alpha=0.3)\n\n    # Indicate masked points with red circles.\n    plt.plot(np.ma.array(x, mask=~mask), y, 'ro')\n\nplt.show()"
      ]
    }
  ],
  "nbformat_minor": 0
}