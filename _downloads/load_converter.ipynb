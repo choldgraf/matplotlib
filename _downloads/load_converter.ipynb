{
  "nbformat": 4,
  "metadata": {
    "language_info": {
      "version": "3.5.2",
      "file_extension": ".py",
      "nbconvert_exporter": "python",
      "codemirror_mode": {
        "version": 3,
        "name": "ipython"
      },
      "pygments_lexer": "ipython3",
      "mimetype": "text/x-python",
      "name": "python"
    },
    "kernelspec": {
      "language": "python",
      "name": "python3",
      "display_name": "Python 3"
    }
  },
  "cells": [
    {
      "cell_type": "code",
      "outputs": [],
      "execution_count": null,
      "metadata": {
        "collapsed": false
      },
      "source": [
        "%matplotlib inline"
      ]
    },
    {
      "cell_type": "markdown",
      "source": [
        "\n# Load Converter\n\n\n\n"
      ],
      "metadata": {}
    },
    {
      "cell_type": "code",
      "outputs": [],
      "execution_count": null,
      "metadata": {
        "collapsed": false
      },
      "source": [
        "from __future__ import print_function\nimport numpy as np\nimport matplotlib.pyplot as plt\nimport matplotlib.cbook as cbook\nimport matplotlib.dates as mdates\nfrom matplotlib.dates import bytespdate2num\n\ndatafile = cbook.get_sample_data('msft.csv', asfileobj=False)\nprint('loading', datafile)\n\ndates, closes = np.loadtxt(datafile, delimiter=',',\n                           converters={0: bytespdate2num('%d-%b-%y')},\n                           skiprows=1, usecols=(0, 2), unpack=True)\n\nfig = plt.figure()\nax = fig.add_subplot(111)\nax.plot_date(dates, closes, '-')\nfig.autofmt_xdate()\nplt.show()"
      ]
    }
  ],
  "nbformat_minor": 0
}