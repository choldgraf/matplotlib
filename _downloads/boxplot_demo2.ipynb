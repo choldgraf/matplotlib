{
  "nbformat": 4,
  "metadata": {
    "language_info": {
      "version": "3.5.2",
      "file_extension": ".py",
      "nbconvert_exporter": "python",
      "codemirror_mode": {
        "version": 3,
        "name": "ipython"
      },
      "pygments_lexer": "ipython3",
      "mimetype": "text/x-python",
      "name": "python"
    },
    "kernelspec": {
      "language": "python",
      "name": "python3",
      "display_name": "Python 3"
    }
  },
  "cells": [
    {
      "cell_type": "code",
      "outputs": [],
      "execution_count": null,
      "metadata": {
        "collapsed": false
      },
      "source": [
        "%matplotlib inline"
      ]
    },
    {
      "cell_type": "markdown",
      "source": [
        "\n# Boxplot Demo2\n\n\nThanks Josh Hemann for the example\n\n"
      ],
      "metadata": {}
    },
    {
      "cell_type": "code",
      "outputs": [],
      "execution_count": null,
      "metadata": {
        "collapsed": false
      },
      "source": [
        "import numpy as np\nimport matplotlib.pyplot as plt\nfrom matplotlib.patches import Polygon\n\n\n# Generate some data from five different probability distributions,\n# each with different characteristics. We want to play with how an IID\n# bootstrap resample of the data preserves the distributional\n# properties of the original sample, and a boxplot is one visual tool\n# to make this assessment\nnumDists = 5\nrandomDists = ['Normal(1,1)', ' Lognormal(1,1)', 'Exp(1)', 'Gumbel(6,4)',\n               'Triangular(2,9,11)']\nN = 500\n\n# Fixing random state for reproducibility\nnp.random.seed(19680801)\n\nnorm = np.random.normal(1, 1, N)\nlogn = np.random.lognormal(1, 1, N)\nexpo = np.random.exponential(1, N)\ngumb = np.random.gumbel(6, 4, N)\ntria = np.random.triangular(2, 9, 11, N)\n\n# Generate some random indices that we'll use to resample the original data\n# arrays. For code brevity, just use the same random indices for each array\nbootstrapIndices = np.random.random_integers(0, N - 1, N)\nnormBoot = norm[bootstrapIndices]\nexpoBoot = expo[bootstrapIndices]\ngumbBoot = gumb[bootstrapIndices]\nlognBoot = logn[bootstrapIndices]\ntriaBoot = tria[bootstrapIndices]\n\ndata = [norm, normBoot, logn, lognBoot, expo, expoBoot, gumb, gumbBoot,\n        tria, triaBoot]\n\nfig, ax1 = plt.subplots(figsize=(10, 6))\nfig.canvas.set_window_title('A Boxplot Example')\nplt.subplots_adjust(left=0.075, right=0.95, top=0.9, bottom=0.25)\n\nbp = plt.boxplot(data, notch=0, sym='+', vert=1, whis=1.5)\nplt.setp(bp['boxes'], color='black')\nplt.setp(bp['whiskers'], color='black')\nplt.setp(bp['fliers'], color='red', marker='+')\n\n# Add a horizontal grid to the plot, but make it very light in color\n# so we can use it for reading data values but not be distracting\nax1.yaxis.grid(True, linestyle='-', which='major', color='lightgrey',\n               alpha=0.5)\n\n# Hide these grid behind plot objects\nax1.set_axisbelow(True)\nax1.set_title('Comparison of IID Bootstrap Resampling Across Five Distributions')\nax1.set_xlabel('Distribution')\nax1.set_ylabel('Value')\n\n# Now fill the boxes with desired colors\nboxColors = ['darkkhaki', 'royalblue']\nnumBoxes = numDists*2\nmedians = list(range(numBoxes))\nfor i in range(numBoxes):\n    box = bp['boxes'][i]\n    boxX = []\n    boxY = []\n    for j in range(5):\n        boxX.append(box.get_xdata()[j])\n        boxY.append(box.get_ydata()[j])\n    boxCoords = list(zip(boxX, boxY))\n    # Alternate between Dark Khaki and Royal Blue\n    k = i % 2\n    boxPolygon = Polygon(boxCoords, facecolor=boxColors[k])\n    ax1.add_patch(boxPolygon)\n    # Now draw the median lines back over what we just filled in\n    med = bp['medians'][i]\n    medianX = []\n    medianY = []\n    for j in range(2):\n        medianX.append(med.get_xdata()[j])\n        medianY.append(med.get_ydata()[j])\n        plt.plot(medianX, medianY, 'k')\n        medians[i] = medianY[0]\n    # Finally, overplot the sample averages, with horizontal alignment\n    # in the center of each box\n    plt.plot([np.average(med.get_xdata())], [np.average(data[i])],\n             color='w', marker='*', markeredgecolor='k')\n\n# Set the axes ranges and axes labels\nax1.set_xlim(0.5, numBoxes + 0.5)\ntop = 40\nbottom = -5\nax1.set_ylim(bottom, top)\nxtickNames = plt.setp(ax1, xticklabels=np.repeat(randomDists, 2))\nplt.setp(xtickNames, rotation=45, fontsize=8)\n\n# Due to the Y-axis scale being different across samples, it can be\n# hard to compare differences in medians across the samples. Add upper\n# X-axis tick labels with the sample medians to aid in comparison\n# (just use two decimal places of precision)\npos = np.arange(numBoxes) + 1\nupperLabels = [str(np.round(s, 2)) for s in medians]\nweights = ['bold', 'semibold']\nfor tick, label in zip(range(numBoxes), ax1.get_xticklabels()):\n    k = tick % 2\n    ax1.text(pos[tick], top - (top*0.05), upperLabels[tick],\n             horizontalalignment='center', size='x-small', weight=weights[k],\n             color=boxColors[k])\n\n# Finally, add a basic legend\nplt.figtext(0.80, 0.08, str(N) + ' Random Numbers',\n            backgroundcolor=boxColors[0], color='black', weight='roman',\n            size='x-small')\nplt.figtext(0.80, 0.045, 'IID Bootstrap Resample',\n            backgroundcolor=boxColors[1],\n            color='white', weight='roman', size='x-small')\nplt.figtext(0.80, 0.015, '*', color='white', backgroundcolor='silver',\n            weight='roman', size='medium')\nplt.figtext(0.815, 0.013, ' Average Value', color='black', weight='roman',\n            size='x-small')\n\nplt.show()"
      ]
    }
  ],
  "nbformat_minor": 0
}