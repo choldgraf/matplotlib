{
  "cells": [
    {
      "cell_type": "code",
      "execution_count": null,
      "metadata": {
        "collapsed": false
      },
      "outputs": [],
      "source": [
        "%matplotlib inline"
      ]
    },
    {
      "cell_type": "markdown",
      "metadata": {},
      "source": [
        "\n# Psd Demo\n\n\n\n"
      ]
    },
    {
      "cell_type": "code",
      "execution_count": null,
      "metadata": {
        "collapsed": false
      },
      "outputs": [],
      "source": [
        "import matplotlib.pyplot as plt\nimport numpy as np\n\n# Fixing random state for reproducibility\nnp.random.seed(19680801)\n\n\ndt = 0.01\nt = np.arange(0, 10, dt)\nnse = np.random.randn(len(t))\nr = np.exp(-t/0.05)\n\ncnse = np.convolve(nse, r)*dt\ncnse = cnse[:len(t)]\ns = 0.1*np.sin(2*np.pi*t) + cnse\n\nplt.subplot(211)\nplt.plot(t, s)\nplt.subplot(212)\nplt.psd(s, 512, 1/dt)\n\nplt.show()\n\n\"\"\"\n% compare with MATLAB\ndt = 0.01;\nt = [0:dt:10];\nnse = randn(size(t));\nr = exp(-t/0.05);\ncnse = conv(nse, r)*dt;\ncnse = cnse(1:length(t));\ns = 0.1*sin(2*pi*t) + cnse;\n\nsubplot(211)\nplot(t,s)\nsubplot(212)\npsd(s, 512, 1/dt)\n\n\"\"\""
      ]
    }
  ],
  "metadata": {
    "kernelspec": {
      "display_name": "Python 3",
      "language": "python",
      "name": "python3"
    },
    "language_info": {
      "codemirror_mode": {
        "name": "ipython",
        "version": 3
      },
      "file_extension": ".py",
      "mimetype": "text/x-python",
      "name": "python",
      "nbconvert_exporter": "python",
      "pygments_lexer": "ipython3",
      "version": "3.6.0"
    }
  },
  "nbformat": 4,
  "nbformat_minor": 0
}