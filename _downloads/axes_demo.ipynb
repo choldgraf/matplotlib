{
  "nbformat": 4,
  "metadata": {
    "language_info": {
      "version": "3.5.2",
      "file_extension": ".py",
      "nbconvert_exporter": "python",
      "codemirror_mode": {
        "version": 3,
        "name": "ipython"
      },
      "pygments_lexer": "ipython3",
      "mimetype": "text/x-python",
      "name": "python"
    },
    "kernelspec": {
      "language": "python",
      "name": "python3",
      "display_name": "Python 3"
    }
  },
  "cells": [
    {
      "cell_type": "code",
      "outputs": [],
      "execution_count": null,
      "metadata": {
        "collapsed": false
      },
      "source": [
        "%matplotlib inline"
      ]
    },
    {
      "cell_type": "markdown",
      "source": [
        "\n# Axes Demo\n\n\n\n"
      ],
      "metadata": {}
    },
    {
      "cell_type": "code",
      "outputs": [],
      "execution_count": null,
      "metadata": {
        "collapsed": false
      },
      "source": [
        "import matplotlib.pyplot as plt\nimport numpy as np\n\n# Fixing random state for reproducibility\nnp.random.seed(19680801)\n\n\n# create some data to use for the plot\ndt = 0.001\nt = np.arange(0.0, 10.0, dt)\nr = np.exp(-t[:1000]/0.05)               # impulse response\nx = np.random.randn(len(t))\ns = np.convolve(x, r)[:len(x)]*dt  # colored noise\n\n# the main axes is subplot(111) by default\nplt.plot(t, s)\nplt.axis([0, 1, 1.1 * np.min(s), 2 * np.max(s)])\nplt.xlabel('time (s)')\nplt.ylabel('current (nA)')\nplt.title('Gaussian colored noise')\n\n# this is an inset axes over the main axes\na = plt.axes([.65, .6, .2, .2], facecolor='y')\nn, bins, patches = plt.hist(s, 400, normed=1)\nplt.title('Probability')\nplt.xticks([])\nplt.yticks([])\n\n# this is another inset axes over the main axes\na = plt.axes([0.2, 0.6, .2, .2], facecolor='y')\nplt.plot(t[:len(r)], r)\nplt.title('Impulse response')\nplt.xlim(0, 0.2)\nplt.xticks([])\nplt.yticks([])\n\nplt.show()"
      ]
    }
  ],
  "nbformat_minor": 0
}